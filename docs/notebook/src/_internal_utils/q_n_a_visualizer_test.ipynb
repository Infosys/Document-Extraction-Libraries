{
    "cells": [
        {
            "cell_type": "code",
            "execution_count": null,
            "id": "675de6ee-7023-4c3a-b53b-645e52750345",
            "metadata": {},
            "outputs": [],
            "source": [
                "# ===============================================================================================================#\n",
                "# Copyright 2024 Infosys Ltd.                                                                          #\n",
                "# Use of this source code is governed by Apache License Version 2.0 that can be found in the LICENSE file or at  #\n",
                "# http://www.apache.org/licenses/                                                                                #\n",
                "# ===============================================================================================================#"
            ]
        },
        {
            "cell_type": "code",
            "execution_count": null,
            "id": "eaeddded-00aa-4597-b2cb-9735506f50f5",
            "metadata": {},
            "outputs": [],
            "source": [
                "from q_n_a_visualizer import QnAVisualizer\n",
                "from IPython.display import display, HTML"
            ]
        },
        {
            "cell_type": "code",
            "execution_count": null,
            "id": "69ece50c-3cd9-494f-a626-b7a48a2f220c",
            "metadata": {
                "tags": []
            },
            "outputs": [],
            "source": [
                "qna_visualizer = QnAVisualizer()\n",
                "\n",
                "def form_submit_button_clicked(_):\n",
                "    # Custom processing logic to be added here. Sample below.\n",
                "    input_text = qna_visualizer.get_input_text()\n",
                "    qna_visualizer.set_output_text('Input text =' + input_text)\n",
                "    \n",
                "def count_tokens(text):\n",
                "    # Custom token count logic to be added here. Sample below.\n",
                "    count = len(text)\n",
                "    return count\n",
                "    \n",
                "\n",
                "qna_visualizer.on_form_submit_callback(form_submit_button_clicked)\n",
                "qna_visualizer.set_token_counter_fn(count_tokens)\n",
                "qna_visualizer.show_ui()"
            ]
        }
    ],
    "metadata": {
        "kernelspec": {
            "display_name": "Python 3 (ipykernel)",
            "language": "python",
            "name": "python3"
        },
        "language_info": {
            "codemirror_mode": {
                "name": "ipython",
                "version": 3
            },
            "file_extension": ".py",
            "mimetype": "text/x-python",
            "name": "python",
            "nbconvert_exporter": "python",
            "pygments_lexer": "ipython3",
            "version": "3.11.2"
        }
    },
    "nbformat": 4,
    "nbformat_minor": 5
}