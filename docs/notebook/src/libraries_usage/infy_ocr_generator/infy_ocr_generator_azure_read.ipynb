{
    "cells": [
        {
            "cell_type": "code",
            "execution_count": null,
            "id": "ef4e4b9c-939f-4f13-bf45-3c1640a9cdf6",
            "metadata": {},
            "outputs": [],
            "source": [
                "# ===============================================================================================================#\n",
                "# Copyright 2022 Infosys Ltd.                                                                          #\n",
                "# Use of this source code is governed by Apache License Version 2.0 that can be found in the LICENSE file or at  #\n",
                "# http://www.apache.org/licenses/                                                                                #\n",
                "# ===============================================================================================================#"
            ]
        },
        {
            "cell_type": "markdown",
            "id": "c2dacbdf-0876-441d-bafb-777b25756a35",
            "metadata": {},
            "source": [
                "## 1. Preparation"
            ]
        },
        {
            "cell_type": "code",
            "execution_count": null,
            "id": "6df368a6-faf1-47e0-9ee1-cba2307e382a",
            "metadata": {},
            "outputs": [],
            "source": [
                "import json\n",
                "import time\n",
                "from _internal_utils.demo_helper import DemoHelper\n",
                "import pandas as pd\n",
                "from IPython.display import Image"
            ]
        },
        {
            "cell_type": "markdown",
            "id": "a7b91651-5497-4ab7-a1b4-15f36c0d72c4",
            "metadata": {},
            "source": [
                "#### <span style='color:blue'>Enter image paths</span>"
            ]
        },
        {
            "cell_type": "code",
            "execution_count": null,
            "id": "f4039875-9a77-491e-8191-f3b31e2a2e7c",
            "metadata": {},
            "outputs": [],
            "source": [
                "IMAGE_PATHS=['./data/coi_1.jpg','./data/coi_2.jpg']"
            ]
        },
        {
            "cell_type": "markdown",
            "id": "ffe6180e-9fc6-41e6-9079-7502b0cc3c93",
            "metadata": {},
            "source": [
                "#### Visualize"
            ]
        },
        {
            "cell_type": "code",
            "execution_count": null,
            "id": "120c9168-09a7-41b7-8fbb-8780aa8a1828",
            "metadata": {},
            "outputs": [],
            "source": [
                "tab_widget = DemoHelper.create_tab_toolbar(IMAGE_PATHS)\n",
                "display(tab_widget)\n",
                "for idx, image_path in enumerate(IMAGE_PATHS):\n",
                "    with tab_widget.children[idx]:\n",
                "        display(Image(filename=image_path, width=1000, height=50))   "
            ]
        },
        {
            "cell_type": "markdown",
            "id": "c33a79b0-c205-487b-87fd-8ab4955969db",
            "metadata": {},
            "source": [
                "## 2. Initialization"
            ]
        },
        {
            "cell_type": "markdown",
            "id": "7063cc83-51c9-40b3-9bd2-ac4e97ff1739",
            "metadata": {},
            "source": [
                "#### <span style='color:blue'>Create new instance with desired OCR service provider</span>"
            ]
        },
        {
            "cell_type": "code",
            "execution_count": null,
            "id": "f01b0e9d-7f07-426f-ad1e-8adaaa647f39",
            "metadata": {},
            "outputs": [],
            "source": [
                "import json\n",
                "import logging\n",
                "import os\n",
                "\n",
                "from infy_ocr_generator import ocr_generator\n",
                "from infy_ocr_generator.providers.azure_read_ocr_data_service_provider import AzureReadOcrDataServiceProvider\n",
                "\n",
                "if not os.path.exists(\"./logs\"):\n",
                "    os.makedirs(\"./logs\")\n",
                "logging.basicConfig(\n",
                "    filename=(\"./logs\" + \"/app_log.log\"),\n",
                "    format=\"%(asctime)s- %(levelname)s- %(message)s\",\n",
                "    level=logging.INFO,\n",
                "    datefmt=\"%d-%b-%y %H:%M:%S\",\n",
                ")\n",
                "logger = logging.getLogger()\n",
                "\n",
                "CONFIG_PARAMS_DICT = {\n",
                "    'azure': {\n",
                "        'computer_vision': {\n",
                "            'subscription_key': '<Enter API key>',\n",
                "            'api_read': {\n",
                "                'url': 'https://<Enter host name>/vision/v3.2/read/analyze'\n",
                "            }\n",
                "        }\n",
                "    }\n",
                "}\n",
                "\n",
                "azure_read_provider = AzureReadOcrDataServiceProvider(\n",
                "    config_params_dict=CONFIG_PARAMS_DICT,\n",
                "    overwrite=True,\n",
                "    logger=logger\n",
                ")\n",
                "ocr_generator_obj = ocr_generator.OcrGenerator(data_service_provider=azure_read_provider)"
            ]
        },
        {
            "cell_type": "markdown",
            "id": "56c7bf15-f77d-4b1b-ade1-471369d818cd",
            "metadata": {},
            "source": [
                "## 3. API - submit_request(), receive_response() AND generate()\n",
                "**_Note: These APIs must be called in sequence and as a group_**"
            ]
        },
        {
            "cell_type": "markdown",
            "id": "e6550115-a9b3-4ccd-ad8f-339a06514f22",
            "metadata": {},
            "source": [
                "### 3.1. Example"
            ]
        },
        {
            "cell_type": "code",
            "execution_count": null,
            "id": "0975d6fc-d9ab-4525-b586-322c7c685129",
            "metadata": {},
            "outputs": [],
            "source": [
                "submit_req_result = ocr_generator_obj.submit_request(\n",
                "    doc_data_list=[\n",
                "        {\n",
                "            \"doc_path\":doc_file_path,\n",
                "            \"pages\": index+1\n",
                "        } for index, doc_file_path in enumerate(IMAGE_PATHS)\n",
                "    ]\n",
                ")"
            ]
        },
        {
            "cell_type": "markdown",
            "id": "cbc9a42e-bf19-4534-b999-53fbf47fcd16",
            "metadata": {},
            "source": [
                "##### <span style='color:blue'>Wait for few seconds before next call...</span>"
            ]
        },
        {
            "cell_type": "code",
            "execution_count": null,
            "id": "614814cc-eebb-4f28-9831-1492cfa6f622",
            "metadata": {},
            "outputs": [],
            "source": [
                "time.sleep(7)"
            ]
        },
        {
            "cell_type": "code",
            "execution_count": null,
            "id": "f3a1a6fc-c637-49f1-9a78-39a219f10780",
            "metadata": {},
            "outputs": [],
            "source": [
                "re_res_result = ocr_generator_obj.receive_response(submit_req_result)"
            ]
        },
        {
            "cell_type": "code",
            "execution_count": null,
            "id": "cff96e9c-bd16-4667-a159-768e7de2b8d3",
            "metadata": {},
            "outputs": [],
            "source": [
                "ocr_result_list = ocr_generator_obj.generate(\n",
                "    api_response_list=re_res_result\n",
                ")"
            ]
        },
        {
            "cell_type": "markdown",
            "id": "7b5dd1ee-7324-4d11-bfff-14d76548a1d8",
            "metadata": {},
            "source": [
                "#### Output"
            ]
        },
        {
            "cell_type": "code",
            "execution_count": null,
            "id": "cae1cc92-1cf0-4b7a-8943-278d33da1bd1",
            "metadata": {},
            "outputs": [],
            "source": [
                "print(json.dumps(ocr_result_list, indent=4))"
            ]
        },
        {
            "cell_type": "markdown",
            "id": "bcb27188-a52e-44b9-921d-465a2b2f0cae",
            "metadata": {},
            "source": [
                "#### Visualize"
            ]
        },
        {
            "cell_type": "code",
            "execution_count": null,
            "id": "c43b0b76-fda3-47b5-8373-807251942da6",
            "metadata": {},
            "outputs": [],
            "source": [
                "OCR_PATHS = [x['output_doc'] for x in ocr_result_list]\n",
                "tab_widget = DemoHelper.create_tab_toolbar(OCR_PATHS)\n",
                "display(tab_widget)\n",
                "for idx, ocr_path in enumerate(OCR_PATHS):\n",
                "    with tab_widget.children[idx]:\n",
                "        print(DemoHelper.get_shortened_text(DemoHelper.read_file(ocr_path),max_line_count=50))"
            ]
        }
    ],
    "metadata": {
        "language_info": {
            "name": "python"
        }
    },
    "nbformat": 4,
    "nbformat_minor": 5
}