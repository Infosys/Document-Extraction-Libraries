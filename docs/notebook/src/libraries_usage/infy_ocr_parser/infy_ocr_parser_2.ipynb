{
    "cells": [
        {
            "cell_type": "code",
            "execution_count": null,
            "id": "8bac72be-dc6f-4727-b1db-1c6fa515e8e6",
            "metadata": {},
            "outputs": [],
            "source": [
                "# ===============================================================================================================#\n",
                "# Copyright 2022 Infosys Ltd.                                                                          #\n",
                "# Use of this source code is governed by Apache License Version 2.0 that can be found in the LICENSE file or at  #\n",
                "# http://www.apache.org/licenses/                                                                                #\n",
                "# ===============================================================================================================#"
            ]
        },
        {
            "cell_type": "markdown",
            "id": "d3f9ee9e-dda6-450b-82c6-cd641a230806",
            "metadata": {},
            "source": [
                "## 1. Preparation"
            ]
        },
        {
            "cell_type": "code",
            "execution_count": null,
            "id": "e0444e95-4fa6-41b9-9c06-acd5b92065e0",
            "metadata": {},
            "outputs": [],
            "source": [
                "from _internal_utils.demo_helper import DemoHelper\n",
                "import pandas as pd\n",
                "from IPython.display import Image"
            ]
        },
        {
            "cell_type": "markdown",
            "id": "c470cae9-6e7e-46ab-83fb-141073aed341",
            "metadata": {},
            "source": [
                "#### <span style='color:blue'>Enter image and OCR file paths</span>"
            ]
        },
        {
            "cell_type": "code",
            "execution_count": null,
            "id": "5534085e-c549-4164-b20e-36d1b5930790",
            "metadata": {},
            "outputs": [],
            "source": [
                "IMAGE_PATHS=[\"./data/coi_1.jpg\", \"./data/coi_2.jpg\"]\n",
                "IMAGE_OCR_PATHS=['./data/coi_1.jpg.hocr', './data/coi_2.jpg.hocr']"
            ]
        },
        {
            "cell_type": "markdown",
            "id": "4058ed1b-27d1-4c88-88ba-d61d782534cd",
            "metadata": {},
            "source": [
                "#### Visualize"
            ]
        },
        {
            "cell_type": "code",
            "execution_count": null,
            "id": "700a7bc6-3c67-41c1-b9cb-47dfe2457fc6",
            "metadata": {},
            "outputs": [],
            "source": [
                "tab_widget = DemoHelper.create_tab_toolbar(IMAGE_PATHS)\n",
                "display(tab_widget)\n",
                "for idx, image_path in enumerate(IMAGE_PATHS):\n",
                "    with tab_widget.children[idx]:\n",
                "        display(Image(filename=image_path, width=1000, height=50))"
            ]
        },
        {
            "cell_type": "markdown",
            "id": "4224a997-21db-4ed0-8669-f7f63b67e4ac",
            "metadata": {},
            "source": [
                "## 2. Initialization"
            ]
        },
        {
            "cell_type": "markdown",
            "id": "aac3b252-f37e-4c7f-b619-24a93ed2a753",
            "metadata": {},
            "source": [
                "#### <span style='color:blue'>Create new instance with desired OCR service provider</span>"
            ]
        },
        {
            "cell_type": "code",
            "execution_count": null,
            "id": "2117a823-a56e-4b64-b552-2c751bc3efaa",
            "metadata": {},
            "outputs": [],
            "source": [
                "import json\n",
                "import logging\n",
                "import os\n",
                "\n",
                "from infy_ocr_parser import ocr_parser\n",
                "from infy_ocr_parser.providers.tesseract_ocr_data_service_provider import TesseractOcrDataServiceProvider\n",
                "from infy_ocr_parser.providers.azure_read_ocr_data_service_provider import AzureReadOcrDataServiceProvider\n",
                "\n",
                "ocr_file_list = IMAGE_OCR_PATHS\n",
                "ocr_file_list = [os.path.abspath(ocr_file) for ocr_file in ocr_file_list]\n",
                "\n",
                "if not os.path.exists(\"./logs\"):\n",
                "    os.makedirs(\"./logs\")\n",
                "logging.basicConfig(\n",
                "    filename=(\"./logs\" + \"/app_log.log\"),\n",
                "    format=\"%(asctime)s- %(levelname)s- %(message)s\",\n",
                "    level=logging.INFO,\n",
                "    datefmt=\"%d-%b-%y %H:%M:%S\",\n",
                ")\n",
                "logger = logging.getLogger()\n",
                "\n",
                "# Uncomment below for Tesseract OCR service\n",
                "data_service_provider_obj = TesseractOcrDataServiceProvider()\n",
                "# Uncomment below for Azure OCR Read service\n",
                "# data_service_provider_obj = AzureReadOcrDataServiceProvider()\n",
                "\n",
                "ocr_parse_obj = ocr_parser.OcrParser(ocr_file_list=ocr_file_list,\n",
                "                                     data_service_provider=data_service_provider_obj,\n",
                "                                     logger=logger)"
            ]
        },
        {
            "cell_type": "markdown",
            "id": "84ce9a16-be28-402a-ad34-e97434ecf28d",
            "metadata": {},
            "source": [
                "#### <span style='color:blue'>Enter Within Bounding Box Coordinates</span>"
            ]
        },
        {
            "cell_type": "code",
            "execution_count": null,
            "id": "d76ffe1c-091b-475d-9a26-0cb998b29209",
            "metadata": {},
            "outputs": [],
            "source": [
                "# Format = [x,y,w,h]\n",
                "my_within_bbox = [100, 590, 590, 130]"
            ]
        },
        {
            "cell_type": "markdown",
            "id": "e01b9e55-f17d-4539-878c-0bff5dc65d6a",
            "metadata": {},
            "source": [
                "#### Visualize"
            ]
        },
        {
            "cell_type": "code",
            "execution_count": null,
            "id": "99b7b245-aa77-4312-9286-32887dee67d6",
            "metadata": {},
            "outputs": [],
            "source": [
                "img = DemoHelper.read_image(IMAGE_PATHS[0])\n",
                "img = DemoHelper.draw_bboxes_on_image(img, [my_within_bbox], border_thickness=4,\n",
                "                                         border_color = DemoHelper.Constants.COLOR_BLUE)\n",
                "img = DemoHelper.reduce_image_based_on_context(img, [my_within_bbox])\n",
                "\n",
                "DemoHelper.show_image(img)"
            ]
        },
        {
            "cell_type": "markdown",
            "id": "b89a9594-cb07-40fa-ab21-fd99c04e69b4",
            "metadata": {},
            "source": [
                "## 3. API - get_tokens_from_ocr()"
            ]
        },
        {
            "cell_type": "code",
            "execution_count": null,
            "id": "32d09520-78ac-4146-b3ba-a7f2d23c85cc",
            "metadata": {},
            "outputs": [],
            "source": [
                "TOKEN_TYPE_WORD=1\n",
                "TOKEN_TYPE_LINE=2\n",
                "TOKEN_TYPE_PHRASE=3"
            ]
        },
        {
            "cell_type": "markdown",
            "id": "e272a18d-19cc-46df-8a93-de8a626f8521",
            "metadata": {},
            "source": [
                "### 3.1 - Get `word` tokens for the given region and pages"
            ]
        },
        {
            "cell_type": "code",
            "execution_count": null,
            "id": "d89aee82-f606-44b2-94f5-81078da80933",
            "metadata": {},
            "outputs": [],
            "source": [
                "result = ocr_parse_obj.get_tokens_from_ocr(\n",
                "    token_type_value=TOKEN_TYPE_WORD, \n",
                "    within_bbox=my_within_bbox,\n",
                "    pages=[1]\n",
                ")"
            ]
        },
        {
            "cell_type": "markdown",
            "id": "d6ae1afe-6913-4dc5-a738-27bf241dec35",
            "metadata": {},
            "source": [
                "#### Output"
            ]
        },
        {
            "cell_type": "code",
            "execution_count": null,
            "id": "22cf3ef8-863c-4f5c-b56a-fe58cdae0173",
            "metadata": {},
            "outputs": [],
            "source": [
                "df = pd.json_normalize(result)\n",
                "print('No. of records found =', len(df))\n",
                "df"
            ]
        },
        {
            "cell_type": "markdown",
            "id": "64f44293-3bf9-4543-ab49-f083b131ea51",
            "metadata": {},
            "source": [
                "#### Visualize"
            ]
        },
        {
            "cell_type": "code",
            "execution_count": null,
            "id": "95c6ee3a-e29f-4ca5-85c4-b463feccf2d0",
            "metadata": {},
            "outputs": [],
            "source": [
                "# Get all tokens i.e. without any bounding box restrictions\n",
                "all_tokens = ocr_parse_obj.get_tokens_from_ocr(\n",
                "    token_type_value=1,     \n",
                "    pages=[1]\n",
                ")\n",
                "all_tokens_text_bboxes = [x['bbox'] for x in all_tokens]\n",
                "\n",
                "text_bboxes = [x['bbox'] for x in result]\n",
                "all_bboxes = text_bboxes + [my_within_bbox]\n",
                "img = DemoHelper.read_image(IMAGE_PATHS[0])\n",
                "img = DemoHelper.draw_bboxes_on_image(img, all_tokens_text_bboxes, border_color = DemoHelper.Constants.COLOR_GRAY)\n",
                "img = DemoHelper.draw_bboxes_on_image(img, [my_within_bbox], border_color = DemoHelper.Constants.COLOR_BLUE)\n",
                "img = DemoHelper.draw_bboxes_on_image(img, text_bboxes, border_color = DemoHelper.Constants.COLOR_RED)\n",
                "img = DemoHelper.reduce_image_based_on_context(img, all_bboxes)\n",
                "\n",
                "DemoHelper.show_image(img)"
            ]
        },
        {
            "cell_type": "markdown",
            "id": "a828b0df-191c-4a1b-8a97-06f08b99b701",
            "metadata": {},
            "source": [
                "### 3.2 - Get `phrase` tokens for the given region and pages"
            ]
        },
        {
            "cell_type": "code",
            "execution_count": null,
            "id": "4752dd8b-1ac7-4fb3-9b44-430c0a5d6acf",
            "metadata": {},
            "outputs": [],
            "source": [
                "result = ocr_parse_obj.get_tokens_from_ocr(\n",
                "    token_type_value=TOKEN_TYPE_PHRASE, \n",
                "    within_bbox=my_within_bbox,\n",
                "    pages=[1]\n",
                ")"
            ]
        },
        {
            "cell_type": "markdown",
            "id": "220b6c58-0a69-41ca-ab3c-8e005d1f764c",
            "metadata": {},
            "source": [
                "#### Output"
            ]
        },
        {
            "cell_type": "code",
            "execution_count": null,
            "id": "d1945268-0ed0-4e98-956f-b601701b094b",
            "metadata": {},
            "outputs": [],
            "source": [
                "df = pd.json_normalize(result)\n",
                "print('No. of records found =', len(df))\n",
                "df"
            ]
        },
        {
            "cell_type": "markdown",
            "id": "ef70948d-67db-413b-9699-47de6b32a6be",
            "metadata": {},
            "source": [
                "#### Visualize"
            ]
        },
        {
            "cell_type": "code",
            "execution_count": null,
            "id": "a857bc0d-c772-4a0d-bf11-87fa5383b903",
            "metadata": {},
            "outputs": [],
            "source": [
                "# Get all tokens i.e. without any bounding box restrictions\n",
                "all_tokens = ocr_parse_obj.get_tokens_from_ocr(\n",
                "    token_type_value=3,     \n",
                "    pages=[1]\n",
                ")\n",
                "all_tokens_text_bboxes = [x['bbox'] for x in all_tokens]\n",
                "\n",
                "text_bboxes = [x['bbox'] for x in result]\n",
                "all_bboxes = text_bboxes + [my_within_bbox]\n",
                "img = DemoHelper.read_image(IMAGE_PATHS[0])\n",
                "img = DemoHelper.draw_bboxes_on_image(img, all_tokens_text_bboxes, border_color = DemoHelper.Constants.COLOR_GRAY)\n",
                "img = DemoHelper.draw_bboxes_on_image(img, [my_within_bbox], border_color = DemoHelper.Constants.COLOR_BLUE)\n",
                "img = DemoHelper.draw_bboxes_on_image(img, text_bboxes, border_color = DemoHelper.Constants.COLOR_RED)\n",
                "img = DemoHelper.reduce_image_based_on_context(img, all_bboxes)\n",
                "\n",
                "DemoHelper.show_image(img)"
            ]
        },
        {
            "cell_type": "markdown",
            "id": "e4791bba-e399-4257-ad7c-3a212d3213a2",
            "metadata": {},
            "source": [
                "### 3.3 - Get `line` tokens for the given region and pages"
            ]
        },
        {
            "cell_type": "code",
            "execution_count": null,
            "id": "776d35d1-9222-4591-a007-503a3bf8280d",
            "metadata": {},
            "outputs": [],
            "source": [
                "result = ocr_parse_obj.get_tokens_from_ocr(\n",
                "    token_type_value=TOKEN_TYPE_LINE,\n",
                "    within_bbox=my_within_bbox,\n",
                "    pages=[1]\n",
                ")"
            ]
        },
        {
            "cell_type": "markdown",
            "id": "c570e2df-9ce3-4737-9b2d-ca741e5b1e37",
            "metadata": {},
            "source": [
                "#### Output"
            ]
        },
        {
            "cell_type": "code",
            "execution_count": null,
            "id": "2f89248b-4a70-40b9-b9c2-22ec60716935",
            "metadata": {},
            "outputs": [],
            "source": [
                "df = pd.json_normalize(result)\n",
                "print('No. of records found =', len(df))\n",
                "df[1:5]"
            ]
        },
        {
            "cell_type": "markdown",
            "id": "6aeb8784-0e27-4025-85af-66c6da2bc9eb",
            "metadata": {},
            "source": [
                "#### Visualize"
            ]
        },
        {
            "cell_type": "code",
            "execution_count": null,
            "id": "557d6b73-0bac-4804-bb43-1c33b6e858ab",
            "metadata": {},
            "outputs": [],
            "source": [
                "# Get all tokens i.e. without any bounding box restrictions\n",
                "all_tokens = ocr_parse_obj.get_tokens_from_ocr(\n",
                "    token_type_value=2,     \n",
                "    pages=[1]\n",
                ")\n",
                "all_tokens_text_bboxes = [x['bbox'] for x in all_tokens]\n",
                "\n",
                "text_bboxes = [x['bbox'] for x in result]\n",
                "all_bboxes = text_bboxes + [my_within_bbox]\n",
                "img = DemoHelper.read_image(IMAGE_PATHS[0])\n",
                "img = DemoHelper.draw_bboxes_on_image(img, all_tokens_text_bboxes, border_color = DemoHelper.Constants.COLOR_GRAY)\n",
                "img = DemoHelper.draw_bboxes_on_image(img, [my_within_bbox], border_color = DemoHelper.Constants.COLOR_BLUE)\n",
                "img = DemoHelper.draw_bboxes_on_image(img, text_bboxes, border_color = DemoHelper.Constants.COLOR_RED)\n",
                "img = DemoHelper.reduce_image_based_on_context(img, all_bboxes)\n",
                "\n",
                "DemoHelper.show_image(img)"
            ]
        }
    ],
    "metadata": {
        "language_info": {
            "name": "python"
        }
    },
    "nbformat": 4,
    "nbformat_minor": 5
}