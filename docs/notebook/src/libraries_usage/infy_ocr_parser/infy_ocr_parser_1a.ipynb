{
    "cells": [
        {
            "cell_type": "code",
            "execution_count": null,
            "id": "d7645848-fc68-4c5d-8730-114d18b95649",
            "metadata": {},
            "outputs": [],
            "source": [
                "# ===============================================================================================================#\n",
                "# Copyright 2022 Infosys Ltd.                                                                          #\n",
                "# Use of this source code is governed by Apache License Version 2.0 that can be found in the LICENSE file or at  #\n",
                "# http://www.apache.org/licenses/                                                                                #\n",
                "# ===============================================================================================================#"
            ]
        },
        {
            "cell_type": "markdown",
            "id": "bdbcc0f3-f73e-4261-afc4-1701596dc7f7",
            "metadata": {},
            "source": [
                "## 1. Preparation"
            ]
        },
        {
            "cell_type": "code",
            "execution_count": null,
            "id": "bc834e74-4481-48b1-a7da-9b238f0a9680",
            "metadata": {},
            "outputs": [],
            "source": [
                "from _internal_utils.demo_helper import DemoHelper\n",
                "import pandas as pd\n",
                "from IPython.display import Image"
            ]
        },
        {
            "cell_type": "markdown",
            "id": "a548a7f8-b8d3-47b5-94c4-8dfd7c3aa161",
            "metadata": {},
            "source": [
                "#### <span style='color:blue'>Enter image and OCR file paths</span>"
            ]
        },
        {
            "cell_type": "code",
            "execution_count": null,
            "id": "d27a07c8-6c79-4067-a49b-48860daf6e09",
            "metadata": {},
            "outputs": [],
            "source": [
                "IMAGE_PATHS=[\"./data/coi_1.jpg\", \"./data/coi_2.jpg\"]\n",
                "IMAGE_OCR_PATHS=['./data/coi_1.jpg.hocr', './data/coi_2.jpg.hocr']"
            ]
        },
        {
            "cell_type": "markdown",
            "id": "2472aef9-7372-4649-b4a6-83ab540d37f9",
            "metadata": {},
            "source": [
                "#### Visualize"
            ]
        },
        {
            "cell_type": "code",
            "execution_count": null,
            "id": "c745771c-592a-42a7-9ca1-b88f503362af",
            "metadata": {},
            "outputs": [],
            "source": [
                "tab_widget = DemoHelper.create_tab_toolbar(IMAGE_PATHS)\n",
                "display(tab_widget)\n",
                "for idx, image_path in enumerate(IMAGE_PATHS):\n",
                "    with tab_widget.children[idx]:\n",
                "        display(Image(filename=image_path, width=1000, height=50))"
            ]
        },
        {
            "cell_type": "markdown",
            "id": "0d594a29-2f57-440e-8d8a-7e8779b9e2ab",
            "metadata": {},
            "source": [
                "<!-- #### Util Method to Plot response region on Image -->"
            ]
        },
        {
            "cell_type": "markdown",
            "id": "4224a997-21db-4ed0-8669-f7f63b67e4ac",
            "metadata": {},
            "source": [
                "## 2. Initialization"
            ]
        },
        {
            "cell_type": "markdown",
            "id": "f74d7af4-2ef6-4713-b0f7-3c93acb681d9",
            "metadata": {},
            "source": [
                "#### <span style='color:blue'>Create new instance with desired OCR service provider</span>"
            ]
        },
        {
            "cell_type": "markdown",
            "id": "0a703c6d-c3cb-4c42-810b-b8c0fac0c22a",
            "metadata": {
                "tags": []
            },
            "source": [
                "<!-- ### 1.1. Example -  Create Instance - Without logging -->"
            ]
        },
        {
            "cell_type": "code",
            "execution_count": null,
            "id": "b8756962-3066-4ec1-be58-5a2b3ca6a76f",
            "metadata": {},
            "outputs": [],
            "source": [
                "import json\n",
                "import logging\n",
                "import os\n",
                "\n",
                "from infy_ocr_parser import ocr_parser\n",
                "from infy_ocr_parser.providers.tesseract_ocr_data_service_provider import TesseractOcrDataServiceProvider\n",
                "\n",
                "ocr_file_list = IMAGE_OCR_PATHS\n",
                "\n",
                "if not os.path.exists(\"./logs\"):\n",
                "    os.makedirs(\"./logs\")\n",
                "logging.basicConfig(\n",
                "    filename=(\"./logs\" + \"/app_log.log\"),\n",
                "    format=\"%(asctime)s- %(levelname)s- %(message)s\",\n",
                "    level=logging.INFO,\n",
                "    datefmt=\"%d-%b-%y %H:%M:%S\",\n",
                ")\n",
                "logger = logging.getLogger()\n",
                "data_service_provider_obj = TesseractOcrDataServiceProvider()\n",
                "\n",
                "ocr_parse_obj = ocr_parser.OcrParser(ocr_file_list=ocr_file_list,\n",
                "                                     data_service_provider=data_service_provider_obj,\n",
                "                                     logger=logger)"
            ]
        },
        {
            "cell_type": "markdown",
            "id": "1ce048bf-27d4-4405-b2b9-6089d4a84039",
            "metadata": {},
            "source": [
                "## 3. API - get_bbox_for()"
            ]
        },
        {
            "cell_type": "markdown",
            "id": "8f94af3c-3c88-4338-a851-91cfd8cc3214",
            "metadata": {},
            "source": [
                "### 3.1. Single-line anchor text match using 'regex' method"
            ]
        },
        {
            "cell_type": "code",
            "execution_count": null,
            "id": "60d0c0f5-349f-4002-b44f-2c019470da42",
            "metadata": {},
            "outputs": [],
            "source": [
                "reg_def_dict_list=[\n",
                "    {\n",
                "        \"anchorText\": [\n",
                "            \"^Insurer.?[1-4]?\"\n",
                "        ],\n",
                "        \"anchorTextMatch\":{\n",
                "            'method': 'regex'\n",
                "        },\n",
                "        \"anchorPoint1\": {\n",
                "            \"left\": 0,\n",
                "            \"top\": 0,\n",
                "            \"right\": None,\n",
                "            \"bottom\": None},\n",
                "        \"anchorPoint2\": {\n",
                "            \"left\": None,\n",
                "            \"top\": None,\n",
                "            \"right\": 0,\n",
                "            \"bottom\": 0\n",
                "        }\n",
                "    }\n",
                "]\n",
                "result = ocr_parse_obj.get_bbox_for(reg_def_dict_list)"
            ]
        },
        {
            "cell_type": "markdown",
            "id": "8c30cf22-e292-43ac-8415-a08c6e95b260",
            "metadata": {},
            "source": [
                "#### Output"
            ]
        },
        {
            "cell_type": "code",
            "execution_count": null,
            "id": "367ddd45-4edd-4a70-a2b7-ab0a9068a140",
            "metadata": {},
            "outputs": [],
            "source": [
                "# print(json.dumps(result, indent=4))"
            ]
        },
        {
            "cell_type": "markdown",
            "id": "d849d9e7-787c-478f-bdde-a6268348b441",
            "metadata": {},
            "source": [
                "#### Visualize"
            ]
        },
        {
            "cell_type": "code",
            "execution_count": null,
            "id": "2693857f-c0f3-4d19-8446-5619216be5c3",
            "metadata": {},
            "outputs": [],
            "source": [
                "DemoHelper.visualize_get_bbox_for_result(result, IMAGE_PATHS)"
            ]
        },
        {
            "cell_type": "markdown",
            "id": "968f4506-73f9-4a1f-b25a-0c01ffa6dfc7",
            "metadata": {},
            "source": [
                "1. Using `anchorText` will get right side of value region by finding two rectangle points.\n",
                "1. For the 1st point use `anchorPoint1` and here it is `top-left`(0, 0) corner of `anchorText`.\n",
                "1. For the 2nd point use `anchorPoint2` and from `bottom-right`(0, 0) corner of `anchorText`, move 2 px down and 2 px right."
            ]
        },
        {
            "cell_type": "markdown",
            "id": "553615f7-9886-4a1a-a6a7-33c34d8e554b",
            "metadata": {},
            "source": [
                "### 3.2. Single-line and Two anchor text match using 'regex' method"
            ]
        },
        {
            "cell_type": "code",
            "execution_count": null,
            "id": "8e00c9c4-0078-4274-a2eb-0645370d5ef0",
            "metadata": {},
            "outputs": [],
            "source": [
                "reg_def_dict_list = [\n",
                "    {\n",
                "        \"anchorText\": [\n",
                "            \"^Payor\"\n",
                "        ],\n",
                "        \"anchorTextMatch\":{\n",
                "            'method': 'regex'\n",
                "        },\n",
                "        \"anchorPoint1\": {\n",
                "            \"left\": 0, \n",
                "            \"top\": None,\n",
                "            \"right\": None, \n",
                "            \"bottom\": 0\n",
                "        }\n",
                "    },\n",
                "    {\n",
                "        \"anchorText\": [\n",
                "            \"^Insured\"\n",
                "        ],\n",
                "        \"anchorTextMatch\":{\n",
                "            'method': 'regex'\n",
                "        },\n",
                "        \"anchorPoint1\": {\n",
                "            \"left\": None, \n",
                "            \"top\": 0,\n",
                "            \"right\": \"30%r\", \n",
                "            \"bottom\": None\n",
                "        }\n",
                "    }\n",
                "]\n",
                "result = ocr_parse_obj.get_bbox_for(reg_def_dict_list)"
            ]
        },
        {
            "cell_type": "markdown",
            "id": "b716a100-e588-49b0-b5a9-dcd17086a45a",
            "metadata": {},
            "source": [
                "#### Output"
            ]
        },
        {
            "cell_type": "code",
            "execution_count": null,
            "id": "c6f874e3-d19f-4ac4-8a06-7541b04a9043",
            "metadata": {},
            "outputs": [],
            "source": [
                "# print(json.dumps(result, indent=4))"
            ]
        },
        {
            "cell_type": "markdown",
            "id": "e11a2fd1-7a09-4f1e-ae10-06e09f0148df",
            "metadata": {},
            "source": [
                "#### Visualize"
            ]
        },
        {
            "cell_type": "code",
            "execution_count": null,
            "id": "ba7efcc8-5fc6-448e-a387-750ceb0bb5d2",
            "metadata": {},
            "outputs": [],
            "source": [
                "DemoHelper.visualize_get_bbox_for_result(result, IMAGE_PATHS)"
            ]
        },
        {
            "cell_type": "markdown",
            "id": "466625e7-3101-4bd1-a04d-4a7e58002a8e",
            "metadata": {},
            "source": [
                "1. Using two `anchorText` will get in between value region by finding two rectangle points. Here consider First Name label and it's values there in separate lines.\n",
                "1. For the 1st point use 1st object `anchorPoint1` and here it is `top-right`(0, 0) corner of `anchorText`.\n",
                "1. For the 2nd point use 2nd object `anchorPoint1` and here it is top: 0px, right: 30%corner of `anchorText`."
            ]
        },
        {
            "cell_type": "markdown",
            "id": "06a5251b-ba3a-446c-9224-da75f656b4b5",
            "metadata": {},
            "source": [
                "### 3.3. Multiline anchor text match using 'regex' method"
            ]
        },
        {
            "cell_type": "code",
            "execution_count": null,
            "id": "c222f2dd-e614-4c5a-ba00-c56590b1cc58",
            "metadata": {},
            "outputs": [],
            "source": [
                "reg_def_dict_list = [\n",
                "    {\n",
                "        \"anchorText\": [\n",
                "            \"Full\", \"Name.*\"\n",
                "        ],\n",
                "        \"anchorTextMatch\":{\n",
                "            'method': 'regex'\n",
                "        },\n",
                "        \"anchorPoint1\": {\n",
                "            \"left\": 0, \n",
                "            \"top\": 0,\n",
                "            \"right\": None, \n",
                "            \"bottom\": None\n",
                "        },\n",
                "        \"anchorPoint2\": {\n",
                "            \"left\": None, \n",
                "            \"top\": None,\n",
                "            \"right\": 0, \n",
                "            \"bottom\": 0\n",
                "        }\n",
                "    }\n",
                "]\n",
                "result = ocr_parse_obj.get_bbox_for(reg_def_dict_list)"
            ]
        },
        {
            "cell_type": "markdown",
            "id": "a5d4735f-8d92-431d-9260-c2c48a20da69",
            "metadata": {},
            "source": [
                "#### Output"
            ]
        },
        {
            "cell_type": "code",
            "execution_count": null,
            "id": "c398298e-14c3-4075-bc78-f1d18303820f",
            "metadata": {},
            "outputs": [],
            "source": [
                "# print(json.dumps(result, indent=4))"
            ]
        },
        {
            "cell_type": "markdown",
            "id": "4058772a-5bfa-4357-81a8-0429ccec789d",
            "metadata": {},
            "source": [
                "#### Visualize"
            ]
        },
        {
            "cell_type": "code",
            "execution_count": null,
            "id": "5028543c-f4ff-4c82-9f43-de8dd9218126",
            "metadata": {},
            "outputs": [],
            "source": [
                "DemoHelper.visualize_get_bbox_for_result(result, IMAGE_PATHS)"
            ]
        },
        {
            "cell_type": "markdown",
            "id": "39c12522-47eb-4bdc-9a14-dfa2f1fc5682",
            "metadata": {
                "tags": []
            },
            "source": [
                "1. Using `anchorText` will get right side of value region by finding two rectangle points.\n",
                "1. For the 1st point use `anchorPoint1` and here it is `top-right`(0, 0) corner of `anchorText`.\n",
                "1. For the 2nd point use `anchorPoint2` and here it is `top-right`(0, 0) corner of `anchorText`.\n",
                "1. Each word in a `anchorText` list is considered to be consecutive lines."
            ]
        },
        {
            "cell_type": "markdown",
            "id": "b15268ce-7f61-462d-8943-e7eb0b0872c9",
            "metadata": {},
            "source": [
                "### 3.4. Synonyms - Multiline anchor text match using 'regex' method"
            ]
        },
        {
            "cell_type": "code",
            "execution_count": null,
            "id": "9f3e723d-fd54-4d37-aac6-a61bfabce649",
            "metadata": {},
            "outputs": [],
            "source": [
                "reg_def_dict_list = [\n",
                "    {\n",
                "        \"anchorText\": [\n",
                "            [\"COMPREHENSIVE\", \"COLLISION\", \"UNINSURED.*\", \"THIRD.*\", \"PERSONAL.*\"],\n",
                "            [\".*\"],\n",
                "            [\"COVERAGE\"]\n",
                "        ],\n",
                "        \"anchorTextMatch\":{\n",
                "            'method': 'regex'\n",
                "        },\n",
                "        \"anchorPoint1\": {\n",
                "            \"left\": 0, \n",
                "            \"top\": 0,\n",
                "            \"right\": None, \n",
                "            \"bottom\": None\n",
                "        },\n",
                "        \"anchorPoint2\": {\n",
                "            \"left\": None, \n",
                "            \"top\": None,\n",
                "            \"right\": 0, \n",
                "            \"bottom\": 0\n",
                "        }\n",
                "    }\n",
                "]\n",
                "result = ocr_parse_obj.get_bbox_for(reg_def_dict_list)"
            ]
        },
        {
            "cell_type": "markdown",
            "id": "32c30647-3cb4-4f66-9a9c-5604667132b0",
            "metadata": {},
            "source": [
                "#### Output"
            ]
        },
        {
            "cell_type": "code",
            "execution_count": null,
            "id": "190ff9c9-292d-47d1-8a17-d289ae1575e1",
            "metadata": {},
            "outputs": [],
            "source": [
                "# print(json.dumps(result, indent=4))"
            ]
        },
        {
            "cell_type": "markdown",
            "id": "eb337d3c-142c-4a2f-882c-2ae4c32e6826",
            "metadata": {},
            "source": [
                "#### Visualize"
            ]
        },
        {
            "cell_type": "code",
            "execution_count": null,
            "id": "9c7394a2-5dbc-471b-b64b-b9dbcee7b23c",
            "metadata": {},
            "outputs": [],
            "source": [
                "DemoHelper.visualize_get_bbox_for_result(result, IMAGE_PATHS)  "
            ]
        },
        {
            "cell_type": "markdown",
            "id": "eb882a38-a1e7-4478-9127-e16e6b43797d",
            "metadata": {},
            "source": [
                "1. Using anchorText will get right side of value region by finding two rectangle points.\n",
                "1. similarityScore given is 0.93, above which if match found for anchorText, it returns the bbox of it.\n",
                "1. Each element in the inner arrays, represents synonym words and each element in the outer list represents multiline match."
            ]
        }
    ],
    "metadata": {
        "language_info": {
            "name": "python"
        }
    },
    "nbformat": 4,
    "nbformat_minor": 5
}