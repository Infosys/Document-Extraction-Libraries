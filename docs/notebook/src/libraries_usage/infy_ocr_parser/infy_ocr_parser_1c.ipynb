{
    "cells": [
        {
            "cell_type": "code",
            "execution_count": null,
            "id": "d7645848-fc68-4c5d-8730-114d18b95649",
            "metadata": {},
            "outputs": [],
            "source": [
                "# ===============================================================================================================#\n",
                "# Copyright 2022 Infosys Ltd.                                                                          #\n",
                "# Use of this source code is governed by Apache License Version 2.0 that can be found in the LICENSE file or at  #\n",
                "# http://www.apache.org/licenses/                                                                                #\n",
                "# ===============================================================================================================#"
            ]
        },
        {
            "cell_type": "markdown",
            "id": "bdbcc0f3-f73e-4261-afc4-1701596dc7f7",
            "metadata": {},
            "source": [
                "## 1. Preparation"
            ]
        },
        {
            "cell_type": "code",
            "execution_count": null,
            "id": "bc834e74-4481-48b1-a7da-9b238f0a9680",
            "metadata": {},
            "outputs": [],
            "source": [
                "from _internal_utils.demo_helper import DemoHelper\n",
                "import pandas as pd\n",
                "from IPython.display import Image"
            ]
        },
        {
            "cell_type": "markdown",
            "id": "a548a7f8-b8d3-47b5-94c4-8dfd7c3aa161",
            "metadata": {},
            "source": [
                "#### <span style='color:blue'>Enter image and OCR file paths</span>"
            ]
        },
        {
            "cell_type": "code",
            "execution_count": null,
            "id": "d27a07c8-6c79-4067-a49b-48860daf6e09",
            "metadata": {},
            "outputs": [],
            "source": [
                "IMAGE_PATHS=[\"./data/coi_1.jpg\", \"./data/coi_2.jpg\"]\n",
                "IMAGE_OCR_PATHS=['./data/coi_1.jpg.hocr', './data/coi_2.jpg.hocr']"
            ]
        },
        {
            "cell_type": "markdown",
            "id": "2472aef9-7372-4649-b4a6-83ab540d37f9",
            "metadata": {},
            "source": [
                "#### Visualize"
            ]
        },
        {
            "cell_type": "code",
            "execution_count": null,
            "id": "c745771c-592a-42a7-9ca1-b88f503362af",
            "metadata": {},
            "outputs": [],
            "source": [
                "tab_widget = DemoHelper.create_tab_toolbar(IMAGE_PATHS)\n",
                "display(tab_widget)\n",
                "for idx, image_path in enumerate(IMAGE_PATHS):\n",
                "    with tab_widget.children[idx]:\n",
                "        display(Image(filename=image_path, width=1000, height=50))"
            ]
        },
        {
            "cell_type": "markdown",
            "id": "0d594a29-2f57-440e-8d8a-7e8779b9e2ab",
            "metadata": {},
            "source": [
                "<!-- #### Util Method to Plot response region on Image -->"
            ]
        },
        {
            "cell_type": "markdown",
            "id": "4224a997-21db-4ed0-8669-f7f63b67e4ac",
            "metadata": {},
            "source": [
                "## 2. Initialization"
            ]
        },
        {
            "cell_type": "markdown",
            "id": "f74d7af4-2ef6-4713-b0f7-3c93acb681d9",
            "metadata": {},
            "source": [
                "#### <span style='color:blue'>Create new instance with desired OCR service provider</span>"
            ]
        },
        {
            "cell_type": "markdown",
            "id": "0a703c6d-c3cb-4c42-810b-b8c0fac0c22a",
            "metadata": {
                "tags": []
            },
            "source": [
                "<!-- ### 1.1. Example -  Create Instance - Without logging -->"
            ]
        },
        {
            "cell_type": "code",
            "execution_count": null,
            "id": "b8756962-3066-4ec1-be58-5a2b3ca6a76f",
            "metadata": {},
            "outputs": [],
            "source": [
                "import json\n",
                "import logging\n",
                "import os\n",
                "\n",
                "from infy_ocr_parser import ocr_parser\n",
                "from infy_ocr_parser.providers.tesseract_ocr_data_service_provider import TesseractOcrDataServiceProvider\n",
                "\n",
                "ocr_file_list = IMAGE_OCR_PATHS\n",
                "\n",
                "if not os.path.exists(\"./logs\"):\n",
                "    os.makedirs(\"./logs\")\n",
                "logging.basicConfig(\n",
                "    filename=(\"./logs\" + \"/app_log.log\"),\n",
                "    format=\"%(asctime)s- %(levelname)s- %(message)s\",\n",
                "    level=logging.INFO,\n",
                "    datefmt=\"%d-%b-%y %H:%M:%S\",\n",
                ")\n",
                "logger = logging.getLogger()\n",
                "data_service_provider_obj = TesseractOcrDataServiceProvider()\n",
                "\n",
                "ocr_parse_obj = ocr_parser.OcrParser(ocr_file_list=ocr_file_list,\n",
                "                                     data_service_provider=data_service_provider_obj,\n",
                "                                     logger=logger)"
            ]
        },
        {
            "cell_type": "markdown",
            "id": "1ce048bf-27d4-4405-b2b9-6089d4a84039",
            "metadata": {},
            "source": [
                "## 3. API - get_bbox_for()"
            ]
        },
        {
            "cell_type": "markdown",
            "id": "12cd7e81-93c5-450b-a48b-8f14ad7d2f5e",
            "metadata": {},
            "source": [
                "### 3.9. Using Special Keyword as anchor text"
            ]
        },
        {
            "cell_type": "code",
            "execution_count": null,
            "id": "35f4db86-15f2-4723-89b9-36e45c189a44",
            "metadata": {},
            "outputs": [],
            "source": [
                "reg_def_dict_list = [\n",
                "    {\n",
                "        \"anchorText\": [\n",
                "            \"{{BOD}}\", #OR \"{{EOD}}\"\n",
                "        ]    \n",
                "    },\n",
                "    {\n",
                "        \"anchorText\": [\n",
                "            \"End Date\"\n",
                "        ],\n",
                "        \"anchorTextMatch\":{\n",
                "            'method': 'regex'\n",
                "        },\n",
                "        \"anchorPoint1\": {\n",
                "            \"left\": \"0\", \n",
                "            \"top\": \"0\",\n",
                "            \"right\": None, \n",
                "            \"bottom\": None\n",
                "        }\n",
                "    }\n",
                "]\n",
                "result = ocr_parse_obj.get_bbox_for(reg_def_dict_list)"
            ]
        },
        {
            "cell_type": "markdown",
            "id": "342bbefe-20ca-4eae-8747-32c3c3093c28",
            "metadata": {},
            "source": [
                "#### Output"
            ]
        },
        {
            "cell_type": "code",
            "execution_count": null,
            "id": "f8a950b6-3d85-43b9-8918-f57daab6188c",
            "metadata": {},
            "outputs": [],
            "source": [
                "# print(json.dumps(result, indent=4))"
            ]
        },
        {
            "cell_type": "markdown",
            "id": "3592a136-7193-4200-a20b-79cb093c77a1",
            "metadata": {},
            "source": [
                "#### Visualize"
            ]
        },
        {
            "cell_type": "code",
            "execution_count": null,
            "id": "0e8f6587-878c-424e-aae0-4deaafedd1da",
            "metadata": {},
            "outputs": [],
            "source": [
                "DemoHelper.visualize_get_bbox_for_result(result, IMAGE_PATHS)  "
            ]
        },
        {
            "cell_type": "markdown",
            "id": "7d4e055a-e7a2-4c78-bf34-b268adf92af8",
            "metadata": {},
            "source": [
                "### 3.10. Using absolute unit and Empty anchor text"
            ]
        },
        {
            "cell_type": "code",
            "execution_count": null,
            "id": "f21d8331-18b2-4ea5-bdbb-427fec401ff6",
            "metadata": {},
            "outputs": [],
            "source": [
                "reg_def_dict_list=[\n",
                "    {\n",
                "        \"anchorText\": [],\n",
                "        \"anchorPoint1\": {\n",
                "            \"left\": \"5px\",\n",
                "            \"top\": \"50%a\",\n",
                "            \"right\": None,\n",
                "            \"bottom\": None\n",
                "        },\n",
                "        \"anchorPoint2\": {\n",
                "            \"left\": \"50%a\",\n",
                "            \"top\": None,\n",
                "            \"right\": None,\n",
                "            \"bottom\": \"-17%a\"\n",
                "        }\n",
                "    }\n",
                "]\n",
                "result = ocr_parse_obj.get_bbox_for(reg_def_dict_list)"
            ]
        },
        {
            "cell_type": "markdown",
            "id": "bec8c965-4614-475a-bdde-d1be8e4fe0bc",
            "metadata": {},
            "source": [
                "#### Output"
            ]
        },
        {
            "cell_type": "code",
            "execution_count": null,
            "id": "16fc640c-4961-4280-b9a7-c731065c3f77",
            "metadata": {},
            "outputs": [],
            "source": [
                "# print(json.dumps(result, indent=4))"
            ]
        },
        {
            "cell_type": "markdown",
            "id": "416082f3-9c76-4eab-a1fa-8909f6c46a6b",
            "metadata": {},
            "source": [
                "#### Visualize"
            ]
        },
        {
            "cell_type": "code",
            "execution_count": null,
            "id": "48a1345c-fe78-4f82-a89e-f731dd75d66b",
            "metadata": {},
            "outputs": [],
            "source": [
                "DemoHelper.visualize_get_bbox_for_result(result, IMAGE_PATHS)  "
            ]
        },
        {
            "cell_type": "markdown",
            "id": "6e2786cc-f88d-47ae-8c93-832270d1da65",
            "metadata": {},
            "source": [
                "### 3.11. Type of Measurement units"
            ]
        },
        {
            "cell_type": "code",
            "execution_count": null,
            "id": "efb635d8-7ba5-4958-9c6a-7aea6154d993",
            "metadata": {},
            "outputs": [],
            "source": [
                "reg_def_dict_list = [\n",
                "    {\n",
                "        \"anchorText\": [\n",
                "            \"^phone\"\n",
                "        ],\n",
                "        \"anchorTextMatch\":{\n",
                "            'method': 'regex'\n",
                "        },\n",
                "        \"anchorPoint1\": {\n",
                "            \"left\": \"-5px\", \n",
                "            \"top\": \"-1t\",\n",
                "            \"right\": None, \n",
                "            \"bottom\": None\n",
                "        },\n",
                "        \"anchorPoint2\": {\n",
                "            \"left\": None,\n",
                "            \"top\": None,\n",
                "            \"right\": \"-70%a\", \n",
                "            \"bottom\": \"1%r\"\n",
                "        }\n",
                "    }\n",
                "]\n",
                "result = ocr_parse_obj.get_bbox_for(reg_def_dict_list)"
            ]
        },
        {
            "cell_type": "markdown",
            "id": "85b762c8-1b49-49a5-9179-5e33f86d7036",
            "metadata": {},
            "source": [
                "#### Output"
            ]
        },
        {
            "cell_type": "code",
            "execution_count": null,
            "id": "a8bf73a3-f398-477c-b844-293d209dd46d",
            "metadata": {},
            "outputs": [],
            "source": [
                "# print(json.dumps(result, indent=4))"
            ]
        },
        {
            "cell_type": "markdown",
            "id": "2ea642ba-c05b-4855-8e61-4aaff6d75298",
            "metadata": {},
            "source": [
                "#### Visualize"
            ]
        },
        {
            "cell_type": "code",
            "execution_count": null,
            "id": "15500349-4d95-48d8-a03c-f1d46da72460",
            "metadata": {},
            "outputs": [],
            "source": [
                "DemoHelper.visualize_get_bbox_for_result(result, IMAGE_PATHS)  "
            ]
        },
        {
            "cell_type": "markdown",
            "id": "9c3df894-2c4a-4f3c-b262-ecd80512a132",
            "metadata": {},
            "source": [
                "1. `anchorPoint1` given at `left-top` position by including some padding of -5px left and -1t(time of anchor text height) top distance from anchorText.\n",
                "1. `anchorPoint2` given at `right-bottom` position like -70% of abosulte page width and 1% of relative distance from anchor text."
            ]
        },
        {
            "cell_type": "markdown",
            "id": "de51d298-b1b0-4398-af3b-063dbead4f6f",
            "metadata": {},
            "source": [
                "### 3.12. Find region by subtracting Header, Footer and overlap region"
            ]
        },
        {
            "cell_type": "code",
            "execution_count": null,
            "id": "8394a5a4-d79f-4b0d-93aa-d99e238e624a",
            "metadata": {},
            "outputs": [],
            "source": [
                "reg_def_dict_list = [\n",
                "    {\n",
                "        \"pageNum\": [\"1\"],\n",
                "        \"anchorText\": [\n",
                "            \"Coverages\"\n",
                "        ],\n",
                "        \"anchorTextMatch\":{\n",
                "            'method': 'regex'\n",
                "        },\n",
                "        \"anchorPoint1\": {\n",
                "            \"left\": None, \n",
                "            \"top\": 0,\n",
                "            \"right\": 0,\n",
                "            \"bottom\": None\n",
                "        }\n",
                "    },\n",
                "    {\n",
                "        \"pageNum\": [\"2\"],\n",
                "        \"anchorText\": [\n",
                "            \"Vehicle Details$\"\n",
                "        ],\n",
                "        \"anchorTextMatch\":{\n",
                "            'method': 'regex'\n",
                "        },\n",
                "        \"anchorPoint1\": {\n",
                "            \"left\": None,\n",
                "            \"top\": None, \n",
                "            \"right\": \"0\",\n",
                "            \"bottom\": \"0\"\n",
                "        }\n",
                "    }\n",
                "]\n",
                "sub_reg_def_dict_list = [\n",
                "    [\n",
                "        {\n",
                "            \"anchorText\": [\n",
                "                \"Certificate Holder\"\n",
                "            ],\n",
                "            \"anchorPoint1\": {\n",
                "                \"left\": \"-100%\",\n",
                "                \"top\": None, \n",
                "                \"right\": None,\n",
                "                \"bottom\": 150,\n",
                "            },\n",
                "            \"anchorPoint2\": {\n",
                "                \"left\": None, \n",
                "                \"top\": None, \n",
                "                \"right\": \"100%\", \n",
                "                \"bottom\": \"100%\"\n",
                "            }\n",
                "        }\n",
                "    ],\n",
                "    [\n",
                "        {\n",
                "            \"anchorText\": [\n",
                "                \"Vehicle Details\"\n",
                "            ],\n",
                "            \"anchorPoint1\": {\n",
                "                \"left\": \"-100%\",\n",
                "                \"top\": \"-100%\", \n",
                "                \"right\": None,\n",
                "                \"bottom\": None\n",
                "            },\n",
                "            \"anchorPoint2\": {\n",
                "                \"left\": None,\n",
                "                \"top\": 0, \n",
                "                \"right\": \"100%\", \n",
                "                \"bottom\": None\n",
                "            }\n",
                "        }\n",
                "    ]\n",
                "]\n",
                "result = ocr_parse_obj.get_bbox_for(reg_def_dict_list, \n",
                "                                    subtract_region_definition = sub_reg_def_dict_list)"
            ]
        },
        {
            "cell_type": "markdown",
            "id": "c0260b18-ccac-461e-a224-aa5cd6f17c0a",
            "metadata": {},
            "source": [
                "#### Output"
            ]
        },
        {
            "cell_type": "code",
            "execution_count": null,
            "id": "7797f360-4916-4cbb-9afd-d36c05db85bf",
            "metadata": {},
            "outputs": [],
            "source": [
                "# print(json.dumps(result, indent=4))"
            ]
        },
        {
            "cell_type": "markdown",
            "id": "f0bbd9e8-5355-4580-95f5-2b571cd09cf2",
            "metadata": {},
            "source": [
                "#### Visualize"
            ]
        },
        {
            "cell_type": "code",
            "execution_count": null,
            "id": "e8ba6b02-087e-4e3c-af5e-919a6dee65dd",
            "metadata": {},
            "outputs": [],
            "source": [
                "DemoHelper.visualize_get_bbox_for_result(result, IMAGE_PATHS)  "
            ]
        }
    ],
    "metadata": {
        "language_info": {
            "name": "python"
        }
    },
    "nbformat": 4,
    "nbformat_minor": 5
}