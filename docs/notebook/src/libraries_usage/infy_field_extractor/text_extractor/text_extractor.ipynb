{
    "cells": [
        {
            "cell_type": "code",
            "execution_count": null,
            "id": "f33be502-7418-4f64-a721-f32e054b3a91",
            "metadata": {},
            "outputs": [],
            "source": [
                "# ===============================================================================================================#\n",
                "# Copyright 2022 Infosys Ltd.                                                                          #\n",
                "# Use of this source code is governed by Apache License Version 2.0 that can be found in the LICENSE file or at  #\n",
                "# http://www.apache.org/licenses/                                                                                #\n",
                "# ===============================================================================================================#"
            ]
        },
        {
            "cell_type": "markdown",
            "id": "1ce5b5f1-ab79-4204-9ddf-b985b42d873f",
            "metadata": {},
            "source": [
                "## 1. Preparation"
            ]
        },
        {
            "cell_type": "code",
            "execution_count": null,
            "id": "67b5287b-3d9d-492d-98c0-97e03eef54c7",
            "metadata": {},
            "outputs": [],
            "source": [
                "import json\n",
                "from _internal_utils.demo_helper import DemoHelper\n",
                "import pandas as pd\n",
                "from IPython.display import Image"
            ]
        },
        {
            "cell_type": "markdown",
            "id": "948259e3-5564-4455-a9ea-d4bcb30d37e7",
            "metadata": {},
            "source": [
                "#### <span style='color:blue'>Enter image and OCR file paths</span>"
            ]
        },
        {
            "cell_type": "code",
            "execution_count": null,
            "id": "c2d1eae9-93c0-48dd-afb7-f71b64d0a10a",
            "metadata": {},
            "outputs": [],
            "source": [
                "IMAGE_PATH=\"./data/text.png\"\n",
                "IMAGE_OCR_PATH='./data/text.hocr'\n",
                "TEMP_FOLDER_PATH = './data/temp'"
            ]
        },
        {
            "cell_type": "markdown",
            "id": "9963ffc6-c90a-40c9-a560-12be3645827b",
            "metadata": {},
            "source": [
                "#### Visualize"
            ]
        },
        {
            "cell_type": "code",
            "execution_count": null,
            "id": "bd4ee862-46d3-4d87-8463-26c4ec4368b3",
            "metadata": {},
            "outputs": [],
            "source": [
                "IMAGE_PATHS=[IMAGE_PATH]\n",
                "tab_widget = DemoHelper.create_tab_toolbar(IMAGE_PATHS)\n",
                "display(tab_widget)\n",
                "for idx, image_path in enumerate(IMAGE_PATHS):\n",
                "    with tab_widget.children[idx]:\n",
                "        display(Image(filename=image_path, width=800, height=50))"
            ]
        },
        {
            "cell_type": "markdown",
            "id": "1d2f18e3-423a-42c1-91be-6c0dea5aa2ee",
            "metadata": {},
            "source": [
                "## 2. Initialization"
            ]
        },
        {
            "cell_type": "markdown",
            "id": "4ec2db2b-b028-42e0-a2fb-4e8608798e54",
            "metadata": {},
            "source": [
                "#### <span style='color:blue'>Create new instance with desired OCR service provider</span>"
            ]
        },
        {
            "cell_type": "code",
            "execution_count": null,
            "id": "eff3a9ef-d029-4e16-bbe6-db1564ac2f07",
            "metadata": {},
            "outputs": [],
            "source": [
                "from infy_field_extractor import text_extractor\n",
                "from infy_ocr_parser import ocr_parser\n",
                "from infy_field_extractor.providers.ocr_data_service_provider import OcrDataServiceProvider\n",
                "from infy_ocr_parser.providers.tesseract_ocr_data_service_provider import TesseractOcrDataServiceProvider\n",
                "from infy_ocr_parser.providers.azure_read_ocr_data_service_provider import AzureReadOcrDataServiceProvider\n",
                "import logging\n",
                "import os\n",
                "\n",
                "if not os.path.exists('./logs'):\n",
                "    os.makedirs('./logs')\n",
                "\n",
                "if not os.path.exists(TEMP_FOLDER_PATH):\n",
                "    os.makedirs(TEMP_FOLDER_PATH)    \n",
                "    \n",
                "logging.basicConfig(filename=('./logs' + '/app_log.log'),\n",
                "                format='%(asctime)s- %(levelname)s- %(message)s',\n",
                "                level=logging.CRITICAL, datefmt='%d-%b-%y %H:%M:%S')\n",
                "logger = logging.getLogger() \n",
                "logger.info('log initialized')\n",
                "\n",
                "# Uncomment below for Tesseract OCR service\n",
                "data_service_provider_obj = TesseractOcrDataServiceProvider()\n",
                "# Uncomment below for Azure OCR Read service\n",
                "# data_service_provider_obj = AzureReadOcrDataServiceProvider()\n",
                "\n",
                "ocr_parser_object = ocr_parser.OcrParser(ocr_file_list=[IMAGE_OCR_PATH],\n",
                "                                         data_service_provider=data_service_provider_obj)\n",
                "provider = OcrDataServiceProvider(ocr_parser_object)\n",
                "    \n",
                "text_obj = text_extractor.TextExtractor(provider,provider,temp_folderpath=TEMP_FOLDER_PATH, \n",
                "        logger = None, debug_mode_check = False)"
            ]
        },
        {
            "cell_type": "markdown",
            "id": "ce93786a-4663-45f3-94bb-5430d9bbb0a9",
            "metadata": {},
            "source": [
                "## 3. API - extract_custom_fields()\n",
                "\n",
                "### 3.1. Example\n",
                "\n",
                "In this example \"field_key\" and \"field_value_pos\" is required. It searches for the \"field_key\" in the image using ocr_parser_obj and extract the nearest text as value to the \"field_key\" in the direction given by the param \"field_value_pos\". If \"field_state_pos\" not given, it dynamically searches the nearest value in all the direction and extracts it."
            ]
        },
        {
            "cell_type": "code",
            "execution_count": null,
            "id": "c29705ff-6020-4775-a1ec-2385f9018e36",
            "metadata": {},
            "outputs": [],
            "source": [
                "text_field_data_list = [\n",
                "    {\n",
                "        \"field_key\": [\n",
                "            \"Family Name:\"\n",
                "        ]\n",
                "    },\n",
                "    {\n",
                "        \"field_key\": [\n",
                "            \"Given Name:\"\n",
                "        ],\n",
                "        \"field_value_pos\": \"right\"\n",
                "    }\n",
                "]\n",
                "\n",
                "output = text_obj.extract_custom_fields(image_path = IMAGE_PATH,\n",
                "                                        text_field_data_list =text_field_data_list)"
            ]
        },
        {
            "cell_type": "markdown",
            "id": "5685e90e-a6e4-4491-94c6-49677cdcec56",
            "metadata": {},
            "source": [
                "#### Output"
            ]
        },
        {
            "cell_type": "code",
            "execution_count": null,
            "id": "6b426562-a1c7-4869-9508-2ac68681fee9",
            "metadata": {},
            "outputs": [],
            "source": [
                "# print(json.dumps(output, indent=4))\n",
                "df = pd.json_normalize(output['fields'])\n",
                "print('No. of records found =', len(df))\n",
                "df"
            ]
        },
        {
            "cell_type": "markdown",
            "id": "7a4b4639-d51b-4861-822a-689076ff8b43",
            "metadata": {},
            "source": [
                "### 3.2. Example\n",
                "In this example \"field_state_bbox\" is required and \"field_key\" is optional. For each element in the text_field_data_list, it finds the text within the region given by the \"field_state_bbox\" param and extracts as its value."
            ]
        },
        {
            "cell_type": "code",
            "execution_count": null,
            "id": "6e3f5e2f-5b3a-4b35-8915-ac61dbc9c432",
            "metadata": {},
            "outputs": [],
            "source": [
                "text_field_data_list =[\n",
                "    {\n",
                "        \"field_key\": [\n",
                "            \"Family Name:\"\n",
                "        ],\n",
                "        \"field_value_bbox\": [\n",
                "            1140,\n",
                "            153,\n",
                "            1471,\n",
                "            163\n",
                "        ]\n",
                "    },\n",
                "    {\n",
                "        \"field_key\": [\n",
                "            \"Given Name:\"\n",
                "        ],\n",
                "        \"field_value_bbox\": [\n",
                "            1140,\n",
                "            461,\n",
                "            1471,\n",
                "            163\n",
                "        ]\n",
                "    }\n",
                "]\n",
                "\n",
                "output = text_obj.extract_custom_fields(image_path = IMAGE_PATH,\n",
                "                                        text_field_data_list =text_field_data_list)"
            ]
        },
        {
            "cell_type": "markdown",
            "id": "56f28088-cd2e-49a1-9b1c-f396f721830b",
            "metadata": {},
            "source": [
                "#### Output"
            ]
        },
        {
            "cell_type": "code",
            "execution_count": null,
            "id": "bc3226a3-409d-4151-87a8-7f4163633e3f",
            "metadata": {},
            "outputs": [],
            "source": [
                "# print(json.dumps(output, indent=4))\n",
                "df = pd.json_normalize(output['fields'])\n",
                "print('No. of records found =', len(df))\n",
                "df"
            ]
        },
        {
            "cell_type": "markdown",
            "id": "8527a111-7ed9-4516-a6db-127704610684",
            "metadata": {},
            "source": [
                "#### Visualize"
            ]
        },
        {
            "cell_type": "code",
            "execution_count": null,
            "id": "65683bbe-df32-48bd-8936-ebf7e643dea6",
            "metadata": {},
            "outputs": [],
            "source": [
                "# Get all tokens i.e. without any bounding box restrictions\n",
                "all_tokens = ocr_parser_object.get_tokens_from_ocr(\n",
                "    token_type_value=1,     \n",
                "    pages=[1]\n",
                ")\n",
                "all_tokens_text_bboxes = [x['bbox'] for x in all_tokens]\n",
                "\n",
                "field_state_bboxes = [x['field_value_bbox'] for x in text_field_data_list]\n",
                "all_bboxes = field_state_bboxes \n",
                "img = DemoHelper.read_image(IMAGE_PATH)\n",
                "img = DemoHelper.draw_bboxes_on_image(img, all_tokens_text_bboxes, border_thickness=2, \n",
                "                                         border_color = DemoHelper.Constants.COLOR_GRAY)\n",
                "img = DemoHelper.draw_bboxes_on_image(img, field_state_bboxes, border_thickness=4,\n",
                "                                         border_color = DemoHelper.Constants.COLOR_BLUE)\n",
                "img = DemoHelper.reduce_image_based_on_context(img, all_bboxes)\n",
                "\n",
                "DemoHelper.show_image(img)"
            ]
        },
        {
            "cell_type": "markdown",
            "id": "02ca9e4e-91cc-4f73-910d-46781cdabd4d",
            "metadata": {},
            "source": [
                "## 4. API - extract_all_fields()"
            ]
        },
        {
            "cell_type": "markdown",
            "id": "c0ea181c-c69d-456c-87e9-0d479534129b",
            "metadata": {},
            "source": [
                "Extracts key-value pairs dynamically assuming value is to the right of key"
            ]
        },
        {
            "cell_type": "markdown",
            "id": "a75abebc-f350-4137-8c5f-a04895f4f91f",
            "metadata": {},
            "source": [
                "### 4.1. Example"
            ]
        },
        {
            "cell_type": "code",
            "execution_count": null,
            "id": "8203105e-8bb0-45ca-bdc6-6380776318a2",
            "metadata": {},
            "outputs": [],
            "source": [
                "output = text_obj.extract_all_fields(image_path = IMAGE_PATH)"
            ]
        },
        {
            "cell_type": "markdown",
            "id": "aac5736d-1274-464a-9708-dfe04e8acec6",
            "metadata": {},
            "source": [
                "#### Output"
            ]
        },
        {
            "cell_type": "code",
            "execution_count": null,
            "id": "2317dd31-5cc9-4b3b-a7c9-67cde5db22da",
            "metadata": {},
            "outputs": [],
            "source": [
                "# print(json.dumps(output, indent=4))\n",
                "df = pd.json_normalize(output['fields']).T\n",
                "print('No. of records found =', len(df))\n",
                "df"
            ]
        }
    ],
    "metadata": {
        "language_info": {
            "name": "python"
        }
    },
    "nbformat": 4,
    "nbformat_minor": 5
}