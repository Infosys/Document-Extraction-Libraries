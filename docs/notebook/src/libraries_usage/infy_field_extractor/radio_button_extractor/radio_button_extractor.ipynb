{
    "cells": [
        {
            "cell_type": "code",
            "execution_count": null,
            "id": "3767e297-e9d6-4e8d-b7cb-bd77bda279a1",
            "metadata": {},
            "outputs": [],
            "source": [
                "# ===============================================================================================================#\n",
                "# Copyright 2022 Infosys Ltd.                                                                          #\n",
                "# Use of this source code is governed by Apache License Version 2.0 that can be found in the LICENSE file or at  #\n",
                "# http://www.apache.org/licenses/                                                                                #\n",
                "# ===============================================================================================================#"
            ]
        },
        {
            "cell_type": "markdown",
            "id": "f1d1790e-19c4-4bf0-b038-438571a3aa40",
            "metadata": {},
            "source": [
                "## 1. Preparation"
            ]
        },
        {
            "cell_type": "code",
            "execution_count": null,
            "id": "788da6e9-3dac-427d-a5ff-f4e2ab2b270e",
            "metadata": {},
            "outputs": [],
            "source": [
                "import json\n",
                "from _internal_utils.demo_helper import DemoHelper\n",
                "import pandas as pd\n",
                "from IPython.display import Image"
            ]
        },
        {
            "cell_type": "markdown",
            "id": "6f05256f-a621-4e6b-9f3d-873435798da5",
            "metadata": {},
            "source": [
                "#### <span style='color:blue'>Enter image and OCR file paths</span>"
            ]
        },
        {
            "cell_type": "code",
            "execution_count": null,
            "id": "b8b95115-03dd-4640-9ee0-654104e741d2",
            "metadata": {},
            "outputs": [],
            "source": [
                "IMAGE_PATH=\"./data/radiobutton.png\"\n",
                "IMAGE_OCR_PATH='./data/radiobutton.hocr'\n",
                "TEMP_FOLDER_PATH = './data/temp'"
            ]
        },
        {
            "cell_type": "markdown",
            "id": "289ce3d3-6d6f-41bf-91eb-6cdbb94921b0",
            "metadata": {},
            "source": [
                "#### Visualize"
            ]
        },
        {
            "cell_type": "code",
            "execution_count": null,
            "id": "aee6bad7-a008-48e0-948f-830425a7afb9",
            "metadata": {},
            "outputs": [],
            "source": [
                "IMAGE_PATHS=[IMAGE_PATH]\n",
                "tab_widget = DemoHelper.create_tab_toolbar(IMAGE_PATHS)\n",
                "display(tab_widget)\n",
                "for idx, image_path in enumerate(IMAGE_PATHS):\n",
                "    with tab_widget.children[idx]:\n",
                "        display(Image(filename=image_path, width=800, height=50))"
            ]
        },
        {
            "cell_type": "markdown",
            "id": "0e43fc0a-7fca-4c06-aedb-2d43efc81e83",
            "metadata": {},
            "source": [
                "## 2. Initialization"
            ]
        },
        {
            "cell_type": "markdown",
            "id": "8da6f3c1-1233-4bf6-bd9e-96920e9d40db",
            "metadata": {},
            "source": [
                "#### <span style='color:blue'>Create new instance with desired OCR service provider</span>"
            ]
        },
        {
            "cell_type": "markdown",
            "id": "81f42fbb-7017-4561-9a04-739584e0e3a2",
            "metadata": {},
            "source": [
                "### 1.1. Example - Create Instance - With logging"
            ]
        },
        {
            "cell_type": "code",
            "execution_count": null,
            "id": "90f91ce3-7b56-4174-b800-bddf076e3fe5",
            "metadata": {},
            "outputs": [],
            "source": [
                "from infy_field_extractor import radio_button_extractor\n",
                "from infy_field_extractor.providers.ocr_data_service_provider import OcrDataServiceProvider\n",
                "from infy_ocr_parser.providers.tesseract_ocr_data_service_provider import TesseractOcrDataServiceProvider\n",
                "from infy_ocr_parser import ocr_parser\n",
                "import logging\n",
                "import os\n",
                "\n",
                "if not os.path.exists('./logs'):\n",
                "    os.makedirs('./logs')\n",
                "\n",
                "if not os.path.exists(TEMP_FOLDER_PATH):\n",
                "    os.makedirs(TEMP_FOLDER_PATH)      \n",
                "    \n",
                "logging.basicConfig(filename=('./logs' + '/app_log.log'),\n",
                "                format='%(asctime)s- %(levelname)s- %(message)s',\n",
                "                level=logging.CRITICAL, datefmt='%d-%b-%y %H:%M:%S')\n",
                "logger = logging.getLogger() \n",
                "logger.info('log initialized')\n",
                "\n",
                "data_service_provider = TesseractOcrDataServiceProvider()\n",
                "ocr_parser_object = ocr_parser.OcrParser(ocr_file_list=[IMAGE_OCR_PATH],\n",
                "                                         data_service_provider=data_service_provider)\n",
                "provider = OcrDataServiceProvider(ocr_parser_object)\n",
                "    \n",
                "radiobutton_obj = radio_button_extractor.RadioButtonExtractor(provider,provider,temp_folderpath=TEMP_FOLDER_PATH, \n",
                "                                                              logger = logger, debug_mode_check = False)"
            ]
        },
        {
            "cell_type": "markdown",
            "id": "649c38ef-3196-49c4-8c32-4359e66ecbc0",
            "metadata": {},
            "source": [
                "## 3. API - extract_custom_fields()"
            ]
        },
        {
            "cell_type": "markdown",
            "id": "6f6fda2a-29cb-4ff4-b478-9df18fba63fa",
            "metadata": {},
            "source": [
                "### 3.1. Example\n",
                "\n",
                "In this example \"field_key\" and \"field_state_pos\" is required. It searches for the \"field_key\" in the image using ocr_parser_obj and extracts the state of the nearest radio button to the \"field_key\" in the direction given by the param \"field_state_pos\". If \"field_state_pos\" not given, it dynamically searches the nearest radio button in all the direction and extracts the state."
            ]
        },
        {
            "cell_type": "code",
            "execution_count": null,
            "id": "8e0c058b-208c-4b34-93ec-f4ba2b74b0af",
            "metadata": {},
            "outputs": [],
            "source": [
                "radiobutton_field_data_list = [\n",
                "    {\n",
                "        \"field_key\": [\n",
                "            \"incorporator\"\n",
                "        ],\n",
                "        \"field_state_pos\": \"left\"\n",
                "    },\n",
                "    {\n",
                "        \"field_key\": [\n",
                "            \"initial director\"\n",
                "        ],\n",
                "        \"field_state_pos\": \"left\"\n",
                "    }\n",
                "]\n",
                "output = radiobutton_obj.extract_custom_fields(image_path = IMAGE_PATH, \n",
                "        radiobutton_field_data_list = radiobutton_field_data_list)"
            ]
        },
        {
            "cell_type": "markdown",
            "id": "fb225095-4c72-4363-89df-fb18f9a15b34",
            "metadata": {},
            "source": [
                "#### Output"
            ]
        },
        {
            "cell_type": "code",
            "execution_count": null,
            "id": "63bebe61-17c6-4465-8c58-6735ea1835e2",
            "metadata": {},
            "outputs": [],
            "source": [
                "# print(json.dumps(output, indent=4))\n",
                "df = pd.json_normalize(output['fields'])\n",
                "print('No. of records found =', len(df))\n",
                "df"
            ]
        },
        {
            "cell_type": "markdown",
            "id": "4762b70d-9b00-47dd-abbb-1e7e3da55ea0",
            "metadata": {},
            "source": [
                "#### Visualize"
            ]
        },
        {
            "cell_type": "code",
            "execution_count": null,
            "id": "79ac415e-aeac-4cdc-9561-0b4749ffd465",
            "metadata": {},
            "outputs": [],
            "source": [
                "# Get all tokens i.e. without any bounding box restrictions\n",
                "all_tokens = ocr_parser_object.get_tokens_from_ocr(\n",
                "    token_type_value=1,     \n",
                "    pages=[1]\n",
                ")\n",
                "all_tokens_text_bboxes = [x['bbox'] for x in all_tokens]\n",
                "\n",
                "img = DemoHelper.read_image(IMAGE_PATH)\n",
                "img = DemoHelper.draw_bboxes_on_image(img, all_tokens_text_bboxes, border_thickness=1, \n",
                "                                         border_color = DemoHelper.Constants.COLOR_GRAY)\n",
                "\n",
                "DemoHelper.show_image(img)"
            ]
        },
        {
            "cell_type": "markdown",
            "id": "f6aca82f-616f-4eb3-92f1-15b914b3bced",
            "metadata": {},
            "source": [
                "### 3.2. Example\n",
                "\n",
                "In this example \"field_state_bbox\" is required and \"field_key\" is optional. For each element in the radiobutton_field_data_list, it expects to find one radiobutton within the region given by the \"field_state_bbox\" param and extracts the state of that radiobutton."
            ]
        },
        {
            "cell_type": "code",
            "execution_count": null,
            "id": "95f7a818-0992-47a2-8b6d-354f80eb88b6",
            "metadata": {},
            "outputs": [],
            "source": [
                "radiobutton_field_data_list = [\n",
                "    {\n",
                "        \"field_key\": [\n",
                "            \"incorporator\"\n",
                "        ],\n",
                "        \"field_state_bbox\": [\n",
                "            30,\n",
                "            9,\n",
                "            87,\n",
                "            78\n",
                "        ]\n",
                "    }\n",
                "]\n",
                "\n",
                "output = radiobutton_obj.extract_custom_fields(image_path = IMAGE_PATH, \n",
                "        radiobutton_field_data_list = radiobutton_field_data_list)"
            ]
        },
        {
            "cell_type": "markdown",
            "id": "defd8f26-4d67-4b6c-a6dc-290f597dc4e2",
            "metadata": {},
            "source": [
                "#### Output"
            ]
        },
        {
            "cell_type": "code",
            "execution_count": null,
            "id": "71884d76-8879-4315-b2a0-e5da5ee5780b",
            "metadata": {},
            "outputs": [],
            "source": [
                "# print(json.dumps(output, indent=4))\n",
                "df = pd.json_normalize(output['fields'])\n",
                "print('No. of records found =', len(df))\n",
                "df"
            ]
        },
        {
            "cell_type": "markdown",
            "id": "03332cc6-d0da-439d-8247-0feceed9ef8b",
            "metadata": {},
            "source": [
                "#### Visualize"
            ]
        },
        {
            "cell_type": "code",
            "execution_count": null,
            "id": "1d064eac-71f5-4867-9c81-19438300dde8",
            "metadata": {},
            "outputs": [],
            "source": [
                "# Get all tokens i.e. without any bounding box restrictions\n",
                "all_tokens = ocr_parser_object.get_tokens_from_ocr(\n",
                "    token_type_value=1,     \n",
                "    pages=[1]\n",
                ")\n",
                "all_tokens_text_bboxes = [x['bbox'] for x in all_tokens]\n",
                "\n",
                "field_state_bboxes = [x['field_state_bbox'] for x in radiobutton_field_data_list]\n",
                "all_bboxes = field_state_bboxes \n",
                "img = DemoHelper.read_image(IMAGE_PATH)\n",
                "img = DemoHelper.draw_bboxes_on_image(img, all_tokens_text_bboxes, border_thickness=1, \n",
                "                                         border_color = DemoHelper.Constants.COLOR_GRAY)\n",
                "img = DemoHelper.draw_bboxes_on_image(img, field_state_bboxes, border_thickness=2,\n",
                "                                         border_color = DemoHelper.Constants.COLOR_BLUE)\n",
                "img = DemoHelper.reduce_image_based_on_context(img, all_bboxes)\n",
                "\n",
                "DemoHelper.show_image(img)"
            ]
        },
        {
            "cell_type": "markdown",
            "id": "c5f0dcea-a0e9-431b-9dfa-35d9808c7a24",
            "metadata": {},
            "source": [
                "## 4. API - extract_all_fields()\n",
                "\n",
                "`TEMPLATE_CHECKED_FOLDER` and `TEMPLATE_UNCHECKED_FOLDER` contains samples of checked and unchecked radio buttons. The templates in the folder must be a cropped from the image. It uses template match to exactly match all the radiobuttons in that image or a same template image of same DPI."
            ]
        },
        {
            "cell_type": "markdown",
            "id": "e2eae1ef-3892-4b8d-a74f-041835efb6a8",
            "metadata": {},
            "source": [
                "### 4.1. Example"
            ]
        },
        {
            "cell_type": "code",
            "execution_count": null,
            "id": "32b9c55e-1b96-455d-8161-c74a4d1c8556",
            "metadata": {},
            "outputs": [],
            "source": [
                "TEMPLATE_CHECKED_FOLDER = './data/template/checked'\n",
                "TEMPLATE_UNCHECKED_FOLDER = './data/template/unchecked'\n",
                "\n",
                "CONFIG_PARAMS_DICT = {\n",
                "    \"template_checked_folder\":TEMPLATE_CHECKED_FOLDER, \n",
                "    \"template_unchecked_folder\":TEMPLATE_UNCHECKED_FOLDER\n",
                "}\n",
                "\n",
                "output = radiobutton_obj.extract_all_fields(image_path=IMAGE_PATH,\n",
                "                                            config_params_dict=CONFIG_PARAMS_DICT)"
            ]
        },
        {
            "cell_type": "markdown",
            "id": "8525db44-3781-49ee-a3ba-bbfb1f9a9263",
            "metadata": {},
            "source": [
                "#### Output"
            ]
        },
        {
            "cell_type": "code",
            "execution_count": null,
            "id": "c59b1838-e0c7-4ce3-8dd7-90816f76bd48",
            "metadata": {},
            "outputs": [],
            "source": [
                "# print(json.dumps(output, indent=4))\n",
                "df = pd.json_normalize(output['fields']).T\n",
                "print('No. of records found =', len(df))\n",
                "df"
            ]
        },
        {
            "cell_type": "markdown",
            "id": "e40fa2f4-9c9d-40ee-b059-f9046b00950b",
            "metadata": {},
            "source": [
                "#### Visualize"
            ]
        },
        {
            "cell_type": "code",
            "execution_count": null,
            "id": "016da52e-c4b0-46e1-8682-c8259ffed829",
            "metadata": {},
            "outputs": [],
            "source": [
                "# Get all tokens i.e. without any bounding box restrictions\n",
                "all_tokens = ocr_parser_object.get_tokens_from_ocr(\n",
                "    token_type_value=1,     \n",
                "    pages=[1]\n",
                ")\n",
                "all_tokens_text_bboxes = [x['bbox'] for x in all_tokens]\n",
                "\n",
                "text_bboxes = [x['bbox'] for x in output['fieldsList']]\n",
                "all_bboxes = text_bboxes \n",
                "img = DemoHelper.read_image(IMAGE_PATH)\n",
                "img = DemoHelper.draw_bboxes_on_image(img, all_tokens_text_bboxes, border_thickness=1, \n",
                "                                         border_color = DemoHelper.Constants.COLOR_GRAY)\n",
                "img = DemoHelper.draw_bboxes_on_image(img, text_bboxes, border_thickness=2,\n",
                "                                         border_color = DemoHelper.Constants.COLOR_RED)\n",
                "img = DemoHelper.reduce_image_based_on_context(img, all_bboxes)\n",
                "\n",
                "DemoHelper.show_image(img)"
            ]
        }
    ],
    "metadata": {
        "language_info": {
            "name": "python"
        }
    },
    "nbformat": 4,
    "nbformat_minor": 5
}