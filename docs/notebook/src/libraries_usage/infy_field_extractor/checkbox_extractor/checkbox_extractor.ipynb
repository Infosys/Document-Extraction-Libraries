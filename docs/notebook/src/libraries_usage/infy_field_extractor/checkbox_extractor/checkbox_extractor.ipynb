{
    "cells": [
        {
            "cell_type": "code",
            "execution_count": null,
            "id": "038999b4-fb5d-4920-b8d0-88a28942f15f",
            "metadata": {},
            "outputs": [],
            "source": [
                "# ===============================================================================================================#\n",
                "# Copyright 2022 Infosys Ltd.                                                                          #\n",
                "# Use of this source code is governed by Apache License Version 2.0 that can be found in the LICENSE file or at  #\n",
                "# http://www.apache.org/licenses/                                                                                #\n",
                "# ===============================================================================================================#"
            ]
        },
        {
            "cell_type": "markdown",
            "id": "0e9d4e20-f277-48bd-bcc6-f9dcad9cb789",
            "metadata": {},
            "source": [
                "## 1. Preparation"
            ]
        },
        {
            "cell_type": "code",
            "execution_count": null,
            "id": "331d5d21-1a08-413e-afc2-7087e0f267d2",
            "metadata": {},
            "outputs": [],
            "source": [
                "import json\n",
                "from _internal_utils.demo_helper import DemoHelper\n",
                "import pandas as pd\n",
                "from IPython.display import Image"
            ]
        },
        {
            "cell_type": "markdown",
            "id": "d13bbbf0-6044-4dca-8063-9ac135bf73db",
            "metadata": {},
            "source": [
                "#### <span style='color:blue'>Enter image and OCR file paths</span>"
            ]
        },
        {
            "cell_type": "code",
            "execution_count": null,
            "id": "037ca13c-2566-40f9-bc48-14b7ddbeb9cb",
            "metadata": {},
            "outputs": [],
            "source": [
                "IMAGE_PATH=\"./data/checkbox.jpg\"\n",
                "IMAGE_OCR_PATH='./data/checkbox.hocr'\n",
                "TEMP_FOLDER_PATH = './data/temp'"
            ]
        },
        {
            "cell_type": "markdown",
            "id": "71b233fc-b835-4d6a-b56d-01258cefc3e2",
            "metadata": {},
            "source": [
                "#### Visualize"
            ]
        },
        {
            "cell_type": "code",
            "execution_count": null,
            "id": "43a0b00e-7b45-423f-8de0-8eb3bf26d95a",
            "metadata": {},
            "outputs": [],
            "source": [
                "IMAGE_PATHS=[IMAGE_PATH]\n",
                "tab_widget = DemoHelper.create_tab_toolbar(IMAGE_PATHS)\n",
                "display(tab_widget)\n",
                "for idx, image_path in enumerate(IMAGE_PATHS):\n",
                "    with tab_widget.children[idx]:\n",
                "        display(Image(filename=image_path, width=800, height=50))"
            ]
        },
        {
            "cell_type": "markdown",
            "id": "508314a3-3ba0-4fef-91ad-9e319a3e42b6",
            "metadata": {},
            "source": [
                "## 2. Initialization"
            ]
        },
        {
            "cell_type": "markdown",
            "id": "9df26e74-dd91-4ef7-ba20-45af57a76217",
            "metadata": {},
            "source": [
                "#### <span style='color:blue'>Create new instance with desired OCR service provider</span>"
            ]
        },
        {
            "cell_type": "code",
            "execution_count": null,
            "id": "b29cdf9f-8b2a-4c25-a7b6-c1a2c354e18d",
            "metadata": {},
            "outputs": [],
            "source": [
                "from infy_field_extractor import checkbox_extractor\n",
                "from infy_ocr_parser import ocr_parser\n",
                "from infy_field_extractor.providers.ocr_data_service_provider import OcrDataServiceProvider\n",
                "from infy_ocr_parser.providers.tesseract_ocr_data_service_provider import TesseractOcrDataServiceProvider\n",
                "import logging\n",
                "import os\n",
                "\n",
                "if not os.path.exists('./logs'):\n",
                "    os.makedirs('./logs')\n",
                "\n",
                "if not os.path.exists(TEMP_FOLDER_PATH):\n",
                "    os.makedirs(TEMP_FOLDER_PATH)    \n",
                "    \n",
                "logging.basicConfig(filename=('./logs' + '/app_log.log'),\n",
                "                format='%(asctime)s- %(levelname)s- %(message)s',\n",
                "                level=logging.CRITICAL, datefmt='%d-%b-%y %H:%M:%S')\n",
                "logger = logging.getLogger() \n",
                "logger.info('log initialized')\n",
                "logger = None\n",
                "\n",
                "# Uncomment below for Tesseract OCR service\n",
                "data_service_provider = TesseractOcrDataServiceProvider()\n",
                "# Uncomment below for Azure OCR Read service\n",
                "# data_service_provider_obj = AzureReadOcrDataServiceProvider()\n",
                "\n",
                "ocr_parser_object = ocr_parser.OcrParser(ocr_file_list=[IMAGE_OCR_PATH],\n",
                "                                         data_service_provider=data_service_provider)\n",
                "provider = OcrDataServiceProvider(ocr_parser_object)\n",
                "\n",
                "checkbox_obj = checkbox_extractor.CheckboxExtractor(provider,provider,temp_folderpath=TEMP_FOLDER_PATH\n",
                "                                                    ,logger = logger, debug_mode_check = False)"
            ]
        },
        {
            "cell_type": "markdown",
            "id": "f5760a7e-fcba-4b0d-8177-61780f49d062",
            "metadata": {},
            "source": [
                "## 3. API - extract_custom_fields()"
            ]
        },
        {
            "cell_type": "markdown",
            "id": "d0ea2c50-da5f-4321-8165-9bc44bdffed8",
            "metadata": {},
            "source": [
                "### 3.1. Example\n",
                "\n",
                "In this example \"field_key\" and \"field_state_pos\" is required. It searches for the \"field_key\" in the image using ocr_parser_obj and extracts the state from the nearest checkbox to the \"field_key\" in the direction given by the param \"field_state_pos\". If \"field_state_pos\" not given, it dynamically searches the nearest checkbox in all the direction and extract its state."
            ]
        },
        {
            "cell_type": "code",
            "execution_count": null,
            "id": "a1eac81e-01a5-4e7e-bfa5-18aa4795362c",
            "metadata": {},
            "outputs": [],
            "source": [
                "checkbox_field_data_list = [\n",
                "        {\n",
                "                \"field_key\": [\"Latin\"], \n",
                "                \"field_state_pos\": \"left\"\n",
                "        },\n",
                "        {\n",
                "                \"field_key\": [\"Esperanto\"], \n",
                "                \"field_state_pos\": \"left\"\n",
                "        }\n",
                "]\n",
                "CONFIG_PARAMS_DICT = {\n",
                "    \"min_checkbox_text_scale\": 0.8, \n",
                "    \"max_checkbox_text_scale\": 1.5\n",
                "}\n",
                "\n",
                "output = checkbox_obj.extract_custom_fields(image_path = IMAGE_PATH,\n",
                "        checkbox_field_data_list = checkbox_field_data_list,\n",
                "        config_params_dict = CONFIG_PARAMS_DICT)"
            ]
        },
        {
            "cell_type": "markdown",
            "id": "fd6df66a-7d10-474f-a6bf-e97933ac5222",
            "metadata": {},
            "source": [
                "#### Output"
            ]
        },
        {
            "cell_type": "code",
            "execution_count": null,
            "id": "18073179-299c-40a8-9742-ef2d7af8c56c",
            "metadata": {},
            "outputs": [],
            "source": [
                "df = pd.json_normalize(output['fields'])\n",
                "print('No. of records found =', len(df))\n",
                "df"
            ]
        },
        {
            "cell_type": "markdown",
            "id": "06a5ec64-b3b8-4aab-969a-4a9b68790f5f",
            "metadata": {},
            "source": [
                "#### Visualize"
            ]
        },
        {
            "cell_type": "code",
            "execution_count": null,
            "id": "01486634-3709-441b-ae13-d76f8aa1401c",
            "metadata": {},
            "outputs": [],
            "source": [
                "# Get all tokens i.e. without any bounding box restrictions\n",
                "all_tokens = ocr_parser_object.get_tokens_from_ocr(\n",
                "    token_type_value=1,     \n",
                "    pages=[1]\n",
                ")\n",
                "all_tokens_text_bboxes = [x['bbox'] for x in all_tokens]\n",
                "\n",
                "img = DemoHelper.read_image(IMAGE_PATH)\n",
                "img = DemoHelper.draw_bboxes_on_image(img, all_tokens_text_bboxes, border_thickness=1, \n",
                "                                         border_color = DemoHelper.Constants.COLOR_GRAY)\n",
                "\n",
                "DemoHelper.show_image(img)"
            ]
        },
        {
            "cell_type": "markdown",
            "id": "19ded4cc-1914-44c7-b02f-8fb63c90183e",
            "metadata": {},
            "source": [
                "### 3.2. Example\n",
                "\n",
                "In this example \"field_state_bbox\" is required and \"field_key\" is optional. For each element in the checkbox_field_data_list, it expects to find one checkbox within the region given by the \"field_state_bbox\" param and extracts the state of that checkbox."
            ]
        },
        {
            "cell_type": "code",
            "execution_count": null,
            "id": "547ef67f-341c-4090-8755-974e78574e4a",
            "metadata": {},
            "outputs": [],
            "source": [
                "checkbox_field_data_list = [\n",
                "    {\n",
                "        \"field_key\": [\n",
                "            \"Latin\"\n",
                "        ],\n",
                "        \"field_state_bbox\": [\n",
                "            933,\n",
                "            45,\n",
                "            45,\n",
                "            42\n",
                "        ]\n",
                "    },\n",
                "    {\n",
                "        \"field_key\": [\n",
                "            \"Esperanto\"\n",
                "        ],\n",
                "        \"field_state_bbox\": [\n",
                "            699,\n",
                "            45,\n",
                "            40,\n",
                "            42\n",
                "        ]\n",
                "    }\n",
                "]\n",
                "output = checkbox_obj.extract_custom_fields(image_path = IMAGE_PATH, \n",
                "        checkbox_field_data_list = checkbox_field_data_list)"
            ]
        },
        {
            "cell_type": "markdown",
            "id": "b596514e-43f2-4bb5-a6d5-67d99d6a447d",
            "metadata": {},
            "source": [
                "#### Output"
            ]
        },
        {
            "cell_type": "code",
            "execution_count": null,
            "id": "74fe83b8-52e2-402d-b91b-d4c323c5d1fb",
            "metadata": {},
            "outputs": [],
            "source": [
                "df = pd.json_normalize(output['fields'])\n",
                "print('No. of records found =', len(df))\n",
                "df"
            ]
        },
        {
            "cell_type": "markdown",
            "id": "2f088860-9fe4-4099-b18c-94dcf41f08a4",
            "metadata": {},
            "source": [
                "#### Visualize"
            ]
        },
        {
            "cell_type": "code",
            "execution_count": null,
            "id": "c247feec-c66f-4e7a-874e-3df5e320aeb0",
            "metadata": {},
            "outputs": [],
            "source": [
                "# Get all tokens i.e. without any bounding box restrictions\n",
                "all_tokens = ocr_parser_object.get_tokens_from_ocr(\n",
                "    token_type_value=1,     \n",
                "    pages=[1]\n",
                ")\n",
                "all_tokens_text_bboxes = [x['bbox'] for x in all_tokens]\n",
                "\n",
                "field_state_bboxes = [x['field_state_bbox'] for x in checkbox_field_data_list]\n",
                "all_bboxes = field_state_bboxes \n",
                "img = DemoHelper.read_image(IMAGE_PATH)\n",
                "img = DemoHelper.draw_bboxes_on_image(img, all_tokens_text_bboxes, border_thickness=1, \n",
                "                                         border_color = DemoHelper.Constants.COLOR_GRAY)\n",
                "img = DemoHelper.draw_bboxes_on_image(img, field_state_bboxes, border_thickness=2,\n",
                "                                         border_color = DemoHelper.Constants.COLOR_BLUE)\n",
                "img = DemoHelper.reduce_image_based_on_context(img, all_bboxes)\n",
                "\n",
                "DemoHelper.show_image(img)"
            ]
        },
        {
            "cell_type": "markdown",
            "id": "6f3faa8e-b03e-474e-a752-cbff0f455cf8",
            "metadata": {},
            "source": [
                "## 4. API - extract_all_fields()"
            ]
        },
        {
            "cell_type": "markdown",
            "id": "d88d2828-9b59-4ee2-88ff-d25c18438e3c",
            "metadata": {},
            "source": [
                "### 4.1 Example"
            ]
        },
        {
            "cell_type": "markdown",
            "id": "6f47cdca-9c4a-44dd-bb15-2d38929014f7",
            "metadata": {},
            "source": [
                "It finds all possible checkboxes and extracts its state and key corresponding to it. The checkbox and the key should be aligned horizontally and not vertically to extract dynamically."
            ]
        },
        {
            "cell_type": "code",
            "execution_count": null,
            "id": "07d4a098-8221-4cf7-a641-e8740f6e6d38",
            "metadata": {},
            "outputs": [],
            "source": [
                "output = checkbox_obj.extract_all_fields(image_path = IMAGE_PATH)"
            ]
        },
        {
            "cell_type": "markdown",
            "id": "2c9bb68c-f2a5-4da4-96e3-75935f41da79",
            "metadata": {},
            "source": [
                "#### Output"
            ]
        },
        {
            "cell_type": "code",
            "execution_count": null,
            "id": "30bee60f-051c-413e-9e92-0e55872475c9",
            "metadata": {},
            "outputs": [],
            "source": [
                "# print(json.dumps(output, indent=4))\n",
                "df = pd.json_normalize(output['fields']).T\n",
                "print('No. of records found =', len(df))\n",
                "df"
            ]
        },
        {
            "cell_type": "markdown",
            "id": "1588af00-5a03-4536-89bb-61307497b009",
            "metadata": {},
            "source": [
                "#### Visualize"
            ]
        },
        {
            "cell_type": "code",
            "execution_count": null,
            "id": "87034068-7835-447b-917e-f4477b077d03",
            "metadata": {},
            "outputs": [],
            "source": [
                "# Get all tokens i.e. without any bounding box restrictions\n",
                "all_tokens = ocr_parser_object.get_tokens_from_ocr(\n",
                "    token_type_value=1,     \n",
                "    pages=[1]\n",
                ")\n",
                "all_tokens_text_bboxes = [x['bbox'] for x in all_tokens]\n",
                "\n",
                "text_bboxes = [x['bbox'] for x in output['fieldsList']]\n",
                "all_bboxes = text_bboxes \n",
                "img = DemoHelper.read_image(IMAGE_PATH)\n",
                "img = DemoHelper.draw_bboxes_on_image(img, all_tokens_text_bboxes, border_thickness=1, \n",
                "                                         border_color = DemoHelper.Constants.COLOR_GRAY)\n",
                "img = DemoHelper.draw_bboxes_on_image(img, text_bboxes, border_thickness=2,\n",
                "                                         border_color = DemoHelper.Constants.COLOR_RED)\n",
                "img = DemoHelper.reduce_image_based_on_context(img, all_bboxes)\n",
                "\n",
                "DemoHelper.show_image(img)"
            ]
        }
    ],
    "metadata": {
        "language_info": {
            "name": "python"
        }
    },
    "nbformat": 4,
    "nbformat_minor": 5
}