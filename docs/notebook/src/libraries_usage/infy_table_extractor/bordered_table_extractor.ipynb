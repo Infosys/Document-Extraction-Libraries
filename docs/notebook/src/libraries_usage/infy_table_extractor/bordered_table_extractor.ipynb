{
    "cells": [
        {
            "cell_type": "code",
            "execution_count": null,
            "id": "97bde68b-9681-4445-8042-5e8fd407ef2e",
            "metadata": {},
            "outputs": [],
            "source": [
                "# ===============================================================================================================#\n",
                "# Copyright 2022 Infosys Ltd.                                                                          #\n",
                "# Use of this source code is governed by Apache License Version 2.0 that can be found in the LICENSE file or at  #\n",
                "# http://www.apache.org/licenses/                                                                                #\n",
                "# ===============================================================================================================#"
            ]
        },
        {
            "cell_type": "markdown",
            "id": "0f7eadf8-cf4c-433c-bcc5-76c8ae2b7803",
            "metadata": {},
            "source": [
                "## 1. Preparation"
            ]
        },
        {
            "cell_type": "code",
            "execution_count": null,
            "id": "93c7c171-54f4-414d-834f-47e3429eb02a",
            "metadata": {},
            "outputs": [],
            "source": [
                "import json\n",
                "import time\n",
                "from _internal_utils.demo_helper import DemoHelper\n",
                "import pandas as pd\n",
                "from IPython.display import Image"
            ]
        },
        {
            "cell_type": "markdown",
            "id": "b04b271d-b332-4967-a787-6771027af562",
            "metadata": {},
            "source": [
                "#### <span style='color:blue'>Validate external tools</span>"
            ]
        },
        {
            "cell_type": "code",
            "execution_count": null,
            "id": "dbb04392-a631-437c-ab0f-b6345364f4a6",
            "metadata": {},
            "outputs": [],
            "source": [
                "#Checking if Tesseract is installed.\n",
                "DemoHelper.check_command(['tesseract','--version'])"
            ]
        },
        {
            "cell_type": "markdown",
            "id": "1e3850b5-d459-4ee6-96a8-7fe6c48593c6",
            "metadata": {},
            "source": [
                "#### <span style='color:blue'>Enter image paths</span>"
            ]
        },
        {
            "cell_type": "code",
            "execution_count": null,
            "id": "90fd9e25-7d39-4f64-b7a2-f6d22a36bec3",
            "metadata": {},
            "outputs": [],
            "source": [
                "IMAGE_PATH='./data/sample_01.jpg'\n",
                "TEMP_FOLDER_PATH = './data/temp'"
            ]
        },
        {
            "cell_type": "markdown",
            "id": "7b45369b-9b60-42dc-a4d4-dc79f5f418c1",
            "metadata": {},
            "source": [
                "#### Visualize"
            ]
        },
        {
            "cell_type": "code",
            "execution_count": null,
            "id": "fd39ba70-78c7-45cb-a2db-56aab9353d90",
            "metadata": {},
            "outputs": [],
            "source": [
                "IMAGE_PATHS=[IMAGE_PATH]\n",
                "tab_widget = DemoHelper.create_tab_toolbar(IMAGE_PATHS)\n",
                "display(tab_widget)\n",
                "for idx, image_path in enumerate(IMAGE_PATHS):\n",
                "    with tab_widget.children[idx]:\n",
                "        display(Image(filename=image_path, width=1000, height=50)) "
            ]
        },
        {
            "cell_type": "markdown",
            "id": "0e95ef4f-cd10-46ca-8743-f2e61bee5d9a",
            "metadata": {},
            "source": [
                "## 2. Initialization"
            ]
        },
        {
            "cell_type": "markdown",
            "id": "83acf3be-dac9-4b43-b40b-380fff2becbc",
            "metadata": {},
            "source": [
                "#### <span style='color:blue'>Create new instance</span>"
            ]
        },
        {
            "cell_type": "code",
            "execution_count": null,
            "id": "ab24fae0-2b8a-4659-8111-e2557843a398",
            "metadata": {},
            "outputs": [],
            "source": [
                "import logging\n",
                "import os\n",
                "import infy_table_extractor as ite\n",
                "\n",
                "if not os.path.exists(TEMP_FOLDER_PATH):\n",
                "    os.makedirs(TEMP_FOLDER_PATH)\n",
                "\n",
                "if not os.path.exists('./logs'):\n",
                "    os.makedirs('./logs')\n",
                "logging.basicConfig(level=logging.CRITICAL, format='%(asctime)s.%(msecs)03d %(levelname)s'\n",
                "                                ' ainauto-tabula - %(module)s - %(funcName)s: %(message)s')\n",
                "logger = logging.getLogger()\n",
                "\n",
                "provider = ite.bordered_table_extractor.providers.TesseractDataServiceProvider(None,logger=logger, log_level=logging.CRITICAL)\n",
                "\n",
                "obj = ite.bordered_table_extractor.BorderedTableExtractor(\n",
                "        table_detection_provider = provider,\n",
                "        cell_extraction_provider = provider,\n",
                "        temp_folderpath = TEMP_FOLDER_PATH,\n",
                "        logger=logger)"
            ]
        },
        {
            "cell_type": "markdown",
            "id": "5cf7f4f4-a74a-4175-815d-d8304dbd2de2",
            "metadata": {},
            "source": [
                "#### <span style='color:blue'>Enter Within Bounding Box Coordinates</span>"
            ]
        },
        {
            "cell_type": "code",
            "execution_count": null,
            "id": "2dbee66a-ab3e-45c3-ac42-42335732394a",
            "metadata": {},
            "outputs": [],
            "source": [
                "# Format = [x,y,w,h]\n",
                "my_within_bbox = [40, 200, 2000, 400]"
            ]
        },
        {
            "cell_type": "markdown",
            "id": "c56ea19a-270f-4d7d-afbb-d347174c0b8a",
            "metadata": {},
            "source": [
                "#### Visualize"
            ]
        },
        {
            "cell_type": "code",
            "execution_count": null,
            "id": "373171a1-4c45-44f7-a7f4-a9d0629581cf",
            "metadata": {},
            "outputs": [],
            "source": [
                "img = DemoHelper.read_image(IMAGE_PATH)\n",
                "img = DemoHelper.draw_bboxes_on_image(img, [my_within_bbox], border_thickness=4,\n",
                "                                         border_color = DemoHelper.Constants.COLOR_BLUE)\n",
                "img = DemoHelper.reduce_image_based_on_context(img, [my_within_bbox])\n",
                "\n",
                "DemoHelper.show_image(img)"
            ]
        },
        {
            "cell_type": "markdown",
            "id": "d5d77694-3bf3-481c-892e-e01ff18961cc",
            "metadata": {},
            "source": [
                "## 3. API - extract_all_fields()"
            ]
        },
        {
            "cell_type": "markdown",
            "id": "d67f43bc-82aa-4591-97a7-320a8894aa95",
            "metadata": {},
            "source": [
                "### 3.1 Example - To extract all cells using `RGB_LINE_DETECT` method and auto-detect header names\n",
                "Default line detection method is `RGB_LINE_DETECT` \n",
                "\n",
                "With the help of `values` key, custom names can be provided to the header row or else it automatically names the \n",
                "column 'col_1', 'col_2' ..."
            ]
        },
        {
            "cell_type": "code",
            "execution_count": null,
            "id": "93c6fe43-71f6-4aef-ae9d-bb4b7335ae56",
            "metadata": {},
            "outputs": [],
            "source": [
                "config_param_dict = {\n",
                "    'col_header': {\n",
                "        'use_first_row': True,\n",
                "        'values': []\n",
                "    },\n",
                "    'line_detection_method': [ite.interface.LineDetectionMethod.RGB_LINE_DETECT]\n",
                "}\n",
                "start_time = time.time()\n",
                "result_1 = obj.extract_all_fields(\n",
                "    image_file_path=IMAGE_PATH,\n",
                "    within_bbox = my_within_bbox,\n",
                "    config_param_dict = config_param_dict)\n",
                "print(\"--- %s sec(s) ---\" % round((time.time() - start_time),2))"
            ]
        },
        {
            "cell_type": "markdown",
            "id": "d8382d41-818b-46c8-b3c7-3c4faa88a5ab",
            "metadata": {
                "tags": []
            },
            "source": [
                "#### Output"
            ]
        },
        {
            "cell_type": "code",
            "execution_count": null,
            "id": "4883dfa4-e1ab-4ca9-866b-e86da5c850dc",
            "metadata": {},
            "outputs": [],
            "source": [
                "# print(json.dumps(result_1, indent=4))\n",
                "df = pd.json_normalize(result_1['fields'][0]['table_value'])\n",
                "# Postprocessing to remove newline chars\n",
                "df.columns = df.columns.str.replace(r'\\n','', regex=True)\n",
                "df = df.replace(r'\\n','', regex=True)\n",
                "\n",
                "print('No. of records found =', len(df))\n",
                "df.index = df.index + 1\n",
                "df"
            ]
        },
        {
            "cell_type": "markdown",
            "id": "c9d48adc-05b3-439f-9d63-1b95db56b2c3",
            "metadata": {},
            "source": [
                "### 3.2 Example - To extract all cells using `OPENCV_LINE_DETECT` method and save as an excel file"
            ]
        },
        {
            "cell_type": "code",
            "execution_count": null,
            "id": "15bc8252-65af-4d68-a2ad-36c747efc8a0",
            "metadata": {},
            "outputs": [],
            "source": [
                "config_param_dict = {\n",
                "        'col_header': {\n",
                "            'use_first_row': True,\n",
                "        },\n",
                "        'line_detection_method': [ite.interface.LineDetectionMethod.OPENCV_LINE_DETECT]\n",
                "    }\n",
                "\n",
                "start_time = time.time()\n",
                "result_2 = obj.extract_all_fields(image_file_path=IMAGE_PATH,\n",
                "                                  within_bbox = my_within_bbox,\n",
                "                                  config_param_dict = config_param_dict)\n",
                "print(\"--- %s sec(s) ---\" % round((time.time() - start_time),2))"
            ]
        },
        {
            "cell_type": "markdown",
            "id": "356d9f25-5c94-40a0-ade1-de2d2570667d",
            "metadata": {},
            "source": [
                "***Note: The output of the extracted table above using two different methods `RGB_LINE_DETECT` and `OPENCV_LINE_DETECT` are different depending on the type of image. Hence, the selection of the line detection method plays a major role here.***"
            ]
        },
        {
            "cell_type": "markdown",
            "id": "df12868c-fa94-4651-b7e1-0562c54f1e54",
            "metadata": {
                "tags": []
            },
            "source": [
                "#### Output"
            ]
        },
        {
            "cell_type": "code",
            "execution_count": null,
            "id": "bfa2cb4b-4524-4b5e-a153-d6a18fd4d7ff",
            "metadata": {},
            "outputs": [],
            "source": [
                "# print(json.dumps(result_2, indent=4))\n",
                "df = pd.json_normalize(result_2['fields'][0]['table_value'])\n",
                "# Postprocessing to remove newline chars\n",
                "df.columns = df.columns.str.replace(r'\\n','', regex=True)\n",
                "df = df.replace(r'\\n','', regex=True)\n",
                "\n",
                "print('No. of records found =', len(df))\n",
                "df.index = df.index + 1\n",
                "df"
            ]
        },
        {
            "cell_type": "markdown",
            "id": "be9979d8-0076-4ca5-a237-268b1463770a",
            "metadata": {},
            "source": [
                "### 3.3 Example - To extract custom cells"
            ]
        },
        {
            "cell_type": "code",
            "execution_count": null,
            "id": "92b928fa-31da-464e-97c3-019f2c3fca24",
            "metadata": {},
            "outputs": [],
            "source": [
                "config_param_dict = {\n",
                "    \"custom_cells\": [\n",
                "        {\n",
                "            \"rows\": [\"2:4\"],\n",
                "            \"columns\":[1]\n",
                "        },\n",
                "        {\n",
                "            \"rows\": [\"5\"],\n",
                "            \"columns\":[2]\n",
                "        }\n",
                "    ]\n",
                "}\n",
                "\n",
                "start_time = time.time()\n",
                "result_3 = obj.extract_all_fields(image_file_path=IMAGE_PATH, \n",
                "                                  within_bbox = my_within_bbox,\n",
                "                                  config_param_dict =config_param_dict)\n",
                "print(\"--- %s sec(s) ---\" % round((time.time() - start_time),2))"
            ]
        },
        {
            "cell_type": "markdown",
            "id": "7aee906f-d923-4257-90a6-d3799a9d4a53",
            "metadata": {},
            "source": [
                "#### Output"
            ]
        },
        {
            "cell_type": "code",
            "execution_count": null,
            "id": "fbdf29b9-8018-4bd3-8dea-c1babc7bfe3f",
            "metadata": {},
            "outputs": [],
            "source": [
                "# print(json.dumps(result_3, indent=4))\n",
                "df = pd.json_normalize(result_3['fields'][0]['table_value'])\n",
                "# Postprocessing to remove newline chars\n",
                "df.columns = df.columns.str.replace(r'\\n','', regex=True)\n",
                "df = df.replace(r'\\n','', regex=True)\n",
                "\n",
                "print('No. of records found =', len(df))\n",
                "df.index = df.index + 1\n",
                "df"
            ]
        }
    ],
    "metadata": {
        "language_info": {
            "name": "python"
        }
    },
    "nbformat": 4,
    "nbformat_minor": 5
}