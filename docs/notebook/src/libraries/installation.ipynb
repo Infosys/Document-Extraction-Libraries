{
    "cells": [
        {
            "cell_type": "code",
            "execution_count": null,
            "id": "203cfd98-8dfe-4a85-9142-44e0b5f1b3ad",
            "metadata": {},
            "outputs": [],
            "source": [
                "# ===============================================================================================================#\n",
                "# Copyright 2023 Infosys Ltd.                                                                          #\n",
                "# Use of this source code is governed by Apache License Version 2.0 that can be found in the LICENSE file or at  #\n",
                "# http://www.apache.org/licenses/                                                                                #\n",
                "# ===============================================================================================================#"
            ]
        },
        {
            "cell_type": "markdown",
            "id": "1a8989d2-a0b6-4005-a596-04db7f7da67d",
            "metadata": {},
            "source": [
                "# 1. Installation"
            ]
        },
        {
            "cell_type": "markdown",
            "id": "1299858e-c694-4dad-95d8-af6084ffe163",
            "metadata": {},
            "source": [
                "##### Install required libraries (python >3.8.3)"
            ]
        },
        {
            "cell_type": "code",
            "execution_count": null,
            "id": "664def13-534a-42ef-9450-9d53c16d640e",
            "metadata": {},
            "outputs": [],
            "source": [
                "!python.exe -m pip install --upgrade pip"
            ]
        },
        {
            "cell_type": "code",
            "execution_count": null,
            "id": "af3c7443-b396-48b5-9f77-94b50422116f",
            "metadata": {},
            "outputs": [],
            "source": [
                "!pip install ../../lib/infy_ocr_generator-0.0.13-py3-none-any.whl[tesseract,abbyy,aws,afr]\n",
                "!pip install ../../lib/infy_ocr_parser-0.0.16-py3-none-any.whl\n",
                "!pip install ../../lib/infy_field_extractor-0.0.12-py3-none-any.whl\n",
                "!pip install ../../lib/infy_table_extractor-0.0.11-py3-none-any.whl"
            ]
        },
        {
            "cell_type": "markdown",
            "id": "035c41f5-7fc7-40e8-8870-645b1e7a8c39",
            "metadata": {},
            "source": [
                "<hr/>"
            ]
        },
        {
            "cell_type": "markdown",
            "id": "48137e90-b561-4240-8663-679f20e666c4",
            "metadata": {},
            "source": [
                "# 2. Maintenance (Optional)\n",
                "#### <span style='color:red'><b>NOTE: This section is for maintenance purpose <i>only</i> so you may skip.</b></span>"
            ]
        },
        {
            "cell_type": "markdown",
            "id": "fbffacc9-e05b-4c4a-9652-d07ac66e7d2a",
            "metadata": {},
            "source": [
                "#### 2.1. Clear output from all notebook files"
            ]
        },
        {
            "cell_type": "code",
            "execution_count": null,
            "id": "c4d71df3-7679-4d97-bb92-2376c9d59710",
            "metadata": {},
            "outputs": [],
            "source": [
                "from _internal_utils.notebook_util import NotebookUtil\n",
                "\n",
                "NB_ROOT_FOLDER_PATH = '.'\n",
                "EXCLUDE_NB_FILE_LIST = ['installation.ipynb']\n",
                "NotebookUtil.clear_output(NB_ROOT_FOLDER_PATH, EXCLUDE_NB_FILE_LIST, dry_run_mode=False)"
            ]
        },
        {
            "cell_type": "markdown",
            "id": "55df14a8-61c5-4475-83c1-28fddb4ccc6c",
            "metadata": {},
            "source": [
                "<hr/>"
            ]
        }
    ],
    "metadata": {
        "kernelspec": {
            "display_name": "Python 3 (ipykernel)",
            "language": "python",
            "name": "python3"
        },
        "language_info": {
            "codemirror_mode": {
                "name": "ipython",
                "version": 3
            },
            "file_extension": ".py",
            "mimetype": "text/x-python",
            "name": "python",
            "nbconvert_exporter": "python",
            "pygments_lexer": "ipython3",
            "version": "3.11.2"
        }
    },
    "nbformat": 4,
    "nbformat_minor": 5
}