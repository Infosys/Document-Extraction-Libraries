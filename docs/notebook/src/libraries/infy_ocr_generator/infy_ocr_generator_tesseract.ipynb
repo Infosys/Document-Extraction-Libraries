{
    "cells": [
        {
            "cell_type": "code",
            "execution_count": null,
            "id": "9049d1ea-7c1e-46b5-a1a7-366f2229a2ca",
            "metadata": {},
            "outputs": [],
            "source": [
                "# ===============================================================================================================#\n",
                "# Copyright 2022 Infosys Ltd.                                                                          #\n",
                "# Use of this source code is governed by Apache License Version 2.0 that can be found in the LICENSE file or at  #\n",
                "# http://www.apache.org/licenses/                                                                                #\n",
                "# ===============================================================================================================#"
            ]
        },
        {
            "cell_type": "markdown",
            "id": "d45a06e3-1536-43f4-9966-f9c3334fd46e",
            "metadata": {},
            "source": [
                "## 1. Preparation"
            ]
        },
        {
            "cell_type": "code",
            "execution_count": null,
            "id": "9a62dba0-d738-4c02-9df1-c9c5f667b24a",
            "metadata": {},
            "outputs": [],
            "source": [
                "import json\n",
                "from _internal_utils.demo_helper import DemoHelper\n",
                "import pandas as pd\n",
                "from IPython.display import Image"
            ]
        },
        {
            "cell_type": "markdown",
            "id": "293caa6f-5a94-4ed8-8fbe-1e8ccba617de",
            "metadata": {},
            "source": [
                "#### <span style='color:blue'>Validate external tools</span>"
            ]
        },
        {
            "cell_type": "code",
            "execution_count": null,
            "id": "45e1f873-f9f0-45ff-b209-d4a71e609e1b",
            "metadata": {},
            "outputs": [],
            "source": [
                "#Checking if Tesseract is installed.\n",
                "DemoHelper.check_command(['tesseract','--version'])"
            ]
        },
        {
            "cell_type": "markdown",
            "id": "e29dc7c8-3819-4c79-8036-60998ef5ee23",
            "metadata": {},
            "source": [
                "#### <span style='color:blue'>Enter image paths</span>"
            ]
        },
        {
            "cell_type": "code",
            "execution_count": null,
            "id": "9c5d74b7-b939-48ac-a475-b8556094b2cd",
            "metadata": {},
            "outputs": [],
            "source": [
                "IMAGE_PATHS=['./data/coi_1.jpg','./data/coi_2.jpg']"
            ]
        },
        {
            "cell_type": "markdown",
            "id": "494431fa-b6af-43ad-b924-bfec10618ab3",
            "metadata": {},
            "source": [
                "#### Visualize"
            ]
        },
        {
            "cell_type": "code",
            "execution_count": null,
            "id": "67f40655-d91c-44fb-8853-0b93cad3ae32",
            "metadata": {},
            "outputs": [],
            "source": [
                "tab_widget = DemoHelper.create_tab_toolbar(IMAGE_PATHS)\n",
                "display(tab_widget)\n",
                "for idx, image_path in enumerate(IMAGE_PATHS):\n",
                "    with tab_widget.children[idx]:\n",
                "        display(Image(filename=image_path, width=1000, height=50))   "
            ]
        },
        {
            "cell_type": "markdown",
            "id": "292849a8-2db8-4110-9afc-b47754f77cd2",
            "metadata": {},
            "source": [
                "## 2. Initialization"
            ]
        },
        {
            "cell_type": "markdown",
            "id": "d6a43156-8a04-4a6a-b2f9-bb8ff674ef7a",
            "metadata": {},
            "source": [
                "#### <span style='color:blue'>Create new instance with desired OCR service provider</span>"
            ]
        },
        {
            "cell_type": "code",
            "execution_count": null,
            "id": "46931fec-b644-498e-9e90-084c2d0ecf71",
            "metadata": {},
            "outputs": [],
            "source": [
                "import json\n",
                "import logging\n",
                "import os\n",
                "\n",
                "from infy_ocr_generator import ocr_generator\n",
                "from infy_ocr_generator.providers.tesseract_ocr_data_service_provider import TesseractOcrDataServiceProvider\n",
                "from infy_ocr_generator.providers.infy_ocr_engine_data_service_provider import InfyOcrEngineDataServiceProvider\n",
                "\n",
                "if not os.path.exists(\"./logs\"):\n",
                "    os.makedirs(\"./logs\")\n",
                "logging.basicConfig(\n",
                "    filename=(\"./logs\" + \"/app_log.log\"),\n",
                "    format=\"%(asctime)s- %(levelname)s- %(message)s\",\n",
                "    level=logging.INFO,\n",
                "    datefmt=\"%d-%b-%y %H:%M:%S\",\n",
                ")\n",
                "logger = logging.getLogger()\n",
                "# Uncomment below when you are using Tesseract executable\n",
                "# CONFIG_PARAMS_DICT = {\n",
                "#         \"tesseract\": {}\n",
                "#     }\n",
                "# tesseract_ocr_provider = TesseractOcrDataServiceProvider(\n",
                "#         config_params_dict=CONFIG_PARAMS_DICT,\n",
                "#         overwrite=True,\n",
                "#         logger=logger\n",
                "#     )\n",
                "# ocr_gen_obj = ocr_generator.OcrGenerator(data_service_provider=tesseract_ocr_provider)\n",
                "\n",
                "#Uncomment below when you are using InfyOcrEngineJAR\n",
                "CONFIG_PARAMS_DICT = {\n",
                "        'ocr_engine': {\n",
                "            'exe_dir_path': 'C:/MyProgramFiles/InfyOcrEngine',\n",
                "            'model_dir_path': 'C:/MyProgramFiles/AI/models/tessdata',\n",
                "            'ocr_format': 'hocr',\n",
                "            'lang': 'eng'\n",
                "        }\n",
                "    }\n",
                "ocr_engine_provider = InfyOcrEngineDataServiceProvider(\n",
                "    config_params_dict=CONFIG_PARAMS_DICT)\n",
                "\n",
                "\n",
                "ocr_gen_obj = ocr_generator.OcrGenerator(data_service_provider=ocr_engine_provider)"
            ]
        },
        {
            "cell_type": "markdown",
            "id": "863def00-c2d0-41e2-b9f3-42f73fc221f4",
            "metadata": {},
            "source": [
                "## 3. API - generate()"
            ]
        },
        {
            "cell_type": "markdown",
            "id": "d2760578-3982-46ce-aea6-ac57cedea560",
            "metadata": {},
            "source": [
                "### 3.1. Example"
            ]
        },
        {
            "cell_type": "code",
            "execution_count": null,
            "id": "08f95c16-e312-424a-a186-5267a6a7abd1",
            "metadata": {},
            "outputs": [],
            "source": [
                "ocr_result_list = ocr_gen_obj.generate(\n",
                "         doc_data_list=[{\n",
                "                 'doc_path': doc_file_path,\n",
                "                 'pages': index+1\n",
                "             } for index, doc_file_path in enumerate(IMAGE_PATHS)]\n",
                ")"
            ]
        },
        {
            "cell_type": "markdown",
            "id": "1aae467f-fd80-4ec8-bfb3-072924f1f929",
            "metadata": {},
            "source": [
                "#### Output"
            ]
        },
        {
            "cell_type": "code",
            "execution_count": null,
            "id": "88491eab-5047-4366-8714-d888d1f0483a",
            "metadata": {},
            "outputs": [],
            "source": [
                "print(json.dumps(ocr_result_list, indent=4))"
            ]
        },
        {
            "cell_type": "markdown",
            "id": "36eec6c9-7b8c-4eb2-8527-a675db1723fc",
            "metadata": {},
            "source": [
                "#### Visualize"
            ]
        },
        {
            "cell_type": "code",
            "execution_count": null,
            "id": "52e04287-fdf1-409e-a0e1-b75b04853b6a",
            "metadata": {},
            "outputs": [],
            "source": [
                "OCR_PATHS = [x['output_doc'] for x in ocr_result_list]\n",
                "tab_widget = DemoHelper.create_tab_toolbar(OCR_PATHS)\n",
                "display(tab_widget)\n",
                "for idx, ocr_path in enumerate(OCR_PATHS):\n",
                "    with tab_widget.children[idx]:\n",
                "        print(DemoHelper.get_shortened_text(DemoHelper.read_file(ocr_path),max_line_count=25))"
            ]
        }
    ],
    "metadata": {
        "language_info": {
            "name": "python"
        }
    },
    "nbformat": 4,
    "nbformat_minor": 5
}