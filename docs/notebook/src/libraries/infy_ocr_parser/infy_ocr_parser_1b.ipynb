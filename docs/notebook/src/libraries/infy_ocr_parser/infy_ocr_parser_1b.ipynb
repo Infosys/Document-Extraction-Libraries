{
    "cells": [
        {
            "cell_type": "code",
            "execution_count": null,
            "id": "d7645848-fc68-4c5d-8730-114d18b95649",
            "metadata": {},
            "outputs": [],
            "source": [
                "# ===============================================================================================================#\n",
                "# Copyright 2022 Infosys Ltd.                                                                          #\n",
                "# Use of this source code is governed by Apache License Version 2.0 that can be found in the LICENSE file or at  #\n",
                "# http://www.apache.org/licenses/                                                                                #\n",
                "# ===============================================================================================================#"
            ]
        },
        {
            "cell_type": "markdown",
            "id": "bdbcc0f3-f73e-4261-afc4-1701596dc7f7",
            "metadata": {},
            "source": [
                "## 1. Preparation"
            ]
        },
        {
            "cell_type": "code",
            "execution_count": null,
            "id": "bc834e74-4481-48b1-a7da-9b238f0a9680",
            "metadata": {},
            "outputs": [],
            "source": [
                "from _internal_utils.demo_helper import DemoHelper\n",
                "import pandas as pd\n",
                "from IPython.display import Image"
            ]
        },
        {
            "cell_type": "markdown",
            "id": "a548a7f8-b8d3-47b5-94c4-8dfd7c3aa161",
            "metadata": {},
            "source": [
                "#### <span style='color:blue'>Enter image and OCR file paths</span>"
            ]
        },
        {
            "cell_type": "code",
            "execution_count": null,
            "id": "d27a07c8-6c79-4067-a49b-48860daf6e09",
            "metadata": {},
            "outputs": [],
            "source": [
                "IMAGE_PATHS=[\"./data/coi_1.jpg\", \"./data/coi_2.jpg\"]\n",
                "IMAGE_OCR_PATHS=['./data/coi_1.jpg.hocr', './data/coi_2.jpg.hocr']"
            ]
        },
        {
            "cell_type": "markdown",
            "id": "2472aef9-7372-4649-b4a6-83ab540d37f9",
            "metadata": {},
            "source": [
                "#### Visualize"
            ]
        },
        {
            "cell_type": "code",
            "execution_count": null,
            "id": "c745771c-592a-42a7-9ca1-b88f503362af",
            "metadata": {},
            "outputs": [],
            "source": [
                "tab_widget = DemoHelper.create_tab_toolbar(IMAGE_PATHS)\n",
                "display(tab_widget)\n",
                "for idx, image_path in enumerate(IMAGE_PATHS):\n",
                "    with tab_widget.children[idx]:\n",
                "        display(Image(filename=image_path, width=1000, height=50))"
            ]
        },
        {
            "cell_type": "markdown",
            "id": "0d594a29-2f57-440e-8d8a-7e8779b9e2ab",
            "metadata": {},
            "source": [
                "<!-- #### Util Method to Plot response region on Image -->"
            ]
        },
        {
            "cell_type": "markdown",
            "id": "4224a997-21db-4ed0-8669-f7f63b67e4ac",
            "metadata": {},
            "source": [
                "## 2. Initialization"
            ]
        },
        {
            "cell_type": "markdown",
            "id": "f74d7af4-2ef6-4713-b0f7-3c93acb681d9",
            "metadata": {},
            "source": [
                "#### <span style='color:blue'>Create new instance with desired OCR service provider</span>"
            ]
        },
        {
            "cell_type": "markdown",
            "id": "0a703c6d-c3cb-4c42-810b-b8c0fac0c22a",
            "metadata": {
                "tags": []
            },
            "source": [
                "<!-- ### 1.1. Example -  Create Instance - Without logging -->"
            ]
        },
        {
            "cell_type": "code",
            "execution_count": null,
            "id": "b8756962-3066-4ec1-be58-5a2b3ca6a76f",
            "metadata": {},
            "outputs": [],
            "source": [
                "import json\n",
                "import logging\n",
                "import os\n",
                "\n",
                "from infy_ocr_parser import ocr_parser\n",
                "from infy_ocr_parser.providers.tesseract_ocr_data_service_provider import TesseractOcrDataServiceProvider\n",
                "\n",
                "ocr_file_list = IMAGE_OCR_PATHS\n",
                "\n",
                "if not os.path.exists(\"./logs\"):\n",
                "    os.makedirs(\"./logs\")\n",
                "logging.basicConfig(\n",
                "    filename=(\"./logs\" + \"/app_log.log\"),\n",
                "    format=\"%(asctime)s- %(levelname)s- %(message)s\",\n",
                "    level=logging.INFO,\n",
                "    datefmt=\"%d-%b-%y %H:%M:%S\",\n",
                ")\n",
                "logger = logging.getLogger()\n",
                "data_service_provider_obj = TesseractOcrDataServiceProvider()\n",
                "\n",
                "ocr_parse_obj = ocr_parser.OcrParser(ocr_file_list=ocr_file_list,\n",
                "                                     data_service_provider=data_service_provider_obj,\n",
                "                                     logger=logger)"
            ]
        },
        {
            "cell_type": "markdown",
            "id": "1ce048bf-27d4-4405-b2b9-6089d4a84039",
            "metadata": {},
            "source": [
                "## 3. API - get_bbox_for()"
            ]
        },
        {
            "cell_type": "markdown",
            "id": "d230c435-83c2-414b-a3e4-875cc23d560f",
            "metadata": {},
            "source": [
                "### 3.5. Single-line anchor text match using 'normal' method"
            ]
        },
        {
            "cell_type": "code",
            "execution_count": null,
            "id": "5a1fc097-659a-49a1-9d8e-717fd5a23508",
            "metadata": {},
            "outputs": [],
            "source": [
                "reg_def_dict_list = [\n",
                "    {\n",
                "        \"anchorText\": [\n",
                "            \"E-mail\"\n",
                "        ],\n",
                "        \"anchorTextMatch\":{\n",
                "            'method': 'normal', \n",
                "            'similarityScore': 0.85\n",
                "        }\n",
                "    }\n",
                "]\n",
                "result = ocr_parse_obj.get_bbox_for(reg_def_dict_list)"
            ]
        },
        {
            "cell_type": "markdown",
            "id": "60d96080-c6b8-48b5-873e-de2bb8311fca",
            "metadata": {},
            "source": [
                "#### Output"
            ]
        },
        {
            "cell_type": "code",
            "execution_count": null,
            "id": "975b6cc5-977c-457c-9996-adbada6edda3",
            "metadata": {},
            "outputs": [],
            "source": [
                "# print(json.dumps(result, indent=4))"
            ]
        },
        {
            "cell_type": "markdown",
            "id": "1233ec8e-7f8e-4058-b70b-4a079822120d",
            "metadata": {},
            "source": [
                "#### Visualize"
            ]
        },
        {
            "cell_type": "code",
            "execution_count": null,
            "id": "ab1fd39c-b2ae-4cc5-8b7b-f9d979fe2f23",
            "metadata": {},
            "outputs": [],
            "source": [
                "DemoHelper.visualize_get_bbox_for_result(result, IMAGE_PATHS)  "
            ]
        },
        {
            "cell_type": "markdown",
            "id": "05703bd0-0884-4263-9679-7a10aa71cf86",
            "metadata": {},
            "source": [
                "1. If no `anhorPoint1` and `anchorPoint2` given, it returns bbox of anchorText.\n",
                "2. `similarityScore` given is `0.85`, above which if match found for `anchorText`, it returns the bbox of it."
            ]
        },
        {
            "cell_type": "markdown",
            "id": "cd347189-02cf-4da9-be83-fa1781cc47af",
            "metadata": {},
            "source": [
                "### 3.6. Multiline anchor text match using 'normal' method"
            ]
        },
        {
            "cell_type": "code",
            "execution_count": null,
            "id": "91b33efc-2534-4ff6-add8-2fb6fcacbf87",
            "metadata": {},
            "outputs": [],
            "source": [
                "reg_def_dict_list = [\n",
                "    {\n",
                "        \"anchorText\": [\n",
                "            \"Comprehensive\", \"Coverage\"\n",
                "        ],\n",
                "        \"anchorTextMatch\":{\n",
                "            'method': 'normal',\n",
                "            'similarityScore': 0.95\n",
                "        },\n",
                "        \"anchorPoint1\": {\n",
                "            \"left\": 0, \n",
                "            \"top\": 0,\n",
                "            \"right\": None, \n",
                "            \"bottom\": None\n",
                "        },\n",
                "        \"anchorPoint2\": {\n",
                "            \"left\": None, \n",
                "            \"top\": None,\n",
                "            \"right\": 0, \n",
                "            \"bottom\": 0\n",
                "        }\n",
                "    }\n",
                "]\n",
                "result = ocr_parse_obj.get_bbox_for(reg_def_dict_list)"
            ]
        },
        {
            "cell_type": "markdown",
            "id": "efb852c9-cde9-45fa-9b5d-97bdf824c54d",
            "metadata": {},
            "source": [
                "#### Output"
            ]
        },
        {
            "cell_type": "code",
            "execution_count": null,
            "id": "4beb62fc-dc21-470b-9b16-a88c255e0d91",
            "metadata": {},
            "outputs": [],
            "source": [
                "# print(json.dumps(result, indent=4))"
            ]
        },
        {
            "cell_type": "markdown",
            "id": "30c278e6-1d51-49e8-b817-bceefcedd21a",
            "metadata": {},
            "source": [
                "#### Visualize"
            ]
        },
        {
            "cell_type": "code",
            "execution_count": null,
            "id": "38b29097-ff94-4001-9abc-a19be5a9973d",
            "metadata": {},
            "outputs": [],
            "source": [
                "DemoHelper.visualize_get_bbox_for_result(result, IMAGE_PATHS)  "
            ]
        },
        {
            "cell_type": "markdown",
            "id": "101104a2-d4e6-474c-8096-bdad7719d25d",
            "metadata": {},
            "source": [
                "1. Using `anchorText` will get right side of value region by finding two rectangle points.\n",
                "1. `similarityScore` given is `0.95`, above which if match found for `anchorText`, it returns the bbox of it.\n",
                "1. Each word in a `anchorText` list is considered to be consecutive lines."
            ]
        },
        {
            "cell_type": "markdown",
            "id": "b95afe66-ab3f-4cdd-ae83-d4203e7c1cc6",
            "metadata": {},
            "source": [
                "### 3.7. Synonyms - Single-line anchor text match using 'normal' method"
            ]
        },
        {
            "cell_type": "code",
            "execution_count": null,
            "id": "2f0e29b2-1e45-4341-857c-08f27d8758b3",
            "metadata": {},
            "outputs": [],
            "source": [
                "reg_def_dict_list = [\n",
                "    {\n",
                "        \"anchorText\": [\n",
                "            [\"MAIL\", \"E-MAIL\"]\n",
                "        ],\n",
                "        \"anchorTextMatch\":{\n",
                "            'method': 'normal', \n",
                "            'similarityScore': 1\n",
                "        },\n",
                "        \"anchorPoint1\": {\n",
                "            \"left\": 0,\n",
                "            \"top\": 0, \n",
                "            \"right\": None, \n",
                "            \"bottom\": None\n",
                "        },\n",
                "        \"anchorPoint2\": {\n",
                "            \"left\": None, \n",
                "            \"top\": None, \n",
                "            \"right\": 0, \n",
                "            \"bottom\": 0\n",
                "        }\n",
                "    }\n",
                "]\n",
                "result = ocr_parse_obj.get_bbox_for(reg_def_dict_list)"
            ]
        },
        {
            "cell_type": "markdown",
            "id": "0729e4c2-23ca-4045-85a6-99f918e91a99",
            "metadata": {},
            "source": [
                "#### Output"
            ]
        },
        {
            "cell_type": "code",
            "execution_count": null,
            "id": "51bebf88-de3d-400a-9785-64501aef95c1",
            "metadata": {},
            "outputs": [],
            "source": [
                "# print(json.dumps(result, indent=4))"
            ]
        },
        {
            "cell_type": "markdown",
            "id": "d0b81079-c3c4-4270-ac74-186699acb536",
            "metadata": {},
            "source": [
                "#### Visualize"
            ]
        },
        {
            "cell_type": "code",
            "execution_count": null,
            "id": "f4a82566-18e1-4363-a527-fe90cdae1284",
            "metadata": {},
            "outputs": [],
            "source": [
                "DemoHelper.visualize_get_bbox_for_result(result, IMAGE_PATHS)  "
            ]
        },
        {
            "cell_type": "markdown",
            "id": "5c5bd634-364d-4f67-8273-9a382c6acc33",
            "metadata": {},
            "source": [
                "### 3.8. Synonyms - Multiline anchor text match using 'normal' method"
            ]
        },
        {
            "cell_type": "code",
            "execution_count": null,
            "id": "4e927288-ef9f-441c-a872-7c82a7ede8f7",
            "metadata": {},
            "outputs": [],
            "source": [
                "reg_def_dict_list = [\n",
                "    {\n",
                "        \"anchorText\": [\n",
                "            [\"COMPREHENSIVE\", \"COLLISION\"],\n",
                "            [\"COVERAGE\"]\n",
                "        ],\n",
                "        \"anchorTextMatch\":{\n",
                "            'method': 'normal', \n",
                "            'similarityScore': 0.93\n",
                "        },\n",
                "        \"anchorPoint1\": {\n",
                "            \"left\": 0,\n",
                "            \"top\": 0,\n",
                "            \"right\": None, \n",
                "            \"bottom\": None\n",
                "        },\n",
                "        \"anchorPoint2\": {\n",
                "            \"left\": None, \n",
                "            \"top\": None,\n",
                "            \"right\": 0, \n",
                "            \"bottom\": 0\n",
                "        }\n",
                "    }\n",
                "]\n",
                "result = ocr_parse_obj.get_bbox_for(reg_def_dict_list)"
            ]
        },
        {
            "cell_type": "markdown",
            "id": "4fd87a53-2c44-447d-a4c0-45abb05954f0",
            "metadata": {},
            "source": [
                "#### Output"
            ]
        },
        {
            "cell_type": "code",
            "execution_count": null,
            "id": "45b8bdc7-5110-4e8b-baa0-b05c8fcf3e55",
            "metadata": {},
            "outputs": [],
            "source": [
                "# print(json.dumps(result, indent=4))"
            ]
        },
        {
            "cell_type": "markdown",
            "id": "1533a1aa-7ab5-4479-bedf-63f02a1e1ce7",
            "metadata": {},
            "source": [
                "#### Visualize"
            ]
        },
        {
            "cell_type": "code",
            "execution_count": null,
            "id": "26f30960-caba-43c7-9708-fc387a3e8988",
            "metadata": {},
            "outputs": [],
            "source": [
                "DemoHelper.visualize_get_bbox_for_result(result, IMAGE_PATHS)  "
            ]
        },
        {
            "cell_type": "markdown",
            "id": "9603b6a0-fa60-49fa-89d8-30ee4814d96f",
            "metadata": {},
            "source": [
                "1. Using `anchorText` will get right side of value region by finding two rectangle points.\n",
                "1. `similarityScore` given is `0.93`, above which if match found for `anchorText`, it returns the bbox of it.\n",
                "1. Each element in the inner arrays, represents synonym words and each element in the outer list represents multiline match."
            ]
        }
    ],
    "metadata": {
        "language_info": {
            "name": "python"
        }
    },
    "nbformat": 4,
    "nbformat_minor": 5
}