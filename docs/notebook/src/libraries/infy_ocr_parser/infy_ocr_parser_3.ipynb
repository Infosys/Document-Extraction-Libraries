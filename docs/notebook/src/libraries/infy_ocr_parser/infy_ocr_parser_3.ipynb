{
 "cells": [
  {
   "cell_type": "code",
   "execution_count": 1,
   "id": "069c94e5-93a1-4178-8f1f-1089c9cc6be2",
   "metadata": {
    "tags": []
   },
   "outputs": [],
   "source": [
    "# ===============================================================================================================#\n",
    "# Copyright 2022 Infosys Ltd.                                                                                    #\n",
    "# Use of this source code is governed by Apache License Version 2.0 that can be found in the LICENSE file or at  #\n",
    "# http://www.apache.org/licenses/                                                                                #\n",
    "# ===============================================================================================================#"
   ]
  },
  {
   "cell_type": "markdown",
   "id": "87ff2b73-6747-4677-99d5-53fecf757829",
   "metadata": {},
   "source": [
    "## 1. Preparation"
   ]
  },
  {
   "cell_type": "code",
   "execution_count": 2,
   "id": "4ac65b18-1ba3-48a5-bf6d-f91561b3b183",
   "metadata": {
    "tags": []
   },
   "outputs": [],
   "source": [
    "from libraries._internal_utils.demo_helper import DemoHelper\n",
    "import pandas as pd\n",
    "from IPython.display import Image"
   ]
  },
  {
   "cell_type": "markdown",
   "id": "3cd5473f-8fe2-4493-8b8c-75696cb70a0d",
   "metadata": {},
   "source": [
    "#### <span style='color:blue'>Enter image and OCR file paths</span>"
   ]
  },
  {
   "cell_type": "code",
   "execution_count": 3,
   "id": "73306bbf-d3c4-4678-bded-379a26ed7c17",
   "metadata": {
    "tags": []
   },
   "outputs": [],
   "source": [
    "IMAGE_PATHS=[\"./data/coi_1.jpg\", \"./data/coi_2.jpg\"]\n",
    "IMAGE_OCR_PATHS=['./data/coi_1.jpg.hocr', './data/coi_2.jpg.hocr']"
   ]
  },
  {
   "cell_type": "markdown",
   "id": "5f492123-e5bd-42ad-a762-1c0744b1e6db",
   "metadata": {},
   "source": [
    "#### Visualize"
   ]
  },
  {
   "cell_type": "code",
   "execution_count": 4,
   "id": "17b51566-f021-481b-af22-ed20d9624898",
   "metadata": {
    "tags": []
   },
   "outputs": [
    {
     "data": {
      "application/vnd.jupyter.widget-view+json": {
       "model_id": "d0d4cc27e3fb4fef9521925b96d71d75",
       "version_major": 2,
       "version_minor": 0
      },
      "text/plain": [
       "Tab(children=(Output(layout=Layout(border_bottom='0px solid green', border_left='0px solid green', border_righ…"
      ]
     },
     "metadata": {},
     "output_type": "display_data"
    }
   ],
   "source": [
    "tab_widget = DemoHelper.create_tab_toolbar(IMAGE_PATHS)\n",
    "display(tab_widget)\n",
    "for idx, image_path in enumerate(IMAGE_PATHS):\n",
    "    with tab_widget.children[idx]:\n",
    "        display(Image(filename=image_path, width=1000, height=50))"
   ]
  },
  {
   "cell_type": "markdown",
   "id": "e8180de7-c4b1-4718-9089-1884d8c55792",
   "metadata": {},
   "source": [
    "## 2. Initialization"
   ]
  },
  {
   "cell_type": "markdown",
   "id": "a9059589-0a83-4d9f-b057-a664d7055c28",
   "metadata": {},
   "source": [
    "#### <span style='color:blue'>Create new instance with desired OCR service provider</span>"
   ]
  },
  {
   "cell_type": "markdown",
   "id": "addb716d-207e-457d-891a-0994180ca851",
   "metadata": {
    "tags": []
   },
   "source": [
    "<!-- ### 1.1. Example -  Create Instance - Without logging -->"
   ]
  },
  {
   "cell_type": "code",
   "execution_count": null,
   "id": "0f72f585-2d16-4f18-aba8-58b86b29f50e",
   "metadata": {
    "tags": []
   },
   "outputs": [],
   "source": [
    "import json\n",
    "import logging\n",
    "import os\n",
    "\n",
    "from infy_ocr_parser import ocr_parser\n",
    "from infy_ocr_parser.providers.tesseract_ocr_data_service_provider import TesseractOcrDataServiceProvider\n",
    "\n",
    "ocr_file_list = IMAGE_OCR_PATHS\n",
    "\n",
    "if not os.path.exists(\"./logs\"):\n",
    "    os.makedirs(\"./logs\")\n",
    "logging.basicConfig(\n",
    "    filename=(\"./logs\" + \"/app_log.log\"),\n",
    "    format=\"%(asctime)s- %(levelname)s- %(message)s\",\n",
    "    level=logging.INFO,\n",
    "    datefmt=\"%d-%b-%y %H:%M:%S\",\n",
    ")\n",
    "logger = logging.getLogger()\n",
    "data_service_provider_obj = TesseractOcrDataServiceProvider()\n",
    "\n",
    "ocr_parse_obj = ocr_parser.OcrParser(ocr_file_list=ocr_file_list,\n",
    "                                     data_service_provider=data_service_provider_obj,\n",
    "                                     logger=logger)"
   ]
  },
  {
   "cell_type": "markdown",
   "id": "e245cca2-439c-4c3b-8e3c-a55e8b073580",
   "metadata": {},
   "source": [
    "## 3. API - save_tokens_as_json()"
   ]
  },
  {
   "cell_type": "code",
   "execution_count": 6,
   "id": "7fc3edd4-6efc-406e-9656-e99b3556af5b",
   "metadata": {
    "tags": []
   },
   "outputs": [],
   "source": [
    "TOKEN_TYPE_WORD=1\n",
    "TOKEN_TYPE_LINE=2\n",
    "TOKEN_TYPE_PHRASE=3"
   ]
  },
  {
   "cell_type": "markdown",
   "id": "9f0d205a-1d7a-44db-afab-5087b8e7cb5c",
   "metadata": {},
   "source": [
    "### 3.1 - Save `word` tokens to file"
   ]
  },
  {
   "cell_type": "code",
   "execution_count": 7,
   "id": "776d35d1-9222-4591-a007-503a3bf8280d",
   "metadata": {
    "tags": []
   },
   "outputs": [],
   "source": [
    "output_file_path = \"./data/word_token.json\"\n",
    "result = ocr_parse_obj.save_tokens_as_json(\n",
    "    output_file_path,\n",
    "    token_type_value=TOKEN_TYPE_WORD)"
   ]
  },
  {
   "cell_type": "markdown",
   "id": "f6062839-7a50-458b-a854-c8cbfe506ebf",
   "metadata": {},
   "source": [
    "#### Output"
   ]
  },
  {
   "cell_type": "code",
   "execution_count": 8,
   "id": "e95b46b2-014b-411b-8021-5f3e203ef9f5",
   "metadata": {
    "tags": []
   },
   "outputs": [
    {
     "name": "stdout",
     "output_type": "stream",
     "text": [
      "{\n",
      "    \"isFileSaved\": true,\n",
      "    \"error\": null\n",
      "}\n"
     ]
    }
   ],
   "source": [
    "print(json.dumps(result, indent=4))"
   ]
  },
  {
   "cell_type": "markdown",
   "id": "be65af20-50e8-4a3c-a509-25c2b19902d9",
   "metadata": {
    "execution": {
     "iopub.execute_input": "2022-03-29T01:56:15.816238Z",
     "iopub.status.busy": "2022-03-29T01:56:15.816238Z",
     "iopub.status.idle": "2022-03-29T01:56:15.821236Z",
     "shell.execute_reply": "2022-03-29T01:56:15.820245Z",
     "shell.execute_reply.started": "2022-03-29T01:56:15.816238Z"
    }
   },
   "source": [
    "#### Visualize"
   ]
  },
  {
   "cell_type": "code",
   "execution_count": 9,
   "id": "0506abde-2c28-4109-b87c-c7ae95287c28",
   "metadata": {
    "tags": []
   },
   "outputs": [
    {
     "name": "stdout",
     "output_type": "stream",
     "text": [
      "[\n",
      "    {\n",
      "        \"id\": \"word_1_89_201_94_1921\",\n",
      "        \"page\": 1,\n",
      "        \"text\": \"\",\n",
      "        \"bbox\": [\n",
      "            89,\n",
      "            201,\n",
      "            5,\n",
      "            1720\n",
      "        ],\n",
      "        \"scalingFactor\": {\n",
      "            \"ver\": 1.0,\n",
      "            \"hor\": 1.0\n",
      "        },\n",
      "...\n",
      "...\n",
      "...\n",
      "        \"page\": 2,\n",
      "        \"text\": \"\",\n",
      "        \"bbox\": [\n",
      "            2434,\n",
      "            248,\n",
      "            2,\n",
      "            133\n",
      "        ],\n",
      "        \"scalingFactor\": {\n",
      "            \"ver\": 1.0,\n",
      "            \"hor\": 1.0\n",
      "        },\n",
      "        \"conf\": \"95\"\n",
      "    }\n",
      "]\n"
     ]
    }
   ],
   "source": [
    "file_content = DemoHelper.read_file(output_file_path)\n",
    "print(DemoHelper.get_shortened_text(file_content, max_line_count=30))"
   ]
  },
  {
   "cell_type": "markdown",
   "id": "b274c6e5-3597-4ee0-ace3-29155676ae35",
   "metadata": {},
   "source": [
    "### 3.2 - Save `phrase` tokens to file"
   ]
  },
  {
   "cell_type": "code",
   "execution_count": 10,
   "id": "5db1d1bd-c3b0-48ab-a6a7-e93533b9e882",
   "metadata": {
    "tags": []
   },
   "outputs": [],
   "source": [
    "output_file_path = \"./data/phrase_token.json\"\n",
    "result = ocr_parse_obj.save_tokens_as_json(\n",
    "    output_file_path, \n",
    "    token_type_value=TOKEN_TYPE_PHRASE)"
   ]
  },
  {
   "cell_type": "markdown",
   "id": "3c3afe2a-4c12-4cda-9779-12a1b13f911f",
   "metadata": {},
   "source": [
    "#### Output"
   ]
  },
  {
   "cell_type": "code",
   "execution_count": 11,
   "id": "400a03ca-2dbf-4729-af41-30f0743c3f74",
   "metadata": {
    "tags": []
   },
   "outputs": [
    {
     "name": "stdout",
     "output_type": "stream",
     "text": [
      "{\n",
      "    \"isFileSaved\": true,\n",
      "    \"error\": null\n",
      "}\n"
     ]
    }
   ],
   "source": [
    "print(json.dumps(result, indent=4))"
   ]
  },
  {
   "cell_type": "markdown",
   "id": "c59f26d9-f6e4-4f6b-a9a5-1ca93ec50f3a",
   "metadata": {
    "execution": {
     "iopub.execute_input": "2022-03-29T01:56:15.816238Z",
     "iopub.status.busy": "2022-03-29T01:56:15.816238Z",
     "iopub.status.idle": "2022-03-29T01:56:15.821236Z",
     "shell.execute_reply": "2022-03-29T01:56:15.820245Z",
     "shell.execute_reply.started": "2022-03-29T01:56:15.816238Z"
    }
   },
   "source": [
    "#### Visualize"
   ]
  },
  {
   "cell_type": "code",
   "execution_count": 12,
   "id": "96218e2a-c767-4e63-a2d3-27393a7aa9bf",
   "metadata": {
    "tags": []
   },
   "outputs": [
    {
     "name": "stdout",
     "output_type": "stream",
     "text": [
      "[\n",
      "    {\n",
      "        \"id\": \"phrase_1_89_982_279_1006\",\n",
      "        \"page\": 1,\n",
      "        \"text\": \"COVERAGES\",\n",
      "        \"bbox\": [\n",
      "            89,\n",
      "            982,\n",
      "            190,\n",
      "            24\n",
      "        ],\n",
      "        \"scalingFactor\": {\n",
      "            \"ver\": 1.0,\n",
      "            \"hor\": 1.0\n",
      "        },\n",
      "        \"words\": [\n",
      "            {\n",
      "...\n",
      "...\n",
      "...\n",
      "                \"page\": 2,\n",
      "                \"text\": \"xC-13490\",\n",
      "                \"bbox\": [\n",
      "                    128,\n",
      "                    330,\n",
      "                    138,\n",
      "                    36\n",
      "                ],\n",
      "                \"scalingFactor\": {\n",
      "                    \"ver\": 1.0,\n",
      "                    \"hor\": 1.0\n",
      "                },\n",
      "                \"conf\": \"44\"\n",
      "            }\n",
      "        ]\n",
      "    }\n",
      "]\n"
     ]
    }
   ],
   "source": [
    "file_content = DemoHelper.read_file(output_file_path)\n",
    "print(DemoHelper.get_shortened_text(file_content, max_line_count=35))"
   ]
  },
  {
   "cell_type": "markdown",
   "id": "4f4e603b-680d-4c1d-8aad-c30ba29919ec",
   "metadata": {},
   "source": [
    "### 3.3 - Save `line` tokens to file"
   ]
  },
  {
   "cell_type": "code",
   "execution_count": 13,
   "id": "4752dd8b-1ac7-4fb3-9b44-430c0a5d6acf",
   "metadata": {
    "tags": []
   },
   "outputs": [],
   "source": [
    "output_file_path = \"./data/line_token.json\"\n",
    "result = ocr_parse_obj.save_tokens_as_json(\n",
    "    output_file_path,\n",
    "    token_type_value=TOKEN_TYPE_LINE)"
   ]
  },
  {
   "cell_type": "markdown",
   "id": "79861418-4054-4c78-aa27-234da1f58724",
   "metadata": {},
   "source": [
    "#### 2.2.1. Output"
   ]
  },
  {
   "cell_type": "code",
   "execution_count": 14,
   "id": "d1945268-0ed0-4e98-956f-b601701b094b",
   "metadata": {
    "tags": []
   },
   "outputs": [
    {
     "name": "stdout",
     "output_type": "stream",
     "text": [
      "{\n",
      "    \"isFileSaved\": true,\n",
      "    \"error\": null\n",
      "}\n"
     ]
    }
   ],
   "source": [
    "print(json.dumps(result, indent=4))"
   ]
  },
  {
   "cell_type": "markdown",
   "id": "10540869-edb6-4d47-be31-7ef4d137fd3c",
   "metadata": {
    "execution": {
     "iopub.execute_input": "2022-03-29T01:56:15.816238Z",
     "iopub.status.busy": "2022-03-29T01:56:15.816238Z",
     "iopub.status.idle": "2022-03-29T01:56:15.821236Z",
     "shell.execute_reply": "2022-03-29T01:56:15.820245Z",
     "shell.execute_reply.started": "2022-03-29T01:56:15.816238Z"
    }
   },
   "source": [
    "#### Visualize"
   ]
  },
  {
   "cell_type": "code",
   "execution_count": 15,
   "id": "6a29df98-3183-47ec-a535-8a9e4cca026b",
   "metadata": {
    "tags": []
   },
   "outputs": [
    {
     "name": "stdout",
     "output_type": "stream",
     "text": [
      "[\n",
      "    {\n",
      "        \"id\": \"line_1_90_199_2436_205\",\n",
      "        \"page\": 1,\n",
      "        \"text\": \"\",\n",
      "        \"bbox\": [\n",
      "            90,\n",
      "            199,\n",
      "            2346,\n",
      "            6\n",
      "        ],\n",
      "        \"scalingFactor\": {\n",
      "            \"ver\": 1.0,\n",
      "            \"hor\": 1.0\n",
      "        },\n",
      "        \"words\": [\n",
      "            {\n",
      "...\n",
      "...\n",
      "...\n",
      "                \"page\": 2,\n",
      "                \"text\": \"\",\n",
      "                \"bbox\": [\n",
      "                    2434,\n",
      "                    248,\n",
      "                    2,\n",
      "                    133\n",
      "                ],\n",
      "                \"scalingFactor\": {\n",
      "                    \"ver\": 1.0,\n",
      "                    \"hor\": 1.0\n",
      "                },\n",
      "                \"conf\": \"95\"\n",
      "            }\n",
      "        ]\n",
      "    }\n",
      "]\n"
     ]
    }
   ],
   "source": [
    "file_content = DemoHelper.read_file(output_file_path)\n",
    "print(DemoHelper.get_shortened_text(file_content, max_line_count=35))"
   ]
  },
  {
   "cell_type": "code",
   "execution_count": null,
   "id": "cf5932dd-e349-437f-a200-1e9ad9e01212",
   "metadata": {},
   "outputs": [],
   "source": []
  }
 ],
 "metadata": {
  "kernelspec": {
   "display_name": "Python 3 (ipykernel)",
   "language": "python",
   "name": "python3"
  },
  "language_info": {
   "codemirror_mode": {
    "name": "ipython",
    "version": 3
   },
   "file_extension": ".py",
   "mimetype": "text/x-python",
   "name": "python",
   "nbconvert_exporter": "python",
   "pygments_lexer": "ipython3",
   "version": "3.11.2"
  }
 },
 "nbformat": 4,
 "nbformat_minor": 5
}
