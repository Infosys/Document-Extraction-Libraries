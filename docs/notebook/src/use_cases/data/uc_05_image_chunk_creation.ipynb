{
 "cells": [
  {
   "cell_type": "code",
   "execution_count": null,
   "id": "1fc5689a-c813-4bc9-891b-bea8b8ce1663",
   "metadata": {},
   "outputs": [],
   "source": [
    "# ===============================================================================================================#\n",
    "# Copyright 2023 Infosys Ltd.                                                                                    #\n",
    "# Use of this source code is governed by Apache License Version 2.0 that can be found in the LICENSE file or at  #\n",
    "# http://www.apache.org/licenses/                                                                                #\n",
    "# ===============================================================================================================#"
   ]
  },
  {
   "cell_type": "markdown",
   "id": "b3611fb2-9786-4833-9146-603e8c29debb",
   "metadata": {},
   "source": [
    "# Use case 05 - Extract Chunks From Image\n",
    "\n",
    "<hr/>\n",
    "\n",
    "## Sample Task: Document preprocessing(segmentation, chunking) using sample Annual Report\n",
    "\n",
    "<hr/>\n",
    "\n",
    "<img src=\"./data/infy_annual/infy_annual1.jpg\" style=\"border-style: dotted;\" width=1000 height=700 />"
   ]
  },
  {
   "cell_type": "markdown",
   "id": "71d50beb-e440-4d36-958a-db52ca0156a3",
   "metadata": {},
   "source": [
    "## Installation of Reuired Libraries\n",
    " #### `uncomment` below lines and run the cell"
   ]
  },
  {
   "cell_type": "code",
   "execution_count": null,
   "id": "62a402ff-9d50-48ba-8562-a8f7c0f183c4",
   "metadata": {},
   "outputs": [],
   "source": [
    "# pip install ./lib/infy_dpp_sdk-0.0.5-py3-none-any.whl\n",
    "# pip install ./lib/infy_dpp_core-0.0.1-py3-none-any.whl\n",
    "# pip install ./lib/infy_dpp_segmentation-0.0.1-py3-none-any.whl"
   ]
  },
  {
   "cell_type": "markdown",
   "id": "31f96e72-93e4-41a2-892f-51afdf49519f",
   "metadata": {},
   "source": [
    "## 1. Importing Necessary Libraries"
   ]
  },
  {
   "cell_type": "code",
   "execution_count": 1,
   "id": "c0c9d194-b1d3-4c6c-a06d-613e05e4e3dd",
   "metadata": {},
   "outputs": [
    {
     "name": "stdout",
     "output_type": "stream",
     "text": [
      "No module named 'torch'\n"
     ]
    }
   ],
   "source": [
    "import os\n",
    "import json\n",
    "import shutil\n",
    "import pandas as pd\n",
    "import infy_dpp_core\n",
    "import infy_dpp_segmentation\n",
    "import infy_dpp_sdk\n",
    "from IPython.display import display, HTML"
   ]
  },
  {
   "cell_type": "markdown",
   "id": "80dd9646-c0f7-46e3-aba0-14ab797c8bb2",
   "metadata": {},
   "source": [
    "## 2a. Loading Your Input and Pipeline Config"
   ]
  },
  {
   "cell_type": "code",
   "execution_count": 6,
   "id": "d9a20ce9-a01a-4b77-b146-1b4de20352a9",
   "metadata": {},
   "outputs": [],
   "source": [
    "DATA_FOLDER_PATH = os.path.abspath('./data')\n",
    "PROCESSOR_INPUT_CONFIG_PATH = f'{DATA_FOLDER_PATH}/config/dpp_pipeline1_input_config.json'"
   ]
  },
  {
   "cell_type": "code",
   "execution_count": 7,
   "id": "012f61f6-a925-40bc-825a-83b656ebd765",
   "metadata": {},
   "outputs": [
    {
     "name": "stdout",
     "output_type": "stream",
     "text": [
      "File copied to input folder\n"
     ]
    }
   ],
   "source": [
    "# copy input file\n",
    "input_path = f'{DATA_FOLDER_PATH}/input'\n",
    "if not os.path.isdir(input_path):\n",
    "    os.mkdir(input_path)\n",
    "shutil.copy(f'{DATA_FOLDER_PATH}/annual_report/annual_report1.jpg',f'{input_path}/annual_report1.jpg')\n",
    "print('File copied to input folder')"
   ]
  },
  {
   "cell_type": "markdown",
   "id": "a76bc684-7c38-458a-af7a-a521350e771b",
   "metadata": {},
   "source": [
    "## 2b. Configuration"
   ]
  },
  {
   "cell_type": "code",
   "execution_count": 8,
   "id": "be4de70e-6225-4d66-9e1a-37630a73d259",
   "metadata": {},
   "outputs": [],
   "source": [
    "CLIENT_CONFIG_DATA_DICT = {\n",
    "    \"storage_data\": {\n",
    "        \"storage_uri\": f\"file://{DATA_FOLDER_PATH}\",\n",
    "        \"storage_server_url\": None,\n",
    "        \"storage_access_key\": None,\n",
    "        \"storage_secret_key\": None,\n",
    "        \"logging_level\":40\n",
    "    },\n",
    "    \"container_data\": {\n",
    "        \"container_root_path\": f\"{DATA_FOLDER_PATH}\",\n",
    "    }\n",
    "}"
   ]
  },
  {
   "cell_type": "markdown",
   "id": "35ee40bc-6a44-444c-8dbd-a477b2a2b21c",
   "metadata": {},
   "source": [
    "##### *Storage Data is for object store configuration \n",
    "##### *Container data is for container local path"
   ]
  },
  {
   "cell_type": "markdown",
   "id": "9481f69e-7ff2-412d-861a-236a0bca587d",
   "metadata": {},
   "source": [
    "## 3. Initializing Config Data"
   ]
  },
  {
   "cell_type": "code",
   "execution_count": 9,
   "id": "3b9477c5-4af6-4ead-b335-3346780fbbd2",
   "metadata": {},
   "outputs": [],
   "source": [
    "infy_dpp_core.ConfigurationManager().load(\n",
    "    infy_dpp_core.ClientConfigData(**CLIENT_CONFIG_DATA_DICT))\n",
    "infy_dpp_segmentation.ConfigurationManager().load(\n",
    "    infy_dpp_segmentation.ClientConfigData(**CLIENT_CONFIG_DATA_DICT))\n",
    "config_data_json = infy_dpp_core.common.FileUtil.load_json(\n",
    "    PROCESSOR_INPUT_CONFIG_PATH)"
   ]
  },
  {
   "cell_type": "markdown",
   "id": "47da168e-1c6f-4e75-9b92-cfe5ee554721",
   "metadata": {},
   "source": [
    "## 4. Execute Pipeline(Batch Mode)"
   ]
  },
  {
   "cell_type": "code",
   "execution_count": null,
   "id": "9448bb06-100f-486d-9553-8594119cb8d7",
   "metadata": {},
   "outputs": [],
   "source": [
    "orchestrator_native_obj: infy_dpp_sdk.interface.i_orchestrator_native.IOrchestratorNative = None\n",
    "orchestrator_native_obj = infy_dpp_sdk.orchestrator.controller.OrchestratorNativeBasic(config_data_json)\n",
    "response_data_list = orchestrator_native_obj.run_batch()"
   ]
  },
  {
   "cell_type": "markdown",
   "id": "ff137a51-2f7e-4002-a71e-e0c554248285",
   "metadata": {},
   "source": [
    "## 5. Output File Path"
   ]
  },
  {
   "cell_type": "code",
   "execution_count": 11,
   "id": "cc003b2c-cee7-4107-9dcd-e6dfa49a0c11",
   "metadata": {},
   "outputs": [
    {
     "data": {
      "text/plain": [
       "{'output_file_path': '/output/D-0e803f24-f5bf-4603-a76d-2b6f3e9011f7'}"
      ]
     },
     "execution_count": 11,
     "metadata": {},
     "output_type": "execute_result"
    }
   ],
   "source": [
    "response_data_list[0].context_data.get('request_closer')"
   ]
  },
  {
   "cell_type": "markdown",
   "id": "cba3cb49-f529-46fa-851b-c4000833c5aa",
   "metadata": {},
   "source": [
    "## 6. Review Output"
   ]
  },
  {
   "cell_type": "code",
   "execution_count": 12,
   "id": "98a7d890-5860-4c43-8563-e83969a3e5ca",
   "metadata": {},
   "outputs": [],
   "source": [
    "response_data_json = json.loads(infy_dpp_sdk.common.InfyJSONEncoder().encode(response_data_list[0]))"
   ]
  },
  {
   "cell_type": "markdown",
   "id": "bfa86167-948c-4475-9d98-81794d412e14",
   "metadata": {},
   "source": [
    "### 6a. Page Wise Data "
   ]
  },
  {
   "cell_type": "code",
   "execution_count": 13,
   "id": "69eb7f42-4f62-4501-9b68-19d39370fa19",
   "metadata": {},
   "outputs": [
    {
     "name": "stdout",
     "output_type": "stream",
     "text": [
      "Business highlights\n",
      "Performance overview\n",
      "28\n",
      "₹1,46,767cr (par value of ₹ 5 each)\n",
      "20.7% growth Y-o-Y\n",
      "25.6% CC growth Y-o-Y\n",
      "Digital revenues\n",
      "(as a % of total revenue)\n",
      "15.4% CC growth Y-o-Y\n",
      "Revenues\n",
      "62.2%\n",
      "Infosys\n",
      "0\n",
      "H2)\n",
      "9.7% growth Y-o-Y\n",
      "Basic earnings per share\n",
      "57.63\n",
      "Robust operating margin\n",
      "Operating margin\n",
      "21.0%\n",
      "Consolidated cash and\n",
      "investments(2)\n",
      "liquidity position\n",
      "Continue to main strong\n",
      "₹ 31,286cr\n",
      "Dividend per share (in ₹)\n",
      "^34.0\n",
      "9.7% growth Y-o-Y\n",
      "10\n",
      "O\n",
      "leading revenue growth of\n",
      "value for all our stakeholders.\n",
      "2023. Our ESG Vision 2030 and\n",
      "margin of 21.0% for fiscal\n",
      "ambitions continue to drive\n",
      "Infosys achieved industry-\n",
      "15.4% with healthy operating\n",
      "Free cash(1)\n",
      "Number of US$ 50 million + clients\n",
      "₹ 20,443cr\n",
      "Strong client metrics with increase\n",
      "of 11 clients Y-o-Y\n",
      "75\n",
      "FCF conversion at 84.8% of net profit\n",
      "Buyback completed\n",
      "₹ 9,300cr\n",
      "at an average price of ₹ 1,539.06\n",
      "$9.8b\n",
      "Sustained momentum in large\n",
      "Return on equity\n",
      "the last fiscal\n",
      "Large deal TCV\n",
      "deal wins continues\n",
      "31.2%\n",
      "Improved by 2.1% over\n",
      "(Total contract value in US$ billion)\n",
      "Infosys Integrated Annual Report 2022-23\n",
      "Infosys Integrated Annual Report 2022-23\n",
      "Key trends\n",
      "Notes:\n",
      "(1) Based on IFRS consolidated financial statements\n",
      "(2) Attributable to owners of the Company\n",
      "Note:\n",
      "(1) Free cash flow is defined as net cash provided by operating activities less capital expenditure as per the Consolidated Statement of Cash Flows\n",
      "(2) Comprise cash and cash equivalents, current and non-current investments excluding investments in unquoted equity and preference shares, and others.\n",
      "In ₹ crore, except per equity share data\n",
      "Net profit(1)(2)\n",
      "In US$ million, except per equity share data\n",
      "Net profit(1)(2)\n",
      "Market capitalization\n",
      "Basic earnings per share (in ₹)(1)\n",
      "Revenues(1)\n",
      "Revenues(1)\n",
      "Market capitalization\n",
      "Basic earnings per share (in ₹)(1)\n",
      "education and healthcare\n",
      "Lives empowered via our Tech for\n",
      "Good solutions in e-governance,\n",
      "Tech for Good\n",
      "114mn +\n",
      "Scope 1, 2 and 3 emissions\n",
      "Carbon neutrality\n",
      "prepared under IFRS.\n",
      "Carbon neutral for\n",
      "4 years in a row\n",
      "Carbon offset programs\n",
      "Rural families continue to benefit\n",
      "2,40,000+\n",
      "Steady progress towards\n",
      "gender diversity goals\n",
      "FY 2023\n",
      "FY 2023\n",
      "5,92,394\n",
      "Women employees\n",
      "1,46,767\n",
      "72,35\n",
      "18,212\n",
      "24,095\n",
      "57.63\n",
      "2,981\n",
      "39.4%\n",
      "0.71\n",
      "O\n",
      "FY 2022\n",
      "FY 2022\n",
      "8,02,162\n",
      "1,21,641\n",
      "104,706\n",
      "16,311\n",
      "22,110\n",
      "52.52\n",
      "2,963\n",
      "0.70\n",
      "5,82,880\n",
      "FY 2021\n",
      "FY 2021\n",
      "1,00,472\n",
      "79,760\n",
      "19,351\n",
      "45.61\n",
      "3,56\n",
      "2,613\n",
      "Digital skilling\n",
      "skilling initiatives\n",
      "0.62\n",
      "8.5mn\n",
      "People are a part of our digital\n",
      "WINGSPAN\n",
      "Fresh graduates hired globally\n",
      "Infosys | Springboard\n",
      "~50,000\n",
      "FY 2020\n",
      "FY 2020\n",
      "2,73,214\n",
      "34,966\n",
      "90,791\n",
      "12,780\n",
      "16,594\n",
      "2,331\n",
      "38.97\n",
      "0.55\n",
      "lex\n",
      "Learning Amplified\n",
      "3,24,448\n",
      "FY 2019\n",
      "FY 2019\n",
      "82,675\n",
      "47,614\n",
      "11,799\n",
      "35.44\n",
      "5,404\n",
      "2,199\n",
      "0.51\n",
      "29\n"
     ]
    }
   ],
   "source": [
    "print(response_data_json['context_data']['chunk_data_parser']['page_segment_data']['1'])"
   ]
  }
 ],
 "metadata": {
  "kernelspec": {
   "display_name": "Python 3 (ipykernel)",
   "language": "python",
   "name": "python3"
  },
  "language_info": {
   "codemirror_mode": {
    "name": "ipython",
    "version": 3
   },
   "file_extension": ".py",
   "mimetype": "text/x-python",
   "name": "python",
   "nbconvert_exporter": "python",
   "pygments_lexer": "ipython3",
   "version": "3.10.7"
  }
 },
 "nbformat": 4,
 "nbformat_minor": 5
}
