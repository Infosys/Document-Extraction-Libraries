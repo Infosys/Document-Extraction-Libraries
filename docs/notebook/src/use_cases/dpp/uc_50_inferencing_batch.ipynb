{
    "cells": [
        {
            "cell_type": "code",
            "execution_count": null,
            "id": "a813a11a-fd97-4371-8d23-f81dca533c9a",
            "metadata": {},
            "outputs": [],
            "source": [
                "# ===============================================================================================================#\n",
                "# Copyright 2023 Infosys Ltd.                                                                          #\n",
                "# Use of this source code is governed by Apache License Version 2.0 that can be found in the LICENSE file or at  #\n",
                "# http://www.apache.org/licenses/                                                                                #\n",
                "# ===============================================================================================================#"
            ]
        },
        {
            "cell_type": "markdown",
            "id": "c2fe4da7-d98f-43f9-9d76-de115242d45f",
            "metadata": {},
            "source": [
                "## UC_50 -Inferencing batch of documents\n",
                "<div  style=\"line-height: 1;\">\n",
                "    <span style=\"color:Green\">After running indexing pipeline run this pipeline.</span></div>"
            ]
        },
        {
            "cell_type": "markdown",
            "id": "4c99afeb-da74-448c-adbc-bb5630f17250",
            "metadata": {},
            "source": [
                "#### Import libraries"
            ]
        },
        {
            "cell_type": "code",
            "execution_count": null,
            "id": "493b386b-5d7f-4241-9400-8a27b8022908",
            "metadata": {},
            "outputs": [],
            "source": [
                "import os\n",
                "import json\n",
                "import shutil\n",
                "import infy_dpp_sdk\n",
                "import infy_fs_utils\n",
                "from _internal_utils.pipeline_helper import PipelineHelper"
            ]
        },
        {
            "cell_type": "markdown",
            "id": "8d08c7e2-053a-440d-96e6-6ce902a72442",
            "metadata": {},
            "source": [
                "#### Set environment variables\n",
                "<div  style=\"line-height: 1;\">\n",
                "    <span style=\"color:Red\"><b>NOTE:</b> The Pipeline uses environment variables which needs to be set by the developer.<br>\n",
                "In production developer needs to set them as required.<br>\n",
                "In this notebook you can provide them using the below code.<br>\n",
                "To set or change the value please refer <i>installation.ipynb</i></span>\n",
                "</div>"
            ]
        },
        {
            "cell_type": "code",
            "execution_count": null,
            "id": "d0328355-1e6e-4ef6-8b9d-5f7d9ba95b07",
            "metadata": {},
            "outputs": [],
            "source": [
                "%store -r CUSTOM_LLM_BLOOM_INFERENCE_URL\n",
                "%store -r CUSTOM_LLM_LLAMA_INFERENCE_URL\n",
                "%store -r CUSTOM_LLM_MIXTRAL_INFERENCE_URL\n",
                "%store -r CUSTOM_LLM_LLAMA_3_1_INFERENCE_URL\n",
                "os.environ['CUSTOM_LLM_BLOOM_INFERENCE_URL']=CUSTOM_LLM_BLOOM_INFERENCE_URL\n",
                "os.environ['CUSTOM_LLM_LLAMA_INFERENCE_URL']=CUSTOM_LLM_LLAMA_INFERENCE_URL\n",
                "os.environ['CUSTOM_LLM_MIXTRAL_INFERENCE_URL']=CUSTOM_LLM_MIXTRAL_INFERENCE_URL\n",
                "os.environ['CUSTOM_LLM_LLAMA_3_1_INFERENCE_URL']=CUSTOM_LLM_LLAMA_3_1_INFERENCE_URL\n",
                "\n",
                "%store -r OPENAI_KEY\n",
                "os.environ['OPENAI_KEY'] = OPENAI_KEY\n",
                "%store -r OPENAI_SERVER_URL\n",
                "os.environ['OPENAI_SERVER_URL']=OPENAI_SERVER_URL\n",
                "\n",
                "%store -r CUSTOM_EMB_MISTRAL_INFERENCE_URL\n",
                "os.environ['CUSTOM_EMB_MISTRAL_INFERENCE_URL']=CUSTOM_EMB_MISTRAL_INFERENCE_URL"
            ]
        },
        {
            "cell_type": "markdown",
            "id": "dcf99568-167d-44c0-9330-48b4eb8d7d88",
            "metadata": {},
            "source": [
                "#### Define configuration file path"
            ]
        },
        {
            "cell_type": "code",
            "execution_count": null,
            "id": "713cbdb2-87cf-47ad-b7f9-4c145f8d1332",
            "metadata": {},
            "outputs": [],
            "source": [
                "STORAGE_ROOT_PATH = 'C:/DPP/infy_libraries_client/STORAGE'\n",
                "CONTAINER_ROOT_PATH = 'C:/DPP/infy_libraries_client/CONTAINER'\n",
                "PIPELINE_INPUT_CONFIG_FILE_PATH = '/data/config/dpp_pipeline_inference_input_config.json'"
            ]
        },
        {
            "cell_type": "markdown",
            "id": "df168a1d-a53d-4923-a056-067986ed7bb4",
            "metadata": {},
            "source": [
                "#### Copying files\n",
                "<div  style=\"line-height: 1;\"><span style=\"color:Red\"><b>NOTE: </b>In this notebook below is used to copy sample files to folders in <i>STORAGE_ROOT_PATH</i>.<br>\n",
                "In production the data and config files should kept under respective folders in <i>STORAGE_ROOT_PATH </i>.<br>\n",
                "<span></div>"
            ]
        },
        {
            "cell_type": "code",
            "execution_count": null,
            "id": "fe17d208-636c-4d69-8408-9aec2b930580",
            "metadata": {},
            "outputs": [],
            "source": [
                "curr_data = os.path.abspath('./data')\n",
                "if not os.path.exists(f'{STORAGE_ROOT_PATH}/data'):\n",
                "    os.makedirs(f'{STORAGE_ROOT_PATH}/data')\n",
                "if not os.path.exists(f'{STORAGE_ROOT_PATH}/data/input'):\n",
                "    os.makedirs(f'{STORAGE_ROOT_PATH}/data/input')     \n",
                "shutil.copytree(f'{curr_data}/sample/config',f'{STORAGE_ROOT_PATH}/data/config',\n",
                "                dirs_exist_ok=True)"
            ]
        },
        {
            "cell_type": "code",
            "execution_count": null,
            "id": "0a7784dd-a73c-4e59-86a5-84cef47e60a0",
            "metadata": {},
            "outputs": [],
            "source": [
                "# Show pipeline card\n",
                "PipelineHelper(PIPELINE_INPUT_CONFIG_FILE_PATH, STORAGE_ROOT_PATH, CONTAINER_ROOT_PATH).show_pipeline_card()"
            ]
        },
        {
            "cell_type": "markdown",
            "id": "1ff0e189-1291-4389-9f45-bfef6a16b1a2",
            "metadata": {},
            "source": [
                "#### Initialize Client Config"
            ]
        },
        {
            "cell_type": "code",
            "execution_count": null,
            "id": "92806b8d-9f94-42e1-ad65-c3b8a3bd3080",
            "metadata": {},
            "outputs": [],
            "source": [
                "storage_config_data = infy_fs_utils.data.StorageConfigData(\n",
                "        **{\n",
                "            \"storage_root_uri\": f\"file://{STORAGE_ROOT_PATH}\",\n",
                "            \"storage_server_url\": \"\",\n",
                "            \"storage_access_key\": \"\",\n",
                "            \"storage_secret_key\": \"\"\n",
                "        })\n",
                "\n",
                "client_config_data = infy_dpp_sdk.ClientConfigData(\n",
                "    **{\n",
                "        \"container_data\": {\n",
                "            \"container_root_path\": f\"{CONTAINER_ROOT_PATH}\",\n",
                "        }\n",
                "    })\n",
                "file_sys_handler = infy_fs_utils.provider.FileSystemHandler(\n",
                "    storage_config_data)\n",
                "if not infy_fs_utils.manager.FileSystemManager().has_fs_handler(\n",
                "    infy_dpp_sdk.common.Constants.FSH_DPP):\n",
                "    infy_fs_utils.manager.FileSystemManager().add_fs_handler(\n",
                "        file_sys_handler,\n",
                "        infy_dpp_sdk.common.Constants.FSH_DPP)\n",
                "infy_dpp_sdk.ClientConfigManager().load(client_config_data)"
            ]
        },
        {
            "cell_type": "markdown",
            "id": "c27cd994-cec2-45b8-9115-38c244b18768",
            "metadata": {},
            "source": [
                "#### Initialize Logging"
            ]
        },
        {
            "cell_type": "code",
            "execution_count": null,
            "id": "70059612-7df0-4fa0-9288-a740fdbd28e1",
            "metadata": {},
            "outputs": [],
            "source": [
                "logging_config_data = infy_fs_utils.data.LoggingConfigData(\n",
                "        **{\n",
                "            # \"logger_group_name\": \"my_group_1\",\n",
                "            \"logging_level\": 10,\n",
                "            \"logging_format\": \"\",\n",
                "            \"logging_timestamp_format\": \"\",\n",
                "            \"log_file_data\": {\n",
                "                \"log_file_dir_path\": \"/logs\",\n",
                "                \"log_file_name_prefix\": \"inference\",\n",
                "                # \"log_file_name_suffix\": \"1\",\n",
                "                \"log_file_extension\": \".log\"\n",
                "\n",
                "            }})"
            ]
        },
        {
            "cell_type": "code",
            "execution_count": null,
            "id": "409ac049-6b6d-458c-81da-efe0a6bdbc7e",
            "metadata": {},
            "outputs": [],
            "source": [
                "if not infy_fs_utils.manager.FileSystemLoggingManager().has_fs_logging_handler(\n",
                "    infy_dpp_sdk.common.Constants.FSLH_DPP):\n",
                "    infy_fs_utils.manager.FileSystemLoggingManager().add_fs_logging_handler(\n",
                "            infy_fs_utils.provider.FileSystemLoggingHandler(\n",
                "                logging_config_data, file_sys_handler),\n",
                "            infy_dpp_sdk.common.Constants.FSLH_DPP)"
            ]
        },
        {
            "cell_type": "markdown",
            "id": "ce25dbe7-eb26-45ac-b392-5470087472cf",
            "metadata": {},
            "source": [
                "## Run the Inference Pipeline"
            ]
        },
        {
            "cell_type": "code",
            "execution_count": null,
            "id": "f58615ce-7b78-4d7f-a5ba-bc9ffe77bfa3",
            "metadata": {},
            "outputs": [],
            "source": [
                "dpp_orchestrator = infy_dpp_sdk.orchestrator.OrchestratorNative(\n",
                "        input_config_file_path=PIPELINE_INPUT_CONFIG_FILE_PATH)"
            ]
        },
        {
            "cell_type": "code",
            "execution_count": null,
            "id": "8ee1f1b4-152f-4c6c-962b-ffd4b3eb4626",
            "metadata": {},
            "outputs": [],
            "source": [
                "processor_response_list = dpp_orchestrator.run_batch()"
            ]
        },
        {
            "cell_type": "markdown",
            "id": "14fad9dc-19d0-43cf-a30d-c858fbdfc2f9",
            "metadata": {},
            "source": [
                "### Verify results"
            ]
        },
        {
            "cell_type": "markdown",
            "id": "2ab1a00b-5222-4902-96d4-1bd26068cbcb",
            "metadata": {},
            "source": [
                "<div  style=\"line-height: 1;\">\n",
                "    <span style=\"color:Green\"><b>NOTE: </b> The results of the pipeline will be available in <i>processor_response_data.json</i> file at <i>work_folder_path</i>.</span></div>"
            ]
        },
        {
            "cell_type": "code",
            "execution_count": null,
            "id": "30ba3c03-e385-45a0-ae69-fe2f008d9c74",
            "metadata": {},
            "outputs": [],
            "source": [
                "print(\"Output of inference pipeline is available at below location: \")"
            ]
        },
        {
            "cell_type": "code",
            "execution_count": null,
            "id": "fde31e3b-24f4-4222-88ba-c9d3fddb2357",
            "metadata": {},
            "outputs": [],
            "source": [
                "processor_response_list[0].context_data.get('request_closer')"
            ]
        },
        {
            "cell_type": "markdown",
            "id": "577b7a70-0dd4-4c88-985c-72c98991b2e7",
            "metadata": {},
            "source": [
                "<div  style=\"line-height: 1;\">\n",
                "    <span style=\"color:Green\"><b>NOTE:</b> The model output to the question, generated as part of this pipeline is given below.</span></div>"
            ]
        },
        {
            "cell_type": "code",
            "execution_count": null,
            "id": "82acae79-6afb-4d69-8ae3-2e634c5740b2",
            "metadata": {},
            "outputs": [],
            "source": [
                "print(json.dumps(processor_response_list[0].context_data.get(\"reader\"),indent=4))"
            ]
        },
        {
            "cell_type": "markdown",
            "id": "06ccaa4a-3c3b-43cf-92e9-9b260fe23afc",
            "metadata": {},
            "source": [
                "<div style=\"line-height: 1;\">\n",
                "<span style=\"color:Red\"><b>NOTE: </b>for rerunning the inference pipeline, please move the request file (<b>the 'group_request_file' from uc_30_indexing_vectordb.ipynb</b> ) from <i>work/request/inference/complete</i> to <i>work/request/indexer/complete</i>.<br>\n",
                "</span>\n",
                "</div>"
            ]
        }
    ],
    "metadata": {
        "kernelspec": {
            "display_name": "Python 3 (ipykernel)",
            "language": "python",
            "name": "python3"
        },
        "language_info": {
            "codemirror_mode": {
                "name": "ipython",
                "version": 3
            },
            "file_extension": ".py",
            "mimetype": "text/x-python",
            "name": "python",
            "nbconvert_exporter": "python",
            "pygments_lexer": "ipython3",
            "version": "3.10.5"
        }
    },
    "nbformat": 4,
    "nbformat_minor": 5
}