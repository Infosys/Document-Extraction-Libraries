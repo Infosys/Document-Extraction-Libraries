{
    "cells": [
        {
            "cell_type": "code",
            "execution_count": null,
            "id": "ecd49b64-5685-47e0-9a8e-bde3c28503e4",
            "metadata": {},
            "outputs": [],
            "source": [
                "# ===============================================================================================================#\n",
                "# Copyright 2024 Infosys Ltd.                                                                          #\n",
                "# Use of this source code is governed by Apache License Version 2.0 that can be found in the LICENSE file or at  #\n",
                "# http://www.apache.org/licenses/                                                                                #\n",
                "# ===============================================================================================================#"
            ]
        },
        {
            "cell_type": "markdown",
            "id": "c2fe4da7-d98f-43f9-9d76-de115242d45f",
            "metadata": {},
            "source": [
                "## UC_02 - QnA Generation pipeline"
            ]
        },
        {
            "cell_type": "markdown",
            "id": "d927ff20-6883-421d-ae23-742dc179f9cd",
            "metadata": {
                "tags": []
            },
            "source": [
                "<div  style=\"line-height: 1;\">\n",
                "    <span style=\"color:Green\"><b>NOTE:</b><br>\n",
                "        <b>1. </b>The Qna generation pipeline is to be ran after running <i>uc_01_rag_indexing_vectordb</i> pipeline.<br>\n",
                "        <b>2. </b>Make sure to have <b>infy_model_service</b> running, before running this pipeline.<br>\n",
                "    <span>\n",
                "</div>"
            ]
        },
        {
            "cell_type": "markdown",
            "id": "4c99afeb-da74-448c-adbc-bb5630f17250",
            "metadata": {},
            "source": [
                "#### Import libraries"
            ]
        },
        {
            "cell_type": "code",
            "execution_count": null,
            "id": "493b386b-5d7f-4241-9400-8a27b8022908",
            "metadata": {},
            "outputs": [],
            "source": [
                "import os\n",
                "import json\n",
                "import shutil\n",
                "import infy_dpp_sdk\n",
                "import infy_fs_utils\n",
                "from _internal_utils.pipeline_helper import PipelineHelper\n",
                "import warnings\n",
                "warnings.simplefilter(\"ignore\")"
            ]
        },
        {
            "cell_type": "markdown",
            "id": "6bccf1d8-0bb8-4474-8b2a-e0e56f872328",
            "metadata": {},
            "source": [
                "#### Set environment variables\n",
                "<div  style=\"line-height: 1;\">\n",
                "    <span style=\"color:Red\"><b>NOTE:</b> The Pipeline uses environment variables which needs to be set by the developer.<br>\n",
                "In production developer needs to set them as required.<br>\n",
                "In this notebook you can provide them using the below code.<br>\n",
                "To set or change the value please refer <i>installation.ipynb</i></span>\n",
                "</div>"
            ]
        },
        {
            "cell_type": "code",
            "execution_count": null,
            "id": "71dab2cb-589c-454c-a070-85b322c48e88",
            "metadata": {},
            "outputs": [],
            "source": [
                "%store -r USE_LOCAL_STORE\n",
                "if 'USE_LOCAL_STORE' in locals() and USE_LOCAL_STORE:\n",
                "    %store -r AZURE_OPENAI_SERVER_BASE_URL\n",
                "    os.environ['AZURE_OPENAI_SERVER_BASE_URL']=AZURE_OPENAI_SERVER_BASE_URL\n",
                "    %store -r AZURE_OPENAI_SECRET_KEY\n",
                "    os.environ['AZURE_OPENAI_SECRET_KEY']=AZURE_OPENAI_SECRET_KEY\n",
                "    %store -r LITELLM_PROXY_SERVER_BASE_URL\n",
                "    os.environ['LITELLM_PROXY_SERVER_BASE_URL']=LITELLM_PROXY_SERVER_BASE_URL\n",
                "    %store -r LITELLM_PROXY_SECRET_KEY\n",
                "    os.environ['LITELLM_PROXY_SECRET_KEY']=LITELLM_PROXY_SECRET_KEY\n",
                "    %store -r INFY_DB_SERVICE_BASE_URL\n",
                "    os.environ['INFY_DB_SERVICE_BASE_URL']=INFY_DB_SERVICE_BASE_URL\n",
                "    %store -r INFY_MODEL_SERVICE_BASE_URL\n",
                "    os.environ['INFY_MODEL_SERVICE_BASE_URL']=INFY_MODEL_SERVICE_BASE_URL\n",
                "    %store -r INFY_RESOURCE_SERVICE_BASE_URL\n",
                "    os.environ['INFY_RESOURCE_SERVICE_BASE_URL']=INFY_RESOURCE_SERVICE_BASE_URL\n",
                "    %store -r INFY_SEARCH_SERVICE_BASE_URL\n",
                "    os.environ['INFY_SEARCH_SERVICE_BASE_URL']=INFY_SEARCH_SERVICE_BASE_URL\n",
                "else:\n",
                "    print(\"USE_LOCAL_STORE is not set to true. DPP pipeline will use system environment variables.\")"
            ]
        },
        {
            "cell_type": "markdown",
            "id": "dcf99568-167d-44c0-9330-48b4eb8d7d88",
            "metadata": {},
            "source": [
                "#### Define configuration file path"
            ]
        },
        {
            "cell_type": "code",
            "execution_count": null,
            "id": "713cbdb2-87cf-47ad-b7f9-4c145f8d1332",
            "metadata": {},
            "outputs": [],
            "source": [
                "STORAGE_ROOT_PATH = 'C:/del/fs/notebookuc/STORAGE'\n",
                "CONTAINER_ROOT_PATH = 'C:/del/fs/notebookuc/CONTAINER'\n",
                "PIPELINE_INPUT_CONFIG_FILE_PATH = '/data/config/dpp_pipeline_qna_generator_input_config_data.json'"
            ]
        },
        {
            "cell_type": "markdown",
            "id": "4616be2a-bc52-4c34-bd3d-a4e346a4472c",
            "metadata": {},
            "source": [
                "#### Copying files\n",
                "<div  style=\"line-height: 1;\"><span style=\"color:Red\"><b>NOTE: </b>In this notebook below is used to copy sample files to folders in <i>STORAGE_ROOT_PATH</i>.<br>\n",
                "In production the data and config files should kept under respective folders in <i>STORAGE_ROOT_PATH </i>.<br>\n",
                "<span></div>"
            ]
        },
        {
            "cell_type": "code",
            "execution_count": null,
            "id": "fe17d208-636c-4d69-8408-9aec2b930580",
            "metadata": {},
            "outputs": [],
            "source": [
                "input_data_path = os.path.abspath('../../../../../../')\n",
                "current_data_path = os.path.abspath('../data')\n",
                "\n",
                "if not os.path.exists(f'{STORAGE_ROOT_PATH}/data'):\n",
                "    os.makedirs(f'{STORAGE_ROOT_PATH}/data')\n",
                "if not os.path.exists(f'{STORAGE_ROOT_PATH}/data/input'):\n",
                "    os.makedirs(f'{STORAGE_ROOT_PATH}/data/input')\n",
                "shutil.copytree(f'{current_data_path}/sample/config',f'{STORAGE_ROOT_PATH}/data/config',\n",
                "                dirs_exist_ok=True)"
            ]
        },
        {
            "cell_type": "markdown",
            "id": "1ff0e189-1291-4389-9f45-bfef6a16b1a2",
            "metadata": {},
            "source": [
                "#### Initialize Client Config"
            ]
        },
        {
            "cell_type": "code",
            "execution_count": null,
            "id": "92806b8d-9f94-42e1-ad65-c3b8a3bd3080",
            "metadata": {},
            "outputs": [],
            "source": [
                "storage_config_data = infy_fs_utils.data.StorageConfigData(\n",
                "        **{\n",
                "            \"storage_root_uri\": f\"file://{STORAGE_ROOT_PATH}\",\n",
                "            \"storage_server_url\": \"\",\n",
                "            \"storage_access_key\": \"\",\n",
                "            \"storage_secret_key\": \"\"\n",
                "        })\n",
                "\n",
                "file_sys_handler = infy_fs_utils.provider.FileSystemHandler(\n",
                "    storage_config_data)\n",
                "if not infy_fs_utils.manager.FileSystemManager().has_fs_handler(\n",
                "    infy_dpp_sdk.common.Constants.FSH_DPP):\n",
                "    infy_fs_utils.manager.FileSystemManager().set_root_handler_name(\n",
                "                    infy_dpp_sdk.common.Constants.FSH_DPP)\n",
                "    infy_fs_utils.manager.FileSystemManager().add_fs_handler(file_sys_handler)"
            ]
        },
        {
            "cell_type": "code",
            "execution_count": null,
            "id": "5095b1dc-9bb9-4ddf-b0c3-4161b9a3f250",
            "metadata": {},
            "outputs": [],
            "source": [
                "# Configure client properties\n",
                "client_config_data = infy_dpp_sdk.ClientConfigData(\n",
                "    **{\n",
                "        \"container_data\": {\n",
                "            \"container_root_path\": f\"{CONTAINER_ROOT_PATH}\",\n",
                "        }\n",
                "    })\n",
                "infy_dpp_sdk.ClientConfigManager().load(client_config_data)"
            ]
        },
        {
            "cell_type": "markdown",
            "id": "c27cd994-cec2-45b8-9115-38c244b18768",
            "metadata": {},
            "source": [
                "#### Initialize Logging"
            ]
        },
        {
            "cell_type": "code",
            "execution_count": null,
            "id": "70059612-7df0-4fa0-9288-a740fdbd28e1",
            "metadata": {},
            "outputs": [],
            "source": [
                "import logging\n",
                "# Modify as required to control the overall logging level\n",
                "logging.basicConfig(level=logging.ERROR)\n",
                "logging_config_data = infy_fs_utils.data.LoggingConfigData(\n",
                "        **{\n",
                "            # \"logger_group_name\": \"my_group_1\",\n",
                "            \"logging_level\": 40,\n",
                "            \"logging_format\": \"\",\n",
                "            \"logging_timestamp_format\": \"\",\n",
                "            \"log_file_data\": {\n",
                "                \"log_file_dir_path\": \"/logs\",\n",
                "                \"log_file_name_prefix\": \"qna_gen\",\n",
                "                # \"log_file_name_suffix\": \"1\",\n",
                "                \"log_file_extension\": \".log\"\n",
                "\n",
                "            }})"
            ]
        },
        {
            "cell_type": "code",
            "execution_count": null,
            "id": "9e2b1afa-5979-43dc-837c-5fb4c1d2a560",
            "metadata": {},
            "outputs": [],
            "source": [
                "if not infy_fs_utils.manager.FileSystemLoggingManager().has_fs_logging_handler(\n",
                "    infy_dpp_sdk.common.Constants.FSLH_DPP):\n",
                "    file_sys_logging_handler = infy_fs_utils.provider.FileSystemLoggingHandler(\n",
                "                logging_config_data, file_sys_handler)\n",
                "    infy_fs_utils.manager.FileSystemLoggingManager(\n",
                "            ).set_root_handler_name(infy_dpp_sdk.common.Constants.FSLH_DPP)\n",
                "    infy_fs_utils.manager.FileSystemLoggingManager(\n",
                "            ).add_fs_logging_handler(file_sys_logging_handler)"
            ]
        },
        {
            "cell_type": "markdown",
            "id": "ce25dbe7-eb26-45ac-b392-5470087472cf",
            "metadata": {},
            "source": [
                "### Run the pipeline"
            ]
        },
        {
            "cell_type": "code",
            "execution_count": null,
            "id": "f58615ce-7b78-4d7f-a5ba-bc9ffe77bfa3",
            "metadata": {},
            "outputs": [],
            "source": [
                "dpp_orchestrator = infy_dpp_sdk.orchestrator.OrchestratorNative(\n",
                "        input_config_file_path=PIPELINE_INPUT_CONFIG_FILE_PATH)"
            ]
        },
        {
            "cell_type": "code",
            "execution_count": null,
            "id": "8ee1f1b4-152f-4c6c-962b-ffd4b3eb4626",
            "metadata": {},
            "outputs": [],
            "source": [
                "processor_response_list = dpp_orchestrator.run_batch()"
            ]
        },
        {
            "cell_type": "markdown",
            "id": "07d149b0-f4f9-4c31-84e2-16a0b68ed850",
            "metadata": {},
            "source": [
                "### Verify results"
            ]
        },
        {
            "cell_type": "markdown",
            "id": "1cc99209-0cba-417c-9a03-fb9fc0c98fc7",
            "metadata": {},
            "source": [
                "<div  style=\"line-height: 1;\">\n",
                "    <span style=\"color:Green\"><b>NOTE: </b> The results of the pipeline will be available in <i>qna_data.json</i> file at <i>work_folder_path</i>.</span></div>"
            ]
        },
        {
            "cell_type": "code",
            "execution_count": null,
            "id": "f492858c-f1ba-40cd-b061-8d70dd9d9138",
            "metadata": {},
            "outputs": [],
            "source": [
                "print(json.dumps(processor_response_list[0].\n",
                "                 context_data.get('qna_generator'),indent=4))"
            ]
        },
        {
            "cell_type": "markdown",
            "id": "03f4096e-3371-45f4-920f-63e6b48ab28a",
            "metadata": {},
            "source": [
                "<div  style=\"line-height: 1;\">\n",
                "    <span style=\"color:Green\"><b>NOTE:</b> The question_data.xlsx file for batch will be present at below location.</span></div>"
            ]
        },
        {
            "cell_type": "code",
            "execution_count": null,
            "id": "5722a56e-e58f-4b6a-9d4a-1969e5a024f4",
            "metadata": {},
            "outputs": [],
            "source": [
                "print(json.dumps(processor_response_list[0].\n",
                "                 context_data.get('qna_consolidator'),indent=4))"
            ]
        },
        {
            "cell_type": "markdown",
            "id": "b88b8842-d751-4a13-87be-f05b61b2c6b8",
            "metadata": {},
            "source": [
                "<div style=\"line-height: 1;\">\n",
                "<span style=\"color:Red\"><b>NOTE: </b><br>1.For rerunning the qna_generation_batch pipeline, please move the request file (<b>the 'group_request_file' from uc_01_rag_indexing_vectordb.ipynb</b> ) from <i>work/request/qna_generation/complete</i> to <i>work/request/indexer/complete</i>.<br>\n",
                "    2.Delete the excel while rerun otherwise it will overwrite it.\n",
                "</span>\n",
                "</div>"
            ]
        }
    ],
    "metadata": {
        "language_info": {
            "name": "python"
        }
    },
    "nbformat": 4,
    "nbformat_minor": 5
}