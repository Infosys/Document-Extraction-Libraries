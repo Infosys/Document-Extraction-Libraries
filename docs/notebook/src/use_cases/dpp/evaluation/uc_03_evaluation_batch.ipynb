{
    "cells": [
        {
            "cell_type": "code",
            "execution_count": null,
            "id": "65beef06-adcf-4e90-a8fe-15215e4f9c52",
            "metadata": {},
            "outputs": [],
            "source": [
                "# ===============================================================================================================#\n",
                "# Copyright 2024 Infosys Ltd.                                                                          #\n",
                "# Use of this source code is governed by Apache License Version 2.0 that can be found in the LICENSE file or at  #\n",
                "# http://www.apache.org/licenses/                                                                                #\n",
                "# ===============================================================================================================#"
            ]
        },
        {
            "cell_type": "markdown",
            "id": "bea3612e-ac90-41e2-b922-5c96abce13ca",
            "metadata": {
                "tags": []
            },
            "source": [
                "## UC_03 - RAG Evaluation Batch"
            ]
        },
        {
            "cell_type": "markdown",
            "id": "99ea5bcd-2e0a-4abc-85a3-122019cf5602",
            "metadata": {},
            "source": [
                "<div  style=\"line-height: 1;\">\n",
                "    <span style=\"color:Green\"><b>NOTE:</b><br>\n",
                "        <b>1. </b>The RAG evaluation pipeline is to be ran after running <i>uc_01_rag_indexing_vectordb</i> pipeline.<br>\n",
                "        <b>2. </b>Make sure to have <b>infy_model_service</b>, <b>infy_db_service</b> and <b>infy_search_service</b> running, before running this pipeline.<br>\n",
                "        <b>3. </b>This pipeline uses a sample <i>question_data.xlsx</i> as input, to run this pipeline on custom <i>question_data.xlsx</i>, run <i>uc_02_qna_generation_batch</i> to generate the <i>question_data.xlsx</i> and use that as input in this pipeline.<br><br>\n",
                "        <b>IMPORTANT: </b>To run this pipeline, the <i>index_id</i> generated after running the <i>uc_01_rag_indexing_vectordb</i> needs to be updated in the config file. Kindly refer to the <b><i style=\"color:Red\">WARNING</i></b> in <i>Run the pipeline</i> section for more information.<br>\n",
                "    <span>\n",
                "</div>"
            ]
        },
        {
            "cell_type": "markdown",
            "id": "6ff900b0-5074-4583-b2a0-c468ccd2b07e",
            "metadata": {
                "tags": []
            },
            "source": [
                "#### Import libraries"
            ]
        },
        {
            "cell_type": "code",
            "execution_count": null,
            "id": "655d27ee-4b0b-4b49-acd0-2b243c98830f",
            "metadata": {},
            "outputs": [],
            "source": [
                "import os\n",
                "import json\n",
                "import shutil\n",
                "import infy_fs_utils\n",
                "import infy_dpp_sdk\n",
                "from infy_model_evaluation.common.constants import Constants\n",
                "from _internal_utils.pipeline_helper import PipelineHelper\n",
                "import warnings\n",
                "warnings.simplefilter(\"ignore\")"
            ]
        },
        {
            "cell_type": "markdown",
            "id": "688f8b2b-4d02-4935-8ab3-5bb475d40ed2",
            "metadata": {
                "tags": []
            },
            "source": [
                "#### Set environment variables\n",
                "<div  style=\"line-height: 1;\">\n",
                "    <span style=\"color:Red\"><b>NOTE:</b> The Pipeline uses environment variables which needs to be set by the developer.<br>\n",
                "In production developer needs to set them as required.<br>\n",
                "In this notebook you can provide them using the below code.<br>\n",
                "To set or change the value please refer <i>installation.ipynb</i></span>\n",
                "</div>"
            ]
        },
        {
            "cell_type": "code",
            "execution_count": null,
            "id": "bc283b58-5aad-42ee-bc94-bd62a8261c4e",
            "metadata": {},
            "outputs": [],
            "source": [
                "%store -r USE_LOCAL_STORE\n",
                "if 'USE_LOCAL_STORE' in locals() and USE_LOCAL_STORE:\n",
                "    %store -r AZURE_OPENAI_SERVER_BASE_URL\n",
                "    os.environ['AZURE_OPENAI_SERVER_BASE_URL']=AZURE_OPENAI_SERVER_BASE_URL\n",
                "    %store -r AZURE_OPENAI_SECRET_KEY\n",
                "    os.environ['AZURE_OPENAI_SECRET_KEY']=AZURE_OPENAI_SECRET_KEY\n",
                "    %store -r LITELLM_PROXY_SERVER_BASE_URL\n",
                "    os.environ['LITELLM_PROXY_SERVER_BASE_URL']=LITELLM_PROXY_SERVER_BASE_URL\n",
                "    %store -r LITELLM_PROXY_SECRET_KEY\n",
                "    os.environ['LITELLM_PROXY_SECRET_KEY']=LITELLM_PROXY_SECRET_KEY\n",
                "    %store -r INFY_DB_SERVICE_BASE_URL\n",
                "    os.environ['INFY_DB_SERVICE_BASE_URL']=INFY_DB_SERVICE_BASE_URL\n",
                "    %store -r INFY_MODEL_SERVICE_BASE_URL\n",
                "    os.environ['INFY_MODEL_SERVICE_BASE_URL']=INFY_MODEL_SERVICE_BASE_URL\n",
                "    %store -r INFY_RESOURCE_SERVICE_BASE_URL\n",
                "    os.environ['INFY_RESOURCE_SERVICE_BASE_URL']=INFY_RESOURCE_SERVICE_BASE_URL\n",
                "    %store -r INFY_SEARCH_SERVICE_BASE_URL\n",
                "    os.environ['INFY_SEARCH_SERVICE_BASE_URL']=INFY_SEARCH_SERVICE_BASE_URL\n",
                "else:\n",
                "    print(\"USE_LOCAL_STORE is not set to true. DPP pipeline will use system environment variables.\")"
            ]
        },
        {
            "cell_type": "markdown",
            "id": "2cfce822-7d38-4a7e-a836-8a86916443a0",
            "metadata": {},
            "source": [
                "#### Define configuration file path"
            ]
        },
        {
            "cell_type": "code",
            "execution_count": null,
            "id": "11703a94-7188-495d-8632-d10c5a33c40a",
            "metadata": {},
            "outputs": [],
            "source": [
                "STORAGE_ROOT_PATH = 'C:/del/fs/notebookuc/STORAGE'\n",
                "CONTAINER_ROOT_PATH = 'C:/del/fs/notebookuc/CONTAINER'\n",
                "PIPELINE_INPUT_CONFIG_FILE_PATH = '/data/config/dpp_pipeline_rag_evaluation_input_config.json'"
            ]
        },
        {
            "cell_type": "markdown",
            "id": "0895ae78-a6fb-4984-a7a4-a85130a77d2e",
            "metadata": {},
            "source": [
                "#### Copying files\n",
                "<div style=\"line-height: 1;\">\n",
                "<span style=\"color:Red\"><b>NOTE: </b>In this notebook below is used to copy sample files to folders in <i>STORAGE_ROOT_PATH</i>.<br>\n",
                "In production the data and config files should kept under respective folders in <i>STORAGE_ROOT_PATH </i>.<br>\n",
                "</span>\n",
                "</div>"
            ]
        },
        {
            "cell_type": "code",
            "execution_count": null,
            "id": "074f92e3-54c2-409f-ae7b-c41a8b987d20",
            "metadata": {},
            "outputs": [],
            "source": [
                "input_data_path = os.path.abspath('../../../../../../')\n",
                "current_data_path = os.path.abspath('../data')\n",
                "\n",
                "if not os.path.exists(f'{STORAGE_ROOT_PATH}/data'):\n",
                "    os.makedirs(f'{STORAGE_ROOT_PATH}/data')\n",
                "if not os.path.exists(f'{STORAGE_ROOT_PATH}/data/input'):\n",
                "    os.makedirs(f'{STORAGE_ROOT_PATH}/data/input')   \n",
                "shutil.copy(f'{input_data_path}/_internal/samples/input/question_data.xlsx',\n",
                "            f'{STORAGE_ROOT_PATH}/data/input/question_data.xlsx')\n",
                "shutil.copytree(f'{current_data_path}/sample/config',f'{STORAGE_ROOT_PATH}/data/config',\n",
                "                dirs_exist_ok=True)"
            ]
        },
        {
            "cell_type": "markdown",
            "id": "d0315b83-a090-4547-9367-3ccde828b56d",
            "metadata": {},
            "source": [
                "#### Initialize Client Config:"
            ]
        },
        {
            "cell_type": "code",
            "execution_count": null,
            "id": "7363030a-de4f-47e8-bad0-343a3fcdebdb",
            "metadata": {},
            "outputs": [],
            "source": [
                "storage_config_data = infy_fs_utils.data.StorageConfigData(\n",
                "        **{\n",
                "            \"storage_root_uri\": f\"file://{STORAGE_ROOT_PATH}\",\n",
                "            \"storage_server_url\": \"\",\n",
                "            \"storage_access_key\": \"\",\n",
                "            \"storage_secret_key\": \"\"\n",
                "        })\n",
                "file_sys_handler = infy_fs_utils.provider.FileSystemHandler(\n",
                "    storage_config_data)\n",
                "if not infy_fs_utils.manager.FileSystemManager().has_fs_handler(\n",
                "    infy_dpp_sdk.common.Constants.FSH_DPP):\n",
                "    infy_fs_utils.manager.FileSystemManager().set_root_handler_name(\n",
                "                    infy_dpp_sdk.common.Constants.FSH_DPP)\n",
                "    infy_fs_utils.manager.FileSystemManager().add_fs_handler(file_sys_handler)   "
            ]
        },
        {
            "cell_type": "code",
            "execution_count": null,
            "id": "d496a83f-5257-4bcd-b030-4b2fab58ae50",
            "metadata": {},
            "outputs": [],
            "source": [
                "# Configure client properties\n",
                "client_config_data = infy_dpp_sdk.ClientConfigData(\n",
                "    **{\n",
                "        \"container_data\": {\n",
                "            \"container_root_path\": f\"{CONTAINER_ROOT_PATH}\",\n",
                "        }\n",
                "    })\n",
                "infy_dpp_sdk.ClientConfigManager().load(client_config_data)"
            ]
        },
        {
            "cell_type": "markdown",
            "id": "d8a617c3-8be3-4fc5-be8d-84db17873e8e",
            "metadata": {},
            "source": [
                "#### Initialize Logging"
            ]
        },
        {
            "cell_type": "code",
            "execution_count": null,
            "id": "442a5b96-e781-42ef-b28f-4c1c62a04591",
            "metadata": {},
            "outputs": [],
            "source": [
                "import logging\n",
                "# Modify as required to control the overall logging level\n",
                "logging.basicConfig(level=logging.ERROR)\n",
                "logging_config_data = infy_fs_utils.data.LoggingConfigData(\n",
                "        **{\n",
                "            # \"logger_group_name\": \"my_group_1\",\n",
                "            \"logging_level\": 40,\n",
                "            \"logging_format\": \"\",\n",
                "            \"logging_timestamp_format\": \"\",\n",
                "            \"log_file_data\": {\n",
                "                \"log_file_dir_path\": \"/logs\",\n",
                "                \"log_file_name_prefix\": \"rag_evaluation_batch\",\n",
                "                # \"log_file_name_suffix\": \"1\",\n",
                "                \"log_file_extension\": \".log\"\n",
                "\n",
                "            }})"
            ]
        },
        {
            "cell_type": "code",
            "execution_count": null,
            "id": "286c9fc3-c43e-4f2c-8908-e282181352c8",
            "metadata": {},
            "outputs": [],
            "source": [
                "if not infy_fs_utils.manager.FileSystemLoggingManager().has_fs_logging_handler(\n",
                "    infy_dpp_sdk.common.Constants.FSLH_DPP):\n",
                "    file_sys_logging_handler = infy_fs_utils.provider.FileSystemLoggingHandler(\n",
                "                logging_config_data, file_sys_handler)\n",
                "    infy_fs_utils.manager.FileSystemLoggingManager(\n",
                "            ).set_root_handler_name(infy_dpp_sdk.common.Constants.FSLH_DPP)\n",
                "    infy_fs_utils.manager.FileSystemLoggingManager(\n",
                "            ).add_fs_logging_handler(file_sys_logging_handler)"
            ]
        },
        {
            "cell_type": "markdown",
            "id": "e11ce94d-95f3-445d-a664-72c8788c501b",
            "metadata": {
                "tags": []
            },
            "source": [
                "### Run the pipeline"
            ]
        },
        {
            "cell_type": "markdown",
            "id": "a4f340f4-fdee-4347-89b5-ec02e492593b",
            "metadata": {},
            "source": [
                "<div  style=\"line-height: 1;\">\n",
                "    <span style=\"color:Red\"><b>WARNING:</b><br>\n",
                "        Before running this pipeline make sure to fill the <i>index_id</i> field in the <i>dpp_pipeline_rag_evaluation_input_config.json</i> with the appropriate value obtained after running <i>uc_01_rag_indexing_vectordb</i><br>Follow the steps below for details: <br>\n",
                "        <b>1: </b>Open the config file found in the following location <i>/data/config/dpp_pipeline_rag_evaluation_input_config.json</i><br>\n",
                "        <b>2: </b>Inside the config navigate to <i>processor_input_config</i>-><i>SemanticSearch</i>-><i>services</i>-><i>request_payload</i>-><i>retrieval</i>-><i>index_id</i> and update the <i>index_id</i> value obtained after running <i>uc_01_rag_indexing_vectordb</i><br>\n",
                "        <b></b>\n",
                "    <span>\n",
                "</div>"
            ]
        },
        {
            "cell_type": "code",
            "execution_count": null,
            "id": "6b702ea1-24b1-4a31-a70c-f5da27f0f37f",
            "metadata": {},
            "outputs": [],
            "source": [
                "dpp_orchestrator = infy_dpp_sdk.orchestrator.OrchestratorNative(\n",
                "        input_config_file_path=PIPELINE_INPUT_CONFIG_FILE_PATH)"
            ]
        },
        {
            "cell_type": "code",
            "execution_count": null,
            "id": "6aef879f-0856-4a24-b364-a5d69a85bf37",
            "metadata": {},
            "outputs": [],
            "source": [
                "processor_response_list = dpp_orchestrator.run_batch()"
            ]
        },
        {
            "cell_type": "code",
            "execution_count": null,
            "id": "56ce69c2-b3d7-42a5-9c29-425efece2f79",
            "metadata": {},
            "outputs": [],
            "source": [
                "print(json.dumps(processor_response_list[0].context_data.get('request_closer'),indent=4))"
            ]
        },
        {
            "cell_type": "markdown",
            "id": "f794b1ba-55f1-4c3b-b2d6-798e7d96b536",
            "metadata": {},
            "source": [
                "<div  style=\"line-height: 1;\">\n",
                "    <span style=\"color:Green\"><b>NOTE: </b> The evaluation results will be available in <i><b>rag_report.xlsx</b></i> file generated at the path below:</span></div>"
            ]
        },
        {
            "cell_type": "code",
            "execution_count": null,
            "id": "48dc62be-b081-4f36-9c84-e71a16047ce5",
            "metadata": {},
            "outputs": [],
            "source": [
                "print(json.dumps(processor_response_list[0].context_data.get('rag_report_generator').get('rag_report_file_path'),indent=4))"
            ]
        }
    ],
    "metadata": {
        "language_info": {
            "name": "python"
        }
    },
    "nbformat": 4,
    "nbformat_minor": 5
}