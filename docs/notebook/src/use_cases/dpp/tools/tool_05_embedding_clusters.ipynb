{
    "cells": [
        {
            "cell_type": "code",
            "execution_count": null,
            "id": "7fdc5ce4-b511-43ad-904e-06f7124a4f8d",
            "metadata": {
                "tags": []
            },
            "outputs": [],
            "source": [
                "# ===============================================================================================================#\n",
                "# Copyright 2024 Infosys Ltd.                                                                          #\n",
                "# Use of this source code is governed by Apache License Version 2.0 that can be found in the LICENSE file or at  #\n",
                "# http://www.apache.org/licenses/                                                                                #\n",
                "# ===============================================================================================================#"
            ]
        },
        {
            "cell_type": "markdown",
            "id": "0c88b0a8-e3f2-40a9-b50b-eccba8ee8d40",
            "metadata": {
                "tags": []
            },
            "source": [
                "## Tool 05 - Embedding Clusters\n",
                "To experiment with embeddings and their clusters"
            ]
        },
        {
            "cell_type": "code",
            "execution_count": null,
            "id": "2d7b13e6-6444-46ef-97c3-09e67612ee33",
            "metadata": {
                "tags": []
            },
            "outputs": [],
            "source": [
                "import numpy as np\n",
                "import matplotlib.pyplot as plt\n",
                "from sklearn.manifold import TSNE"
            ]
        },
        {
            "cell_type": "code",
            "execution_count": null,
            "id": "506fea45-cc62-4da8-b1c1-642ec3075943",
            "metadata": {
                "tags": []
            },
            "outputs": [],
            "source": [
                "class VectorVisualizer(): \n",
                "    \n",
                "    def __init__(self, doc_vector_list, doc_label_list=None):\n",
                "        self.__doc_vector_list = doc_vector_list\n",
                "        self.__doc_label_list = doc_label_list\n",
                "    \n",
                "    def plot(self, perplexity=2, query_vector_list=None, query_label_list=None, max_label_len=5):\n",
                "        doc_vector_list = self.__doc_vector_list\n",
                "        doc_vector_list_count = len(doc_vector_list)\n",
                "        doc_labels = self.__doc_label_list\n",
                "        if not doc_labels:\n",
                "            doc_labels = [f\"D{idx+1}\" for idx, x in enumerate(doc_vector_list)]\n",
                "        else:\n",
                "            if max_label_len > -1:\n",
                "                doc_labels = [x[0:max_label_len] + \"...\" for x in doc_labels]\n",
                "        \n",
                "        vector_list = self.__doc_vector_list\n",
                "        query_labels = query_label_list\n",
                "        if isinstance(query_vector_list, (np.ndarray, np.generic)):\n",
                "            vector_list = np.concatenate((vector_list, query_vector_list ), axis=0)\n",
                "            if not query_labels:\n",
                "                query_labels = [f\"Q{idx+1}\" for idx, x in enumerate(query_vector_list)]\n",
                "            else:\n",
                "                if max_label_len > -1:\n",
                "                    query_labels = [x[0:max_label_len] + \"...\" for x in query_labels]\n",
                "\n",
                "        labels = doc_labels + query_labels\n",
                "        tsne = TSNE(n_components=2, perplexity=perplexity, random_state=42)\n",
                "        embedded_vectors = tsne.fit_transform(vector_list)\n",
                "        # plt.scatter(embedded_vectors[:, 0], embedded_vectors[:, 1])\n",
                "        \n",
                "        X_OFFSET = 5  # Adjust as needed for your plot scale\n",
                "        Y_OFFSET = 0.5  # Adjust as needed for your plot scale\n",
                "        \n",
                "        plt.figure(figsize=(12, 6))\n",
                "        \n",
                "        # Check if labels are provided and match the length of vector_list\n",
                "        if labels and len(labels) == len(vector_list):\n",
                "            for i, label in enumerate(labels):                \n",
                "                color = 'black'\n",
                "                if i >= doc_vector_list_count:\n",
                "                    color = 'red'                    \n",
                "                plt.scatter(embedded_vectors[i, 0], embedded_vectors[i, 1], color=color)  \n",
                "                plt.text(embedded_vectors[i, 0] + X_OFFSET , embedded_vectors[i, 1] + Y_OFFSET, label, color=color)\n",
                "        \n",
                "        plt.title(f\"t-SNE Plot of {len(vector_list)} vectors | perplexity = {perplexity}\")\n",
                "        plt.xlabel(\"Dimension 1\")\n",
                "        plt.ylabel(\"Dimension 2\")\n",
                "        plt.show()        "
            ]
        },
        {
            "cell_type": "code",
            "execution_count": null,
            "id": "101cb3cf-d5f7-423b-8a05-28b8c21fb074",
            "metadata": {},
            "outputs": [],
            "source": [
                "import os\n",
                "import abc\n",
                "from sentence_transformers import SentenceTransformer\n",
                "from openai import AzureOpenAI\n",
                "\n",
                "class IEmbeddingProvider(metaclass=abc.ABCMeta):\n",
                "    \"\"\"Interface class for embedding provider\"\"\"\n",
                "\n",
                "    @abc.abstractmethod\n",
                "    def generate_embedding(self, texts: list):\n",
                "        \"\"\"Generate embedding for given text\"\"\"\n",
                "        raise NotImplementedError\n",
                "        \n",
                "    def convert_to_numpy_array(self, text_embeddings):\n",
                "        \"\"\"Convert embeddings to numpy array\"\"\"\n",
                "        # If the embeddings are in list format, convert them to numpy array of shape (1, n)\n",
                "        if isinstance(text_embeddings, list):\n",
                "            vector = np.array(text_embeddings, dtype=np.float32).reshape(1, -1)\n",
                "        else:\n",
                "            vector = text_embeddings\n",
                "        return vector\n",
                "\n",
                "class StEmbeddingProvider(IEmbeddingProvider):\n",
                "    def __init__(self, model_name:str):\n",
                "        model_path = rf\"C:\\MyProgramFiles\\AI\\models\\{model_name}\"\n",
                "        self.st = SentenceTransformer(model_path)\n",
                "    \n",
                "    def generate_embedding(self, texts:list):\n",
                "        embeddings = self.st.encode(texts)\n",
                "        print(embeddings.shape)\n",
                "        return embeddings\n",
                "\n",
                "class OpenAIEmbeddingProvider(IEmbeddingProvider):\n",
                "    def __init__(self, model_name:str):\n",
                "        api_key = os.environ[\"INFY_OPENAI_SECRET_KEY\"]\n",
                "        api_version = \"2022-12-01\"\n",
                "        azure_endpoint = os.environ[\"INFY_OPENAI_SERVER_URL\"]\n",
                "        self.__model_name = model_name\n",
                "        self.__client = AzureOpenAI(\n",
                "                api_key=api_key,\n",
                "                api_version=api_version,\n",
                "                azure_endpoint=azure_endpoint\n",
                "            )\n",
                "   \n",
                "    def generate_embedding(self, texts:list):\n",
                "        embeddings_list = []\n",
                "        for text in texts:\n",
                "            embeddings = self.__client.embeddings.create(\n",
                "                input=text, model=self.__model_name)\n",
                "            embeddings = embeddings.data[0].embedding\n",
                "            embeddings = self.convert_to_numpy_array(embeddings)\n",
                "            embeddings_list.append(embeddings)\n",
                "        \n",
                "        embeddings = np.concatenate(embeddings_list, axis=0)\n",
                "        print(embeddings.shape)\n",
                "        return embeddings"
            ]
        },
        {
            "cell_type": "code",
            "execution_count": null,
            "id": "a38cc26d-0ae8-46ea-9824-3dbdfb68edf9",
            "metadata": {
                "tags": []
            },
            "outputs": [],
            "source": [
                "embedding_provider:IEmbeddingProvider = StEmbeddingProvider(\"all-MiniLM-L6-v2\")\n",
                "# embedding_provider:IEmbeddingProvider = OpenAIEmbeddingProvider(\"text-embedding-ada-002\")"
            ]
        },
        {
            "cell_type": "code",
            "execution_count": null,
            "id": "b749e822-6f2a-4198-b8d4-849b6e18f1b4",
            "metadata": {
                "tags": []
            },
            "outputs": [],
            "source": [
                "vintage_cars_sentences = [\n",
                "    \"Vintage cars symbolize timeless elegance and craftsmanship.\",\n",
                "    \"Each classic car tells a unique historical tale.\",\n",
                "    \"Restoring vintage cars is a labor of love.\",\n",
                "    \"Vintage car rallies showcase automotive history.\",\n",
                "    \"Collecting vintage cars is preserving history.\"\n",
                "]\n",
                "postal_stamps_sentences = [\n",
                "    \"Stamps are gateways to the world's stories.\",\n",
                "    \"Collecting stamps: a journey through history.\",\n",
                "    \"Each stamp reflects its era's art and culture.\",\n",
                "    \"Special edition stamps celebrate global events.\",\n",
                "    \"Philately connects generations of history enthusiasts.\"\n",
                "]\n",
                "fishing_sentences = [\n",
                "    \"Fishing offers serene escapes into nature's tranquility.\",\n",
                "    \"The thrill of the catch rewards patience.\",\n",
                "    \"Fishing adventures lead to remote, beautiful corners.\",\n",
                "    \"Techniques vary from fly fishing to deep-sea.\",\n",
                "    \"Sustainable fishing practices preserve future abundance.\"\n",
                "]\n",
                "docs = vintage_cars_sentences + postal_stamps_sentences + fishing_sentences\n",
                "docs_labels = [f\"{idx+1} ({x})\" for idx, x in enumerate(docs)]"
            ]
        },
        {
            "cell_type": "code",
            "execution_count": null,
            "id": "163c2f14-a19b-4a78-a1ee-731586b2b80c",
            "metadata": {
                "tags": []
            },
            "outputs": [],
            "source": [
                "docs_vectors = embedding_provider.generate_embedding(docs)"
            ]
        },
        {
            "cell_type": "code",
            "execution_count": null,
            "id": "08507a2a-c697-4f17-8c96-3fded37f12cd",
            "metadata": {
                "tags": []
            },
            "outputs": [],
            "source": [
                "queries = [\"Fishing adventures lead to remote, beautiful corners.\", \"My car is not working.\",\n",
                "          \"Tools help in reducing human effort.\"]\n",
                "queries_vector = embedding_provider.generate_embedding(queries)\n",
                "queries_label = [f\"{idx+1} ({x})\" for idx, x in enumerate(queries)]"
            ]
        },
        {
            "cell_type": "code",
            "execution_count": null,
            "id": "5b277ae6-6c80-44ee-8897-c4421520ebcb",
            "metadata": {
                "tags": []
            },
            "outputs": [],
            "source": [
                "vector_viz = VectorVisualizer(docs_vectors, docs_labels)\n",
                "for p in range(5,10): # Change as per requirement\n",
                "    vector_viz.plot(perplexity=p, query_vector_list = queries_vector, \n",
                "                    query_label_list = queries_label, max_label_len = 10)"
            ]
        }
    ],
    "metadata": {
        "kernelspec": {
            "display_name": "Python 3 (ipykernel)",
            "language": "python",
            "name": "python3"
        },
        "language_info": {
            "codemirror_mode": {
                "name": "ipython",
                "version": 3
            },
            "file_extension": ".py",
            "mimetype": "text/x-python",
            "name": "python",
            "nbconvert_exporter": "python",
            "pygments_lexer": "ipython3",
            "version": "3.11.2"
        }
    },
    "nbformat": 4,
    "nbformat_minor": 5
}