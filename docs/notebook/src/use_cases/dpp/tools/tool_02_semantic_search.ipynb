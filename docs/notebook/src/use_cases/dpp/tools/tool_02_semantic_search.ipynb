{
    "cells": [
        {
            "cell_type": "code",
            "execution_count": null,
            "id": "a813a11a-fd97-4371-8d23-f81dca533c9a",
            "metadata": {},
            "outputs": [],
            "source": [
                "# ===============================================================================================================#\n",
                "# Copyright 2024 Infosys Ltd.                                                                          #\n",
                "# Use of this source code is governed by Apache License Version 2.0 that can be found in the LICENSE file or at  #\n",
                "# http://www.apache.org/licenses/                                                                                #\n",
                "# ===============================================================================================================#"
            ]
        },
        {
            "cell_type": "markdown",
            "id": "c2fe4da7-d98f-43f9-9d76-de115242d45f",
            "metadata": {},
            "source": [
                "## Tool 02 - Semantic Search (Interactive)\n",
                "To demonstrate the applicability of `uc_41_retrieval_online.ipynb` for building interactive UI."
            ]
        },
        {
            "cell_type": "markdown",
            "id": "4c99afeb-da74-448c-adbc-bb5630f17250",
            "metadata": {},
            "source": [
                "#### Import libraries"
            ]
        },
        {
            "cell_type": "code",
            "execution_count": null,
            "id": "493b386b-5d7f-4241-9400-8a27b8022908",
            "metadata": {},
            "outputs": [],
            "source": [
                "import os\n",
                "import re\n",
                "import json\n",
                "import shutil\n",
                "import infy_dpp_sdk\n",
                "import infy_fs_utils\n",
                "from _internal_utils.pipeline_helper import PipelineHelper\n",
                "from IPython.display import display, HTML, Markdown\n",
                "from _internal_utils.semantic_search_visualizer import SemanticSearchVisualizer"
            ]
        },
        {
            "cell_type": "markdown",
            "id": "f7bd037f-2401-4fdd-9b95-cf384bed0340",
            "metadata": {},
            "source": [
                "#### Set environment variables\n",
                "<div  style=\"line-height: 1;\">\n",
                "    <span style=\"color:Red\"><b>NOTE:</b> The Pipeline uses environment variables which needs to be set by the developer.<br>\n",
                "In production developer needs to set them as required.<br>\n",
                "In this notebook you can provide them using the below code.<br>\n",
                "To set or change the value please refer <i>installation.ipynb</i></span>\n",
                "</div>"
            ]
        },
        {
            "cell_type": "code",
            "execution_count": null,
            "id": "a958432f-e9d2-40e5-9e9a-69f9072b165e",
            "metadata": {},
            "outputs": [],
            "source": [
                "%store -r CUSTOM_LLM_MIXTRAL_INFERENCE_URL\n",
                "os.environ['CUSTOM_LLM_MIXTRAL_INFERENCE_URL']=CUSTOM_LLM_MIXTRAL_INFERENCE_URL\n",
                "\n",
                "%store -r OPENAI_KEY\n",
                "os.environ['OPENAI_KEY'] = OPENAI_KEY\n",
                "%store -r OPENAI_SERVER_URL\n",
                "os.environ['OPENAI_SERVER_URL']=OPENAI_SERVER_URL"
            ]
        },
        {
            "cell_type": "markdown",
            "id": "dcf99568-167d-44c0-9330-48b4eb8d7d88",
            "metadata": {},
            "source": [
                "#### Define configuration file path"
            ]
        },
        {
            "cell_type": "code",
            "execution_count": null,
            "id": "713cbdb2-87cf-47ad-b7f9-4c145f8d1332",
            "metadata": {},
            "outputs": [],
            "source": [
                "STORAGE_ROOT_PATH = 'C:/DPP/infy_libraries_client/tool/STORAGE'\n",
                "CONTAINER_ROOT_PATH = 'C:/DPP/infy_libraries_client/tool/CONTAINER'\n",
                "PIPELINE_INPUT_CONFIG_FILE_PATH = '/data/config/dpp_pipeline_retriever_online_input_config.json'"
            ]
        },
        {
            "cell_type": "markdown",
            "id": "9592a107-9ff1-41a5-8d71-23c732d2a7fc",
            "metadata": {},
            "source": [
                "#### Copying files\n",
                "<div  style=\"line-height: 1;\"><span style=\"color:Red\"><b>NOTE: </b>In this notebook below is used to copy sample files to folders in <i>STORAGE_ROOT_PATH</i>.<br>\n",
                "In production the data and config files should kept under respective folders in <i>STORAGE_ROOT_PATH </i>.<br>\n",
                "<span></div>"
            ]
        },
        {
            "cell_type": "code",
            "execution_count": null,
            "id": "fe17d208-636c-4d69-8408-9aec2b930580",
            "metadata": {},
            "outputs": [],
            "source": [
                "curr_data = os.path.abspath('../data')\n",
                "if not os.path.exists(f'{STORAGE_ROOT_PATH}/data'):\n",
                "    os.makedirs(f'{STORAGE_ROOT_PATH}/data')\n",
                "if not os.path.exists(f'{STORAGE_ROOT_PATH}/data/input'):\n",
                "    os.makedirs(f'{STORAGE_ROOT_PATH}/data/input')\n",
                "shutil.copytree(f'{curr_data}/sample/config',f'{STORAGE_ROOT_PATH}/data/config',\n",
                "                dirs_exist_ok=True)\n",
                "if not os.path.exists(f'{STORAGE_ROOT_PATH}/data/vectordb'):\n",
                "    os.makedirs(f'{STORAGE_ROOT_PATH}/data/vectordb')\n",
                "curr_data = os.path.abspath('./data')\n",
                "shutil.copytree(f'{curr_data}/sample/vectordb',f'{STORAGE_ROOT_PATH}/data/vectordb',\n",
                "                dirs_exist_ok=True)    "
            ]
        },
        {
            "cell_type": "markdown",
            "id": "1ff0e189-1291-4389-9f45-bfef6a16b1a2",
            "metadata": {},
            "source": [
                "#### Initialize Client Config"
            ]
        },
        {
            "cell_type": "code",
            "execution_count": null,
            "id": "92806b8d-9f94-42e1-ad65-c3b8a3bd3080",
            "metadata": {},
            "outputs": [],
            "source": [
                "storage_config_data = infy_fs_utils.data.StorageConfigData(\n",
                "        **{\n",
                "            \"storage_root_uri\": f\"file://{STORAGE_ROOT_PATH}\",\n",
                "            \"storage_server_url\": \"\",\n",
                "            \"storage_access_key\": \"\",\n",
                "            \"storage_secret_key\": \"\"\n",
                "        })\n",
                "\n",
                "client_config_data = infy_dpp_sdk.ClientConfigData(\n",
                "    **{\n",
                "        \"container_data\": {\n",
                "            \"container_root_path\": f\"{CONTAINER_ROOT_PATH}\",\n",
                "        }\n",
                "    })\n",
                "file_sys_handler = infy_fs_utils.provider.FileSystemHandler(\n",
                "    storage_config_data)\n",
                "if not infy_fs_utils.manager.FileSystemManager().has_fs_handler(\n",
                "    infy_dpp_sdk.common.Constants.FSH_DPP):\n",
                "    infy_fs_utils.manager.FileSystemManager().add_fs_handler(\n",
                "        file_sys_handler,\n",
                "        infy_dpp_sdk.common.Constants.FSH_DPP)\n",
                "infy_dpp_sdk.ClientConfigManager().load(client_config_data)"
            ]
        },
        {
            "cell_type": "markdown",
            "id": "c27cd994-cec2-45b8-9115-38c244b18768",
            "metadata": {},
            "source": [
                "#### Initialize Logging"
            ]
        },
        {
            "cell_type": "code",
            "execution_count": null,
            "id": "70059612-7df0-4fa0-9288-a740fdbd28e1",
            "metadata": {},
            "outputs": [],
            "source": [
                "logging_config_data = infy_fs_utils.data.LoggingConfigData(\n",
                "        **{\n",
                "            # \"logger_group_name\": \"my_group_1\",\n",
                "            \"logging_level\": 10,\n",
                "            \"logging_format\": \"\",\n",
                "            \"logging_timestamp_format\": \"\",\n",
                "            \"log_file_data\": {\n",
                "                \"log_file_dir_path\": \"/logs\",\n",
                "                \"log_file_name_prefix\": \"inference\",\n",
                "                # \"log_file_name_suffix\": \"1\",\n",
                "                \"log_file_extension\": \".log\"\n",
                "\n",
                "            }})"
            ]
        },
        {
            "cell_type": "code",
            "execution_count": null,
            "id": "409ac049-6b6d-458c-81da-efe0a6bdbc7e",
            "metadata": {},
            "outputs": [],
            "source": [
                "if not infy_fs_utils.manager.FileSystemLoggingManager().has_fs_logging_handler(\n",
                "    infy_dpp_sdk.common.Constants.FSLH_DPP):\n",
                "    infy_fs_utils.manager.FileSystemLoggingManager().add_fs_logging_handler(\n",
                "            infy_fs_utils.provider.FileSystemLoggingHandler(\n",
                "                logging_config_data, file_sys_handler),\n",
                "            infy_dpp_sdk.common.Constants.FSLH_DPP)"
            ]
        },
        {
            "cell_type": "markdown",
            "id": "ce25dbe7-eb26-45ac-b392-5470087472cf",
            "metadata": {},
            "source": [
                "### Inference Pipeline - Q&A visualization "
            ]
        },
        {
            "cell_type": "code",
            "execution_count": null,
            "id": "0bcd198b-7c47-4b65-89d1-fdfee74d8968",
            "metadata": {},
            "outputs": [],
            "source": [
                "# ---- Create response data -----\n",
                "metadata = infy_dpp_sdk.data.MetaData(\n",
                "    standard_data=infy_dpp_sdk.data.StandardData(\n",
                "        filepath=infy_dpp_sdk.data.ValueData()))\n",
                "document_data = infy_dpp_sdk.data.DocumentData(metadata=metadata)\n",
                "context_data = {\n",
                "}\n",
                "response_data = infy_dpp_sdk.data.ProcessorResponseData(\n",
                "    document_data=document_data, context_data=context_data)\n",
                "document_data_json=json.loads(response_data.json(indent=4))"
            ]
        },
        {
            "cell_type": "code",
            "execution_count": null,
            "id": "713045cb-5492-457e-a130-19ec13ea0b38",
            "metadata": {},
            "outputs": [],
            "source": [
                "def highlight_words(orig_content, query, reduce=False):\n",
                "    STOP_WORDS = \"\"\"\n",
                "    a, an, and, are, as, at, be, but, by, for, if, in, into, is, it, no, not, of, on, or, s, such, t,\n",
                "    that, the, their, then, there, these, they, this, to, was, what, will, with\n",
                "    \"\"\"\n",
                "    stop_words = [x.strip() for x in STOP_WORDS.split(',') if x.strip() ]\n",
                "    content = orig_content\n",
                "    query_words = [ x for x in re.sub('[^A-Za-z0-9]+', ' ', query).split(' ') if x ]\n",
                "    query_words\n",
                "    for query_word in query_words:\n",
                "        if query_word.lower() in stop_words:\n",
                "            continue\n",
                "        pattern = r'\\b' + query_word + r'\\b'\n",
                "        query_matches = set(re.findall(pattern, content, re.IGNORECASE))\n",
                "        for query_match in query_matches:\n",
                "            pattern = r'\\b' + query_match + r'\\b'\n",
                "            content = re.sub(pattern, f'<b>{query_match}</b>', content)\n",
                "    if reduce:\n",
                "        lines = content.split('\\n')\n",
                "        lines = [x for x in lines if '<b>' in x]\n",
                "        content = '\\n'.join(lines)\n",
                "    return content"
            ]
        },
        {
            "cell_type": "code",
            "execution_count": null,
            "id": "35fc61e1-803a-4cde-bfcb-5ef82fea3413",
            "metadata": {},
            "outputs": [],
            "source": [
                "ss_visualizer = SemanticSearchVisualizer()\n",
                "\n",
                "def form_submit_button_clicked(_):\n",
                "    user_query = ss_visualizer.get_input_text()\n",
                "    \n",
                "    ss_visualizer.set_output_text('Fetching. Please wait...')\n",
                "    \n",
                "    input_config_data=json.loads(file_sys_handler.read_file(\n",
                "                        PIPELINE_INPUT_CONFIG_FILE_PATH))\n",
                "    input_config_data['processor_input_config']['QueryRetriever']['queries'\\\n",
                "                                                                 ][0]['question']=user_query\n",
                "    file_sys_handler.write_file(PIPELINE_INPUT_CONFIG_FILE_PATH,json.dumps(\\\n",
                "                                input_config_data,indent=4))\n",
                "    \n",
                "    dpp_orchestrator = infy_dpp_sdk.orchestrator.OrchestratorNativeBasic(\n",
                "        input_config_file_path=PIPELINE_INPUT_CONFIG_FILE_PATH)\n",
                "    processor_response_list = dpp_orchestrator.run_batch(\n",
                "                    [infy_dpp_sdk.data.DocumentData(**document_data_json.\\\n",
                "                                                    get('document_data'))],\n",
                "                    [document_data_json.get('context_data')])\n",
                "    with open(\"./data/processor_response_data_list.json\", \"w\") as f:\n",
                "        json.dump(processor_response_list[0].dict(), f, indent = 4)\n",
                "   \n",
                "        \n",
                "    queries_list=processor_response_list[0].context_data.get(\"query_retriever\").get(\"queries\")\n",
                "    output = ''\n",
                "    for query in queries_list:\n",
                "        # total_records = len(query['top_k_matches'])\n",
                "        #\n",
                "        top_k_matches_list=query['top_k_matches']\n",
                "        match_list=[match for match_dict in top_k_matches_list for match_list in match_dict.values() for match in match_list]\n",
                "        total_records = len(match_list)\n",
                "        #\n",
                "        for idx, match in enumerate(match_list):\n",
                "            # print(match)\n",
                "            raw_content = match['content']\n",
                "            result = highlight_words(raw_content, user_query, reduce=True)\n",
                "            html_content = raw_content.replace('\\n','<br/>')\n",
                "            card_html = f\"\"\"\n",
                "            <b># {idx+1} of {total_records}</b><br/>\n",
                "            <b>Distance:</b> {match['score']}<br/>\n",
                "            <div style='line-height: 14pt;'>\n",
                "                {result}\n",
                "            </div>\n",
                "            <div style='line-height: 14pt; border:0px solid red; background-color: #eee;'>\n",
                "                <details>\n",
                "                    <summary>Chunk</summary>\n",
                "                    {html_content}\n",
                "                </details>\n",
                "            </div>\n",
                "            <b>Source:</b> {match['meta_data']['doc_name']} | <b>Page: </b> {match['meta_data']['page_no']}            \n",
                "            \"\"\"\n",
                "            card_html += \"<br/><hr/>\" if idx+1 < total_records else ''\n",
                "            output+= card_html\n",
                "            \n",
                "    ss_visualizer.set_output_text(output)\n",
                "    \n",
                "def count_tokens(text):\n",
                "    # Custom token count logic to be added here. Sample below.\n",
                "    count = len(text)\n",
                "    return count\n",
                "\n",
                "help_html=\"\"\"\n",
                "**Sample Question(s):**   \n",
                "What is the percentage of women employees in Infosys?  \n",
                "What's the operating margin?  \n",
                "What are list of equipment involved in Virtual Reality (VR)?  \n",
                "Which football player has scored 15 goals from table?  \n",
                "In which year was Infosys Certified excellent in employee conditions?  \n",
                "<hr/>\n",
                "\"\"\"\n",
                "\n",
                "display(Markdown(help_html))\n",
                "ss_visualizer.on_form_submit_callback(form_submit_button_clicked)\n",
                "ss_visualizer.set_token_counter_fn(count_tokens)\n",
                "ss_visualizer.show_ui()"
            ]
        }
    ],
    "metadata": {
        "language_info": {
            "name": "python"
        }
    },
    "nbformat": 4,
    "nbformat_minor": 5
}