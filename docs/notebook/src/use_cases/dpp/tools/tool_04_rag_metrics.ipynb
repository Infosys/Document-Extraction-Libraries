{
    "cells": [
        {
            "cell_type": "code",
            "execution_count": null,
            "id": "643fca31-967e-4dfb-80aa-b1b57aa521f4",
            "metadata": {},
            "outputs": [],
            "source": [
                "# ===============================================================================================================#\n",
                "# Copyright 2024 Infosys Ltd.                                                                          #\n",
                "# Use of this source code is governed by Apache License Version 2.0 that can be found in the LICENSE file or at  #\n",
                "# http://www.apache.org/licenses/                                                                                #\n",
                "# ===============================================================================================================#"
            ]
        },
        {
            "cell_type": "markdown",
            "id": "1ae8c139-d5ed-418b-9a35-b0ff043c58c8",
            "metadata": {
                "tags": []
            },
            "source": [
                "## Tool 04 - RAG Metrics (Interactive)\n",
                "To experiment with data and RAG performance metrics"
            ]
        },
        {
            "cell_type": "code",
            "execution_count": null,
            "id": "37baca68-bb63-4603-b359-fcd7b8dd24fd",
            "metadata": {},
            "outputs": [],
            "source": [
                "import os\n",
                "import json\n",
                "import pandas as pd\n",
                "from datasets import Dataset\n",
                "from langchain_openai import AzureChatOpenAI\n",
                "from langchain_openai import AzureOpenAIEmbeddings\n",
                "from ragas.metrics import (answer_correctness, faithfulness, answer_similarity,\n",
                "                           context_precision, context_utilization, context_recall,\n",
                "                           context_relevancy, answer_relevancy, context_entity_recall)\n",
                "from ragas import evaluate\n",
                "from _internal_utils.rag_evaluation_visualizer import RagEvaluationVisualizer"
            ]
        },
        {
            "cell_type": "code",
            "execution_count": null,
            "id": "d1d143cc-681e-43b8-975e-fb78369b919f",
            "metadata": {},
            "outputs": [],
            "source": [
                "# Set Azure generic properties\n",
                "%store -r USE_LOCAL_STORE\n",
                "if 'USE_LOCAL_STORE' in locals() and USE_LOCAL_STORE:\n",
                "    %store -r AZURE_OPENAI_SECRET_KEY\n",
                "    os.environ[\"AZURE_OPENAI_API_KEY\"]=AZURE_OPENAI_SECRET_KEY\n",
                "    %store -r AZURE_OPENAI_SERVER_BASE_URL\n",
                "    os.environ[\"AZURE_OPENAI_ENDPOINT\"]=AZURE_OPENAI_SERVER_BASE_URL\n",
                "else:\n",
                "    os.environ[\"AZURE_OPENAI_API_KEY\"] = os.environ[\"AZURE_OPENAI_SECRET_KEY\"]\n",
                "    os.environ[\"AZURE_OPENAI_ENDPOINT\"] = os.environ[\"AZURE_OPENAI_SERVER_BASE_URL\"]\n",
                "\n",
                "llm_model = AzureChatOpenAI(\n",
                "    openai_api_version=\"2024-02-15-preview\",\n",
                "    azure_deployment=\"gpt4\"\n",
                ")\n",
                "\n",
                "embeddings_model = AzureOpenAIEmbeddings(\n",
                "    openai_api_version=\"2022-12-01\",\n",
                "    azure_deployment=\"text-embedding-ada-002\",\n",
                ")"
            ]
        },
        {
            "cell_type": "code",
            "execution_count": null,
            "id": "7fa0c0af-d58f-42ad-9429-4568675375da",
            "metadata": {},
            "outputs": [],
            "source": [
                "def do_rag_eval(dataset):\n",
                "    \"\"\"Test dataset 1\"\"\"    \n",
                "    dataset = Dataset.from_dict(dataset)\n",
                "    score = evaluate(dataset,\n",
                "                     llm=llm_model,\n",
                "                     embeddings=embeddings_model,\n",
                "                     metrics=[faithfulness, answer_similarity,\n",
                "                           context_precision, context_utilization, context_recall,\n",
                "                           context_relevancy, answer_relevancy, context_entity_recall\n",
                "                             ])\n",
                "    return score.to_pandas()"
            ]
        },
        {
            "cell_type": "code",
            "execution_count": null,
            "id": "84017d34-23b2-4bdf-8675-baea9619032f",
            "metadata": {},
            "outputs": [],
            "source": [
                "from pathlib import Path\n",
                "import os\n",
                "import json\n",
                "from datetime import datetime\n",
                "class HistoryUtil():\n",
                "    \n",
                "    def __init__(self):\n",
                "        home_path = 'C:/del/fs/notebookuc/STORAGE'\n",
                "        user_nb_folder = f'{home_path}/data/output/tool_04_rag_metrics'\n",
                "        os.makedirs(user_nb_folder, exist_ok=True)\n",
                "        date_str = datetime.utcnow().strftime('%Y_%m_%d')\n",
                "        self.__file_path = f'{user_nb_folder}/{date_str}_rag_metrics.json'\n",
                "    \n",
                "    def save_record(self, record):\n",
                "        file_path = self.__file_path\n",
                "        records = []\n",
                "        if os.path.exists(file_path):\n",
                "            with open(file_path, 'r', encoding='utf-8') as f:\n",
                "                records = json.load(f)\n",
                "        entry_time = datetime.utcnow().strftime('%Y-%m-%d %H:%M:%S.%f')[:-3]\n",
                "        _record = record.copy()\n",
                "        _record['entry_time']=entry_time\n",
                "        records.append(_record)\n",
                "        print(records)\n",
                "        with open(file_path, 'w', encoding='utf-8') as f:\n",
                "            json.dump(records, f, indent=4) \n",
                "    \n",
                "    def get_save_file_path(self, mask=True):\n",
                "        file_path = self.__file_path\n",
                "        if not os.path.exists(file_path):\n",
                "            return None\n",
                "        if not mask:\n",
                "            return file_path\n",
                "        home_path = str(Path.home())\n",
                "        return file_path.replace(home_path, '~')\n",
                "        "
            ]
        },
        {
            "cell_type": "markdown",
            "id": "aa3f85d3-03cb-48d6-921c-c80d6dc7b1bd",
            "metadata": {
                "tags": []
            },
            "source": [
                "#### Unit Testing"
            ]
        },
        {
            "cell_type": "code",
            "execution_count": null,
            "id": "647f421d-aa92-43cd-aec6-6951f02776c8",
            "metadata": {},
            "outputs": [],
            "source": [
                "def test_do_rag_eval():\n",
                "    dataset = {\n",
                "        \"contexts\": [[\"Paris is the capital and most populous city of France.\"]],\n",
                "        \"question\": [\"What is the capital of France?\"],\n",
                "        \"answer\": [\"Paris is the capital of France.\"],\n",
                "        \"ground_truth\": [\"Paris\"]\n",
                "    }\n",
                "    do_rag_eval(dataset)\n",
                "# test_do_rag_eval()\n",
                "def test_plot_metrics():\n",
                "    data_dict = {'answer_correctness': 0.1949719484, 'faithfulness': None, \n",
                "                 'answer_similarity': 0.7798877935, 'context_precision': 0.0,\n",
                "                 'context_utilization': 0.0, 'context_recall': 0.0, \n",
                "                 'context_relevancy': 0.3333333333, 'answer_relevancy': 0.8321068844, \n",
                "                 'context_entity_recall': 0.0}\n",
                "    RagEvaluationVisualizer().plot_graph(data_dict)\n",
                "# test_plot_metrics()"
            ]
        },
        {
            "cell_type": "markdown",
            "id": "fae35fc3-85c6-48fb-92f1-76ea0951b7f1",
            "metadata": {
                "tags": []
            },
            "source": [
                "## RAG Metrics Evaluation"
            ]
        },
        {
            "cell_type": "code",
            "execution_count": null,
            "id": "63ec0a2f-2fa5-4722-ae30-5a3b73e90a7a",
            "metadata": {},
            "outputs": [],
            "source": [
                "SAMPLES = [\n",
                "    {\n",
                "        \"name\": \"1a. Capital-city Perfect score\",\n",
                "        \"dataset\": {\n",
                "            \"contexts\": [[\"Paris is the capital and most populous city of France.\"]],\n",
                "            \"question\": [\"What is the capital of France?\"],\n",
                "            \"ground_truth\": [\"Paris\"],\n",
                "            \"answer\": [\"Paris\"]\n",
                "        }\n",
                "    },\n",
                "    {\n",
                "        \"name\": \"1b. Capital-city Low score\",\n",
                "        \"dataset\": {\n",
                "            \"contexts\": [[\"France became part of the European Union on January 1, 1958.\",\n",
                "                         \"France co-founded the EU.\",\n",
                "                         \"France played a significant role in development of and growth of EU over the years.\"]\n",
                "                        ],\n",
                "            \"question\": [\"What is the capital of Germany?\"],\n",
                "            \"ground_truth\": [\"Berlin\"],\n",
                "            \"answer\": [\"Boston\"]\n",
                "        }\n",
                "    }\n",
                "]"
            ]
        },
        {
            "cell_type": "code",
            "execution_count": null,
            "id": "62b1813c-4ca1-45a3-9afa-6e60a60a331c",
            "metadata": {},
            "outputs": [],
            "source": [
                "rag_eval_visualizer = RagEvaluationVisualizer(SAMPLES)\n",
                "\n",
                "def form_submit_button_clicked(_):\n",
                "    CONTEXT_DATA_DELIMITER = RagEvaluationVisualizer.CONTEXT_DELIMITER\n",
                "    input_form_data_dict = rag_eval_visualizer.get_input_form_data()\n",
                "    # rag_eval_visualizer.set_output_graph('Fetching. Please wait...')\n",
                "    print('input_form_data_dict =', input_form_data_dict)\n",
                "    contexts = input_form_data_dict['contexts'].split(CONTEXT_DATA_DELIMITER)\n",
                "    contexts = [x.strip() for x in contexts ]\n",
                "    dataset_dict = {\n",
                "        \"question\": [input_form_data_dict['question']],\n",
                "        \"answer\": [input_form_data_dict['answer']],\n",
                "        \"contexts\": [contexts],\n",
                "        \"ground_truth\": [input_form_data_dict['ground_truth']],\n",
                "    }\n",
                "    output_handler = rag_eval_visualizer.get_output_handler()\n",
                "    output_handler.clear_output()\n",
                "    with output_handler:\n",
                "        df = do_rag_eval(dataset_dict)\n",
                "    eval_dict = json.loads(df.iloc[0].to_json())\n",
                "    print('eval_dict =', eval_dict)\n",
                "    \n",
                "    HistoryUtil().save_record(eval_dict)\n",
                "    \n",
                "    metrics_dict = {k:v for k,v in eval_dict.items() if k not in dataset_dict}\n",
                "    print('metrics_dict =', metrics_dict)\n",
                "    rag_eval_visualizer.set_output_graph(metrics_dict)"
            ]
        },
        {
            "cell_type": "code",
            "execution_count": null,
            "id": "2492d03e-38e3-4364-8854-8490a8da46d9",
            "metadata": {},
            "outputs": [],
            "source": [
                "rag_eval_visualizer.on_form_submit_callback(form_submit_button_clicked)\n",
                "rag_eval_visualizer.show_ui()"
            ]
        },
        {
            "cell_type": "markdown",
            "id": "277a84fe-f971-464f-9003-37b4719b9f5d",
            "metadata": {},
            "source": [
                "## History"
            ]
        },
        {
            "cell_type": "code",
            "execution_count": null,
            "id": "434001ac-6bb3-4f61-a939-cdec2b952cf4",
            "metadata": {},
            "outputs": [],
            "source": [
                "history_file_path = HistoryUtil().get_save_file_path()\n",
                "if not history_file_path:\n",
                "    print('No history found')\n",
                "else:\n",
                "    print('History retrieved from:', history_file_path)\n",
                "    df = pd.read_json(history_file_path)\n",
                "    display(df)"
            ]
        }
    ],
    "metadata": {
        "language_info": {
            "name": "python"
        }
    },
    "nbformat": 4,
    "nbformat_minor": 5
}