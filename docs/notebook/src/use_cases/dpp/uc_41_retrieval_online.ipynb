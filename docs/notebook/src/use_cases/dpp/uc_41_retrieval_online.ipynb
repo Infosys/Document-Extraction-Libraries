{
    "cells": [
        {
            "cell_type": "code",
            "execution_count": null,
            "id": "ecd49b64-5685-47e0-9a8e-bde3c28503e4",
            "metadata": {},
            "outputs": [],
            "source": [
                "# ===============================================================================================================#\n",
                "# Copyright 2024 Infosys Ltd.                                                                          #\n",
                "# Use of this source code is governed by Apache License Version 2.0 that can be found in the LICENSE file or at  #\n",
                "# http://www.apache.org/licenses/                                                                                #\n",
                "# ===============================================================================================================#"
            ]
        },
        {
            "cell_type": "markdown",
            "id": "c2fe4da7-d98f-43f9-9d76-de115242d45f",
            "metadata": {},
            "source": [
                "## UC_41 - Retrieval_online from vectordb \n",
                "<div  style=\"line-height: 1;\">\n",
                "    <span style=\"color:Green\">Demonstrates retrieval without dependency on group_request_file.</span></div>"
            ]
        },
        {
            "cell_type": "markdown",
            "id": "4c99afeb-da74-448c-adbc-bb5630f17250",
            "metadata": {},
            "source": [
                "#### Import libraries"
            ]
        },
        {
            "cell_type": "code",
            "execution_count": null,
            "id": "493b386b-5d7f-4241-9400-8a27b8022908",
            "metadata": {},
            "outputs": [],
            "source": [
                "import os\n",
                "import json\n",
                "import shutil\n",
                "import pandas as pd\n",
                "import infy_dpp_sdk\n",
                "import infy_fs_utils\n",
                "from _internal_utils.pipeline_helper import PipelineHelper"
            ]
        },
        {
            "cell_type": "markdown",
            "id": "7770e275-742d-4014-92cb-92da571155fe",
            "metadata": {},
            "source": [
                "#### Set environment variables\n",
                "<div  style=\"line-height: 1;\">\n",
                "    <span style=\"color:Red\"><b>NOTE:</b> The Pipeline uses environment variables which needs to be set by the developer.<br>\n",
                "In production developer needs to set them as required.<br>\n",
                "In this notebook you can provide them using the below code.<br>\n",
                "To set or change the value please refer <i>installation.ipynb</i></span>\n",
                "</div>"
            ]
        },
        {
            "cell_type": "code",
            "execution_count": null,
            "id": "e279d86f-5298-4aac-953c-8af8ce1e33d7",
            "metadata": {},
            "outputs": [],
            "source": [
                "%store -r OPENAI_KEY\n",
                "os.environ['OPENAI_KEY'] = OPENAI_KEY\n",
                "%store -r OPENAI_SERVER_URL\n",
                "os.environ['OPENAI_SERVER_URL']=OPENAI_SERVER_URL"
            ]
        },
        {
            "cell_type": "markdown",
            "id": "dcf99568-167d-44c0-9330-48b4eb8d7d88",
            "metadata": {},
            "source": [
                "#### Define configuration file path"
            ]
        },
        {
            "cell_type": "code",
            "execution_count": null,
            "id": "713cbdb2-87cf-47ad-b7f9-4c145f8d1332",
            "metadata": {},
            "outputs": [],
            "source": [
                "STORAGE_ROOT_PATH = 'C:/DPP/infy_libraries_client/STORAGE'\n",
                "CONTAINER_ROOT_PATH = 'C:/DPP/infy_libraries_client/CONTAINER'\n",
                "PIPELINE_INPUT_CONFIG_FILE_PATH = '/data/config/dpp_pipeline_retriever_online_input_config.json'"
            ]
        },
        {
            "cell_type": "markdown",
            "id": "2ec9ee89-a4ef-457b-b83c-3c3f77fe0d88",
            "metadata": {},
            "source": [
                "#### Copying files\n",
                "<div  style=\"line-height: 1;\"><span style=\"color:Red\"><b>NOTE: </b>In this notebook below is used to copy sample files to folders in <i>STORAGE_ROOT_PATH</i>.<br>\n",
                "In production the data and config files should kept under respective folders in <i>STORAGE_ROOT_PATH </i>.<br>\n",
                "<span></div>"
            ]
        },
        {
            "cell_type": "code",
            "execution_count": null,
            "id": "fe17d208-636c-4d69-8408-9aec2b930580",
            "metadata": {},
            "outputs": [],
            "source": [
                "curr_data = os.path.abspath('./data')\n",
                "if not os.path.exists(f'{STORAGE_ROOT_PATH}/data'):\n",
                "    os.makedirs(f'{STORAGE_ROOT_PATH}/data')\n",
                "if not os.path.exists(f'{STORAGE_ROOT_PATH}/data/input'):\n",
                "    os.makedirs(f'{STORAGE_ROOT_PATH}/data/input')     \n",
                "shutil.copytree(f'{curr_data}/sample/config',f'{STORAGE_ROOT_PATH}/data/config',\n",
                "                dirs_exist_ok=True)"
            ]
        },
        {
            "cell_type": "markdown",
            "id": "1ff0e189-1291-4389-9f45-bfef6a16b1a2",
            "metadata": {},
            "source": [
                "#### Initialize Client Config"
            ]
        },
        {
            "cell_type": "code",
            "execution_count": null,
            "id": "92806b8d-9f94-42e1-ad65-c3b8a3bd3080",
            "metadata": {},
            "outputs": [],
            "source": [
                "storage_config_data = infy_fs_utils.data.StorageConfigData(\n",
                "        **{\n",
                "            \"storage_root_uri\": f\"file://{STORAGE_ROOT_PATH}\",\n",
                "            \"storage_server_url\": \"\",\n",
                "            \"storage_access_key\": \"\",\n",
                "            \"storage_secret_key\": \"\"\n",
                "        })\n",
                "\n",
                "client_config_data = infy_dpp_sdk.ClientConfigData(\n",
                "    **{\n",
                "        \"container_data\": {\n",
                "            \"container_root_path\": f\"{CONTAINER_ROOT_PATH}\",\n",
                "        }\n",
                "    })\n",
                "file_sys_handler = infy_fs_utils.provider.FileSystemHandler(\n",
                "    storage_config_data)\n",
                "if not infy_fs_utils.manager.FileSystemManager().has_fs_handler(\n",
                "    infy_dpp_sdk.common.Constants.FSH_DPP):\n",
                "    infy_fs_utils.manager.FileSystemManager().add_fs_handler(\n",
                "        file_sys_handler,\n",
                "        infy_dpp_sdk.common.Constants.FSH_DPP)\n",
                "infy_dpp_sdk.ClientConfigManager().load(client_config_data)"
            ]
        },
        {
            "cell_type": "markdown",
            "id": "c27cd994-cec2-45b8-9115-38c244b18768",
            "metadata": {},
            "source": [
                "#### Initialize Logging"
            ]
        },
        {
            "cell_type": "code",
            "execution_count": null,
            "id": "70059612-7df0-4fa0-9288-a740fdbd28e1",
            "metadata": {},
            "outputs": [],
            "source": [
                "logging_config_data = infy_fs_utils.data.LoggingConfigData(\n",
                "        **{\n",
                "            # \"logger_group_name\": \"my_group_1\",\n",
                "            \"logging_level\": 10,\n",
                "            \"logging_format\": \"\",\n",
                "            \"logging_timestamp_format\": \"\",\n",
                "            \"log_file_data\": {\n",
                "                \"log_file_dir_path\": \"/logs\",\n",
                "                \"log_file_name_prefix\": \"retriever\",\n",
                "                # \"log_file_name_suffix\": \"1\",\n",
                "                \"log_file_extension\": \".log\"\n",
                "\n",
                "            }})"
            ]
        },
        {
            "cell_type": "code",
            "execution_count": null,
            "id": "9e2b1afa-5979-43dc-837c-5fb4c1d2a560",
            "metadata": {},
            "outputs": [],
            "source": [
                "if not infy_fs_utils.manager.FileSystemLoggingManager().has_fs_logging_handler(\n",
                "    infy_dpp_sdk.common.Constants.FSLH_DPP):\n",
                "    infy_fs_utils.manager.FileSystemLoggingManager().add_fs_logging_handler(\n",
                "            infy_fs_utils.provider.FileSystemLoggingHandler(\n",
                "                logging_config_data, file_sys_handler),\n",
                "            infy_dpp_sdk.common.Constants.FSLH_DPP)"
            ]
        },
        {
            "cell_type": "markdown",
            "id": "0c44a958-98bf-43ff-9201-4a869c06b183",
            "metadata": {},
            "source": [
                "### Query(Picked from config file)"
            ]
        },
        {
            "cell_type": "code",
            "execution_count": null,
            "id": "6fb93532-a64f-48fa-8092-958cfcc09356",
            "metadata": {},
            "outputs": [],
            "source": [
                "input_config_data=json.loads(file_sys_handler.read_file(\n",
                "                    PIPELINE_INPUT_CONFIG_FILE_PATH))\n",
                "print(input_config_data['processor_input_config']['QueryRetriever']['queries'][0]['question'])"
            ]
        },
        {
            "cell_type": "markdown",
            "id": "ce25dbe7-eb26-45ac-b392-5470087472cf",
            "metadata": {},
            "source": [
                "## Run the Pipeline"
            ]
        },
        {
            "cell_type": "code",
            "execution_count": null,
            "id": "edce321d-8cd6-4658-80fb-8abc62eac738",
            "metadata": {},
            "outputs": [],
            "source": [
                "# ---- Create response data -----\n",
                "metadata = infy_dpp_sdk.data.MetaData(\n",
                "    standard_data=infy_dpp_sdk.data.StandardData(\n",
                "        filepath=infy_dpp_sdk.data.ValueData()))\n",
                "document_data = infy_dpp_sdk.data.DocumentData(metadata=metadata)\n",
                "context_data = {\n",
                "}\n",
                "response_data = infy_dpp_sdk.data.ProcessorResponseData(\n",
                "    document_data=document_data, context_data=context_data)\n",
                "\n",
                "document_data_json=json.loads(response_data.json(indent=4))"
            ]
        },
        {
            "cell_type": "code",
            "execution_count": null,
            "id": "f58615ce-7b78-4d7f-a5ba-bc9ffe77bfa3",
            "metadata": {},
            "outputs": [],
            "source": [
                "dpp_orchestrator = infy_dpp_sdk.orchestrator.OrchestratorNativeBasic(\n",
                "        input_config_file_path=PIPELINE_INPUT_CONFIG_FILE_PATH)"
            ]
        },
        {
            "cell_type": "code",
            "execution_count": null,
            "id": "8ee1f1b4-152f-4c6c-962b-ffd4b3eb4626",
            "metadata": {},
            "outputs": [],
            "source": [
                "processor_response_list = dpp_orchestrator.run_batch(\n",
                "                    [infy_dpp_sdk.data.DocumentData(\n",
                "                        **document_data_json.get('document_data'))],\n",
                "                    [document_data_json.get('context_data')])"
            ]
        },
        {
            "cell_type": "markdown",
            "id": "1f1425a7-db2f-4579-8361-74f2e70f67ea",
            "metadata": {},
            "source": [
                "### Verify results"
            ]
        },
        {
            "cell_type": "code",
            "execution_count": null,
            "id": "30ba3c03-e385-45a0-ae69-fe2f008d9c74",
            "metadata": {},
            "outputs": [],
            "source": [
                "print(\"Output of retrieval pipeline is: \")"
            ]
        },
        {
            "cell_type": "code",
            "execution_count": null,
            "id": "0e6bfae2-debe-4d74-8c3a-d9887bac7037",
            "metadata": {},
            "outputs": [],
            "source": [
                "top_k_matches_list=processor_response_list[0].context_data.get(\n",
                "    \"query_retriever\").get(\"queries\")[0].get(\"top_k_matches\")\n",
                "match_list=[match for match_dict in top_k_matches_list for match_list in match_dict.values() for match in match_list]\n",
                "data={\n",
                "    \"Content\":[match.get(\"content\") for match in match_list],\n",
                "    \"Score\":[match.get(\"score\") for match in match_list],\n",
                "    \"Metadata-page_no\":[match.get(\"meta_data\"\n",
                "                                 ).get(\"page_no\") for match in match_list],\n",
                "    \"Metadata-doc_name\":[match.get(\"meta_data\"\n",
                "                                  ).get(\"doc_name\") for match in match_list]\n",
                "}\n",
                "pd.DataFrame(data)"
            ]
        },
        {
            "cell_type": "code",
            "execution_count": null,
            "id": "5722a56e-e58f-4b6a-9d4a-1969e5a024f4",
            "metadata": {},
            "outputs": [],
            "source": [
                "# print(json.dumps(processor_response_list[0].context_data.get(\"query_retriever\"),indent=4))"
            ]
        }
    ],
    "metadata": {
        "language_info": {
            "name": "python"
        }
    },
    "nbformat": 4,
    "nbformat_minor": 5
}