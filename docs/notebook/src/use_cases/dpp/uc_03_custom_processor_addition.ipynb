{
    "cells": [
        {
            "cell_type": "code",
            "execution_count": null,
            "id": "75f6a43e-9bf7-4d60-802d-e6329a170183",
            "metadata": {},
            "outputs": [],
            "source": [
                "# ===============================================================================================================#\n",
                "# Copyright 2023 Infosys Ltd.                                                                                    #\n",
                "# Use of this source code is governed by Apache License Version 2.0 that can be found in the LICENSE file or at  #\n",
                "# http://www.apache.org/licenses/                                                                                #\n",
                "# ===============================================================================================================#"
            ]
        },
        {
            "cell_type": "markdown",
            "id": "24834441-7f7b-45e3-b55b-a1a285a34ada",
            "metadata": {},
            "source": [
                "# Use case 3 - How to use Create and use Custom Module in Pipeline\n",
                "\n",
                "<hr/>\n",
                "\n",
                "## Sample Task: Document preprocessing post adding New Processor\n",
                "\n",
                "<hr/>"
            ]
        },
        {
            "cell_type": "markdown",
            "id": "c3c37dc8-8ec3-4d8d-a539-6bdc6bed4908",
            "metadata": {},
            "source": [
                "## 1. Customized Processor Creation"
            ]
        },
        {
            "cell_type": "markdown",
            "id": "89379bc9-8e4f-4872-8063-cb73a6c86592",
            "metadata": {},
            "source": [
                "### 1a. Processor Class Signature"
            ]
        },
        {
            "cell_type": "code",
            "execution_count": null,
            "id": "8f31d038-2a7a-4b31-afff-c481b1c3c7ee",
            "metadata": {},
            "outputs": [],
            "source": [
                "import infy_dpp_sdk\n",
                "\n",
                "class ChunkDataValidatorV1(infy_dpp_sdk.interface.IProcessor):\n",
                "    \"\"\"Chunk data validator Processor Implementation class\"\"\"\n",
                "    __PROCESSOR_CONTEXT_DATA_NAME = \"ChunkDataValidator\"\n",
                "\n",
                "    def do_execute(self, document_data: infy_dpp_sdk.data.DocumentData,\n",
                "                   context_data: dict, config_data: dict) -> infy_dpp_sdk.data.ProcessorResponseData:\n",
                "        processor_response_data = infy_dpp_sdk.data.ProcessorResponseData()\n",
                "\n",
                "        return processor_response_data"
            ]
        },
        {
            "cell_type": "markdown",
            "id": "9a39d5fb-aad4-43b5-81a7-35c543dd08d9",
            "metadata": {},
            "source": [
                "### 1b. Add logic to the processor and update the Response Data "
            ]
        },
        {
            "cell_type": "code",
            "execution_count": null,
            "id": "9332551e-8672-4f1e-90f4-e147fb8951fc",
            "metadata": {},
            "outputs": [],
            "source": [
                "import infy_dpp_sdk\n",
                "\n",
                "\n",
                "class ChunkDataValidatorV1(infy_dpp_sdk.interface.IProcessor):\n",
                "    \"\"\"Document uploader Processor Implementation class\"\"\"\n",
                "    __PROCESSOR_CONTEXT_DATA_NAME = \"ChunkDataValidator\"\n",
                "\n",
                "    def do_execute(self, document_data: infy_dpp_sdk.data.DocumentData,\n",
                "                   context_data: dict, config_data: dict) -> infy_dpp_sdk.data.ProcessorResponseData:\n",
                "        # get the configuration from config data\n",
                "        config_data = config_data.get(\"ChunkDataValidator\")\n",
                "\n",
                "        processor_response_data = infy_dpp_sdk.data.ProcessorResponseData()\n",
                "\n",
                "        # sample logic\n",
                "        if config_data.get('valid_test'):\n",
                "            valid = 'success'\n",
                "        else:\n",
                "            valid = 'failure'\n",
                "        # Populate context data\n",
                "        context_data[self.__PROCESSOR_CONTEXT_DATA_NAME] = {\n",
                "            \"validation_status\": valid}\n",
                "\n",
                "        # Populate response data\n",
                "        processor_response_data.document_data = document_data\n",
                "        processor_response_data.context_data = context_data\n",
                "\n",
                "        return processor_response_data"
            ]
        },
        {
            "cell_type": "markdown",
            "id": "b81bd119-443c-46f7-8bff-919376ccb1d8",
            "metadata": {},
            "source": [
                "## 2. Save to .py file "
            ]
        },
        {
            "cell_type": "markdown",
            "id": "d0fd00ea-91e7-4109-b37e-0842366dc693",
            "metadata": {},
            "source": [
                "##### Here i have created a file named `chunk_data_validator` and saved my class and supporting content to that file"
            ]
        },
        {
            "cell_type": "markdown",
            "id": "bfdbf5ad-c547-41a7-b5cb-27c69dd0b7f5",
            "metadata": {},
            "source": [
                "## 3. Copy to custom folder "
            ]
        },
        {
            "cell_type": "markdown",
            "id": "76cafd32-042f-45aa-b395-6bcd37c2d29a",
            "metadata": {},
            "source": [
                "## 4. Add to Pipeline Configuration"
            ]
        },
        {
            "cell_type": "markdown",
            "id": "c419747d-fbb1-4914-990d-0bd9c59f206f",
            "metadata": {},
            "source": [
                "### 4a. Add to Processor List"
            ]
        },
        {
            "cell_type": "code",
            "execution_count": null,
            "id": "55d1163f-574d-44c1-8523-9184f06782d1",
            "metadata": {},
            "outputs": [],
            "source": [
                "{\n",
                "    \"enabled\": true,\n",
                "    \"processor_name\": \"chunk_data_validator\",\n",
                "    \"processor_namespace\": \"_custimization.chunk_data_validator\",\n",
                "    \"processor_class_name\": \"ChunkDataValidatorV1\",\n",
                "    \"processor_input_config_name_list\": [\n",
                "        \"ChunkDataValidator\"\n",
                "    ]\n",
                "}"
            ]
        },
        {
            "cell_type": "markdown",
            "id": "a3825bb2-fe2d-4614-b2b9-aae865731f57",
            "metadata": {},
            "source": [
                "### 4b. Add Processor Configurations"
            ]
        },
        {
            "cell_type": "code",
            "execution_count": null,
            "id": "005c292d-d35f-405d-881a-be7bf099c7c8",
            "metadata": {},
            "outputs": [],
            "source": [
                "\"ChunkDataValidator\": {\n",
                "    \"valid_test\": true\n",
                "}"
            ]
        },
        {
            "cell_type": "markdown",
            "id": "99f92b00-d8dd-4d34-9c0b-c26433268104",
            "metadata": {},
            "source": [
                "#### : Add the configuration to the dpp_pipeline2.1_input_config.json\n",
                "Another example of custom processor my_processor.py is created in custom folder "
            ]
        }
    ],
    "metadata": {
        "kernelspec": {
            "display_name": "Python 3 (ipykernel)",
            "language": "python",
            "name": "python3"
        },
        "language_info": {
            "codemirror_mode": {
                "name": "ipython",
                "version": 3
            },
            "file_extension": ".py",
            "mimetype": "text/x-python",
            "name": "python",
            "nbconvert_exporter": "python",
            "pygments_lexer": "ipython3",
            "version": "3.11.2"
        }
    },
    "nbformat": 4,
    "nbformat_minor": 5
}