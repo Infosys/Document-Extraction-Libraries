{
    "cells": [
        {
            "cell_type": "code",
            "execution_count": null,
            "id": "a99800dc-fb80-4abe-919f-4b7ffea6758a",
            "metadata": {},
            "outputs": [],
            "source": [
                "# ===============================================================================================================#\n",
                "# Copyright 2023 Infosys Ltd.                                                                          #\n",
                "# Use of this source code is governed by Apache License Version 2.0 that can be found in the LICENSE file or at  #\n",
                "# http://www.apache.org/licenses/                                                                                #\n",
                "# ===============================================================================================================#"
            ]
        },
        {
            "cell_type": "markdown",
            "id": "c4727a53-b710-4056-a23f-8b61da5cda96",
            "metadata": {},
            "source": [
                "# Use case 01 - Extract Chunks From Image\n",
                "\n",
                "<hr/>\n",
                "\n",
                "## Sample Task: Document preprocessing(segmentation, chunking) using sample Annual Report\n",
                "\n",
                "<hr/>\n",
                "\n",
                "<img src=\"./data/sample/input/annual_report1.jpg\" style=\"border-style: dotted;\" width=1000 height=700 />"
            ]
        },
        {
            "cell_type": "markdown",
            "id": "4c99afeb-da74-448c-adbc-bb5630f17250",
            "metadata": {},
            "source": [
                "#### Import libraries"
            ]
        },
        {
            "cell_type": "code",
            "execution_count": null,
            "id": "493b386b-5d7f-4241-9400-8a27b8022908",
            "metadata": {},
            "outputs": [],
            "source": [
                "import json\n",
                "import os\n",
                "import shutil\n",
                "import infy_dpp_sdk\n",
                "import infy_fs_utils\n",
                "from _internal_utils.pipeline_helper import PipelineHelper"
            ]
        },
        {
            "cell_type": "markdown",
            "id": "dcf99568-167d-44c0-9330-48b4eb8d7d88",
            "metadata": {},
            "source": [
                "#### Define configuration file path"
            ]
        },
        {
            "cell_type": "code",
            "execution_count": null,
            "id": "713cbdb2-87cf-47ad-b7f9-4c145f8d1332",
            "metadata": {},
            "outputs": [],
            "source": [
                "STORAGE_ROOT_PATH = 'C:/DPP/infy_libraries_client/STORAGE'\n",
                "CONTAINER_ROOT_PATH = 'C:/DPP/infy_libraries_client/CONTAINER'\n",
                "PIPELINE_INPUT_CONFIG_FILE_PATH = '/data/config/dpp_pipeline1_input_config.json'"
            ]
        },
        {
            "cell_type": "markdown",
            "id": "81ac2470-3ac3-464b-a9de-cd76b7b89d9d",
            "metadata": {},
            "source": [
                "#### Copying files\n",
                "<div style=\"line-height: 1;\">\n",
                "<span style=\"color:Red\"><b>NOTE: </b>In this notebook below is used to copy sample files to folders in <i>STORAGE_ROOT_PATH</i>.<br>\n",
                "In production the data and config files should be kept under respective folders in <i>STORAGE_ROOT_PATH </i>.<br>\n",
                "</span>\n",
                "</div>"
            ]
        },
        {
            "cell_type": "code",
            "execution_count": null,
            "id": "fe17d208-636c-4d69-8408-9aec2b930580",
            "metadata": {},
            "outputs": [],
            "source": [
                "curr_data = os.path.abspath('./data')\n",
                "if not os.path.exists(f'{STORAGE_ROOT_PATH}/data'):\n",
                "    os.makedirs(f'{STORAGE_ROOT_PATH}/data')\n",
                "if not os.path.exists(f'{STORAGE_ROOT_PATH}/data/input'):\n",
                "    os.makedirs(f'{STORAGE_ROOT_PATH}/data/input')     \n",
                "shutil.copy(f'{curr_data}/sample/input/annual_report1.jpg',\n",
                "            f'{STORAGE_ROOT_PATH}/data/input/annual_report1.jpg')\n",
                "shutil.copytree(f'{curr_data}/sample/config',f'{STORAGE_ROOT_PATH}/data/config',\n",
                "                dirs_exist_ok=True)"
            ]
        },
        {
            "cell_type": "code",
            "execution_count": null,
            "id": "5ddc6332-6bfa-4063-89c9-22f788f8cf7e",
            "metadata": {},
            "outputs": [],
            "source": [
                "# Show pipeline card\n",
                "PipelineHelper(PIPELINE_INPUT_CONFIG_FILE_PATH, STORAGE_ROOT_PATH, CONTAINER_ROOT_PATH).show_pipeline_card()"
            ]
        },
        {
            "cell_type": "markdown",
            "id": "1ff0e189-1291-4389-9f45-bfef6a16b1a2",
            "metadata": {},
            "source": [
                "#### Initialize Client Config"
            ]
        },
        {
            "cell_type": "code",
            "execution_count": null,
            "id": "92806b8d-9f94-42e1-ad65-c3b8a3bd3080",
            "metadata": {},
            "outputs": [],
            "source": [
                "storage_config_data = infy_fs_utils.data.StorageConfigData(\n",
                "        **{\n",
                "            \"storage_root_uri\": f\"file://{STORAGE_ROOT_PATH}\",\n",
                "            \"storage_server_url\": \"\",\n",
                "            \"storage_access_key\": \"\",\n",
                "            \"storage_secret_key\": \"\"\n",
                "        })\n",
                "client_config_data = infy_dpp_sdk.ClientConfigData(\n",
                "    **{\n",
                "        \"container_data\": {\n",
                "            \"container_root_path\": f\"{CONTAINER_ROOT_PATH}\",\n",
                "        }\n",
                "    })\n",
                "file_sys_handler = infy_fs_utils.provider.FileSystemHandler(\n",
                "    storage_config_data)\n",
                "if not infy_fs_utils.manager.FileSystemManager().has_fs_handler(\n",
                "    infy_dpp_sdk.common.Constants.FSH_DPP):\n",
                "    infy_fs_utils.manager.FileSystemManager().add_fs_handler(\n",
                "        file_sys_handler,\n",
                "        infy_dpp_sdk.common.Constants.FSH_DPP)\n",
                "infy_dpp_sdk.ClientConfigManager().load(client_config_data)"
            ]
        },
        {
            "cell_type": "markdown",
            "id": "c27cd994-cec2-45b8-9115-38c244b18768",
            "metadata": {},
            "source": [
                "#### Initialize Logging"
            ]
        },
        {
            "cell_type": "code",
            "execution_count": null,
            "id": "70059612-7df0-4fa0-9288-a740fdbd28e1",
            "metadata": {},
            "outputs": [],
            "source": [
                "logging_config_data = infy_fs_utils.data.LoggingConfigData(\n",
                "        **{\n",
                "            # \"logger_group_name\": \"my_group_1\",\n",
                "            \"logging_level\": 10,\n",
                "            \"logging_format\": \"\",\n",
                "            \"logging_timestamp_format\": \"\",\n",
                "            \"log_file_data\": {\n",
                "                \"log_file_dir_path\": \"/logs\",\n",
                "                \"log_file_name_prefix\": \"index\",\n",
                "                # \"log_file_name_suffix\": \"1\",\n",
                "                \"log_file_extension\": \".log\"\n",
                "\n",
                "            }})"
            ]
        },
        {
            "cell_type": "markdown",
            "id": "ff989b1b-4249-4c83-bcf4-c7a26942bdb2",
            "metadata": {},
            "source": [
                "### Index pipeline"
            ]
        },
        {
            "cell_type": "code",
            "execution_count": null,
            "id": "dcd4d442-e58e-4009-ad49-76d58fe4c114",
            "metadata": {},
            "outputs": [],
            "source": [
                "if not infy_fs_utils.manager.FileSystemLoggingManager().has_fs_logging_handler(\n",
                "    infy_dpp_sdk.common.Constants.FSLH_DPP):\n",
                "    infy_fs_utils.manager.FileSystemLoggingManager().add_fs_logging_handler(\n",
                "            infy_fs_utils.provider.FileSystemLoggingHandler(\n",
                "                logging_config_data, file_sys_handler),\n",
                "            infy_dpp_sdk.common.Constants.FSLH_DPP)"
            ]
        },
        {
            "cell_type": "code",
            "execution_count": null,
            "id": "6474f1af-c35b-4f0e-aa3a-e1191f327e42",
            "metadata": {},
            "outputs": [],
            "source": [
                "dpp_orchestrator = infy_dpp_sdk.orchestrator.OrchestratorNative(\n",
                "        input_config_file_path=PIPELINE_INPUT_CONFIG_FILE_PATH)"
            ]
        },
        {
            "cell_type": "code",
            "execution_count": null,
            "id": "265a0abd-87a3-493a-80ea-2d1b90132be4",
            "metadata": {},
            "outputs": [],
            "source": [
                "processor_response_list = dpp_orchestrator.run_batch()"
            ]
        },
        {
            "cell_type": "markdown",
            "id": "bcf05fe7-5e63-4cb0-8ff9-0c8f7c243ea4",
            "metadata": {},
            "source": [
                "### Verify results"
            ]
        },
        {
            "cell_type": "markdown",
            "id": "21a8982e-0ea8-40c0-bd99-baafaf9388ab",
            "metadata": {},
            "source": [
                "<div  style=\"line-height: 1;\">\n",
                "    <span style=\"color:Green\"><b>NOTE: </b> The results of the pipeline will be available in <i>processor_response_data.json</i> file at <i>work_folder_path</i>.</span></div>"
            ]
        },
        {
            "cell_type": "code",
            "execution_count": null,
            "id": "c4673c84-fd64-4348-807c-fada45bf90b8",
            "metadata": {},
            "outputs": [],
            "source": [
                "processor_response_list[0].context_data.get('request_closer')"
            ]
        },
        {
            "cell_type": "code",
            "execution_count": null,
            "id": "f04d6b51-1588-4d71-a1b3-5ea0780c2a8a",
            "metadata": {},
            "outputs": [],
            "source": [
                "print(\"Please note down the 'group_request_file', this will be needed in other usecases: \")\n",
                "print(json.dumps(processor_response_list[0].context_data.get(\"request_creator\"),indent=4))"
            ]
        },
        {
            "cell_type": "markdown",
            "id": "7d272668",
            "metadata": {},
            "source": [
                "<div  style=\"line-height: 1;\">\n",
                "    <span style=\"color:Green\"><b>NOTE:</b> Progression through each stage of the segmentation process can be seen below.</span></div>"
            ]
        },
        {
            "cell_type": "code",
            "execution_count": null,
            "id": "853b4713-1b50-490a-92c0-c686793040e7",
            "metadata": {},
            "outputs": [],
            "source": [
                "import base64\n",
                "from IPython.display import Image, display, HTML\n",
                "debug_path= STORAGE_ROOT_PATH + (processor_response_list[0].context_data.get(\"request_creator\").get('work_file_path'))+'_files/debug'\n",
                "\n",
                "directories = {\n",
                "    '1.segment_generator': '1.Segment Generation: Segmentation of the input document into segments based on selected techniques.',\n",
                "    '2.segment_consolidator': '2.Segment Consolidation: Consolidation of the results of various segmentation techniques to into one.',\n",
                "    '3.segment_classifier': '3. Segment Classification: Classification of the segments into headers, footers, content.',\n",
                "    '4.column_detector': '4.Column Detection: Detection of columns in the document.',\n",
                "    '5.segment_merger': '5.Segment Merging: Merging of the smaller segments into larger ones.',\n",
                "    '6.segment_sequencer': '6.Segment Sequencing: Sequencing of the segments based on the order of appearance in the document.',\n",
                "}\n",
                "\n",
                "for dir, text in directories.items():\n",
                "    dir_path = os.path.join(debug_path, dir)\n",
                "    if os.path.exists(dir_path):\n",
                "        for file in os.listdir(dir_path):\n",
                "            if file.endswith(\".png\") or file.endswith(\".jpg\"):\n",
                "                img_path = os.path.join(dir_path, file)\n",
                "                with open(img_path, \"rb\") as img_file:\n",
                "                    b64_string = base64.b64encode(img_file.read()).decode()\n",
                "                text_before_colon, text_after_colon = text.split(':', 1)\n",
                "                html = f\"\"\"\n",
                "                <div style=\"border:2px solid black; padding:10px; margin:5px;\">\n",
                "                    <p><b>{text_before_colon}:</b>{text_after_colon}</p>\n",
                "                    <img src=\"data:image/png;base64,{b64_string}\" alt=\"Image\">\n",
                "                </div>\n",
                "                \"\"\"\n",
                "                display(HTML(html))\n",
                "                break"
            ]
        }
    ],
    "metadata": {
        "language_info": {
            "name": "python"
        }
    },
    "nbformat": 4,
    "nbformat_minor": 5
}