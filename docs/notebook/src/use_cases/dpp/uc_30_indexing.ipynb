{
    "cells": [
        {
            "cell_type": "code",
            "execution_count": null,
            "id": "a8052836-8264-4e5f-9d72-c14c6dc327dd",
            "metadata": {},
            "outputs": [],
            "source": [
                "# ===============================================================================================================#\n",
                "# Copyright 2023 Infosys Ltd.                                                                                    #\n",
                "# Use of this source code is governed by Apache License Version 2.0 that can be found in the LICENSE file or at  #\n",
                "# http://www.apache.org/licenses/                                                                                #\n",
                "# ===============================================================================================================#"
            ]
        },
        {
            "cell_type": "markdown",
            "id": "e6ba4f1a-2c53-4ef7-a403-008faf13959a",
            "metadata": {},
            "source": [
                "## Document Extraction Ai Pipeline"
            ]
        },
        {
            "cell_type": "markdown",
            "id": "4c99afeb-da74-448c-adbc-bb5630f17250",
            "metadata": {},
            "source": [
                "#### Import libraries"
            ]
        },
        {
            "cell_type": "code",
            "execution_count": null,
            "id": "493b386b-5d7f-4241-9400-8a27b8022908",
            "metadata": {},
            "outputs": [],
            "source": [
                "import json\n",
                "import os\n",
                "import shutil\n",
                "import infy_dpp_sdk\n",
                "import infy_fs_utils"
            ]
        },
        {
            "cell_type": "markdown",
            "id": "dcf99568-167d-44c0-9330-48b4eb8d7d88",
            "metadata": {},
            "source": [
                "#### Define configuration file path"
            ]
        },
        {
            "cell_type": "code",
            "execution_count": null,
            "id": "713cbdb2-87cf-47ad-b7f9-4c145f8d1332",
            "metadata": {},
            "outputs": [],
            "source": [
                "STORAGE_ROOT_PATH = 'C:/DPP/infy_libraries_client/STORAGE'\n",
                "CONTAINER_ROOT_PATH = 'C:/DPP/infy_libraries_client/CONTAINER'\n",
                "INDEX_INPUT_CONFIG_FILE_PATH = '/data/config/dpp_pipeline_index_input_config.json'"
            ]
        },
        {
            "cell_type": "code",
            "execution_count": null,
            "id": "fe17d208-636c-4d69-8408-9aec2b930580",
            "metadata": {},
            "outputs": [],
            "source": [
                "curr_data = os.path.abspath('./data')\n",
                "if not os.path.exists(f'{STORAGE_ROOT_PATH}/data'):\n",
                "    os.makedirs(f'{STORAGE_ROOT_PATH}/data')\n",
                "if not os.path.exists(f'{STORAGE_ROOT_PATH}/data/input'):\n",
                "    os.makedirs(f'{STORAGE_ROOT_PATH}/data/input')     \n",
                "shutil.copy(f'{curr_data}/sample/input/AR_2022-23_page-14-17.pdf',\n",
                "            f'{STORAGE_ROOT_PATH}/data/input/AR_2022-23_page-14-17.pdf')\n",
                "shutil.copy(f'{curr_data}/sample/input/AR_2021-22_page-20-21.pdf',\n",
                "            f'{STORAGE_ROOT_PATH}/data/input/AR_2021-22_page-20-21.pdf')\n",
                "shutil.copytree(f'{curr_data}/sample/config',f'{STORAGE_ROOT_PATH}/data/config',\n",
                "                dirs_exist_ok=True)"
            ]
        },
        {
            "cell_type": "markdown",
            "id": "1ff0e189-1291-4389-9f45-bfef6a16b1a2",
            "metadata": {},
            "source": [
                "#### Initialize Client Config"
            ]
        },
        {
            "cell_type": "code",
            "execution_count": null,
            "id": "92806b8d-9f94-42e1-ad65-c3b8a3bd3080",
            "metadata": {},
            "outputs": [],
            "source": [
                "storage_config_data = infy_fs_utils.data.StorageConfigData(\n",
                "        **{\n",
                "            \"storage_root_uri\": f\"file://{STORAGE_ROOT_PATH}\",\n",
                "            \"storage_server_url\": \"\",\n",
                "            \"storage_access_key\": \"\",\n",
                "            \"storage_secret_key\": \"\"\n",
                "        })\n",
                "\n",
                "file_sys_handler = infy_fs_utils.provider.FileSystemHandler(\n",
                "    storage_config_data)\n",
                "infy_fs_utils.manager.FileSystemManager().add_fs_handler(\n",
                "    file_sys_handler,\n",
                "    infy_dpp_sdk.common.Constants.FSH_DPP)"
            ]
        },
        {
            "cell_type": "markdown",
            "id": "c27cd994-cec2-45b8-9115-38c244b18768",
            "metadata": {},
            "source": [
                "#### Initialize Logging"
            ]
        },
        {
            "cell_type": "code",
            "execution_count": null,
            "id": "70059612-7df0-4fa0-9288-a740fdbd28e1",
            "metadata": {},
            "outputs": [],
            "source": [
                "logging_config_data = infy_fs_utils.data.LoggingConfigData(\n",
                "        **{\n",
                "            # \"logger_group_name\": \"my_group_1\",\n",
                "            \"logging_level\": 10,\n",
                "            \"logging_format\": \"\",\n",
                "            \"logging_timestamp_format\": \"\",\n",
                "            \"log_file_data\": {\n",
                "                \"log_file_dir_path\": \"/logs\",\n",
                "                \"log_file_name_prefix\": \"index\",\n",
                "                # \"log_file_name_suffix\": \"1\",\n",
                "                \"log_file_extension\": \".log\"\n",
                "\n",
                "            }})"
            ]
        },
        {
            "cell_type": "code",
            "execution_count": null,
            "id": "6e5d8cf7-f585-4e8f-9f28-798889beebfa",
            "metadata": {},
            "outputs": [],
            "source": [
                "# Configure client properties\n",
                "client_config_data = infy_dpp_sdk.ClientConfigData(\n",
                "    **{\n",
                "        \"container_data\": {\n",
                "            \"container_root_path\": f\"{CONTAINER_ROOT_PATH}\",\n",
                "        }\n",
                "    })\n",
                "infy_dpp_sdk.ClientConfigManager().load(client_config_data)"
            ]
        },
        {
            "cell_type": "markdown",
            "id": "ff989b1b-4249-4c83-bcf4-c7a26942bdb2",
            "metadata": {},
            "source": [
                "### Index pipeline"
            ]
        },
        {
            "cell_type": "code",
            "execution_count": null,
            "id": "dcd4d442-e58e-4009-ad49-76d58fe4c114",
            "metadata": {},
            "outputs": [],
            "source": [
                "infy_fs_utils.manager.FileSystemLoggingManager().add_fs_logging_handler(\n",
                "        infy_fs_utils.provider.FileSystemLoggingHandler(\n",
                "            logging_config_data, file_sys_handler),\n",
                "        infy_dpp_sdk.common.Constants.FSLH_DPP)"
            ]
        },
        {
            "cell_type": "code",
            "execution_count": null,
            "id": "6474f1af-c35b-4f0e-aa3a-e1191f327e42",
            "metadata": {},
            "outputs": [],
            "source": [
                "dpp_orchestrator = infy_dpp_sdk.orchestrator.OrchestratorNativeBasic(\n",
                "        input_config_file_path=INDEX_INPUT_CONFIG_FILE_PATH)"
            ]
        },
        {
            "cell_type": "markdown",
            "id": "8f63f795-3680-4d17-9f68-8137442b8558",
            "metadata": {},
            "source": [
                "> Please ignore `No module named 'torch'` warning"
            ]
        },
        {
            "cell_type": "code",
            "execution_count": null,
            "id": "ba797b31-50a0-48cf-9886-745d10ce098c",
            "metadata": {},
            "outputs": [],
            "source": [
                "processor_response_list = dpp_orchestrator.run_batch()"
            ]
        },
        {
            "cell_type": "code",
            "execution_count": null,
            "id": "c4673c84-fd64-4348-807c-fada45bf90b8",
            "metadata": {},
            "outputs": [],
            "source": [
                "print(json.dumps(processor_response_list[0].context_data.get('request_closer'),indent=4))"
            ]
        },
        {
            "cell_type": "markdown",
            "id": "2b8a9cd5-2985-486f-a3e7-543160a92f8c",
            "metadata": {},
            "source": [
                "> Note: `document_data.json` file is in `output_folder_path` and `processor_response_data.json` file in `work_folder_path`"
            ]
        },
        {
            "cell_type": "code",
            "execution_count": null,
            "id": "f04d6b51-1588-4d71-a1b3-5ea0780c2a8a",
            "metadata": {},
            "outputs": [],
            "source": [
                "print(\"Please note down the 'group_request_file', this will be needed in other usecases: \")\n",
                "print(json.dumps(processor_response_list[0].context_data.get(\"request_creator\"),indent=4))"
            ]
        }
    ],
    "metadata": {
        "kernelspec": {
            "display_name": "Python 3 (ipykernel)",
            "language": "python",
            "name": "python3"
        },
        "language_info": {
            "codemirror_mode": {
                "name": "ipython",
                "version": 3
            },
            "file_extension": ".py",
            "mimetype": "text/x-python",
            "name": "python",
            "nbconvert_exporter": "python",
            "pygments_lexer": "ipython3",
            "version": "3.11.2"
        }
    },
    "nbformat": 4,
    "nbformat_minor": 5
}