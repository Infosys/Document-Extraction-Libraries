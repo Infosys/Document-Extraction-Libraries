{
    "cells": [
        {
            "cell_type": "code",
            "execution_count": null,
            "id": "203cfd98-8dfe-4a85-9142-44e0b5f1b3ad",
            "metadata": {},
            "outputs": [],
            "source": [
                "# ===============================================================================================================#\n",
                "# Copyright 2023 Infosys Ltd.                                                                          #\n",
                "# Use of this source code is governed by Apache License Version 2.0 that can be found in the LICENSE file or at  #\n",
                "# http://www.apache.org/licenses/                                                                                #\n",
                "# ===============================================================================================================#"
            ]
        },
        {
            "cell_type": "markdown",
            "id": "56f5d890-a8e1-4e36-9b6e-90ad42623277",
            "metadata": {},
            "source": [
                "## Change History"
            ]
        },
        {
            "cell_type": "markdown",
   "id": "65d4bc3d-1b53-44ed-af1b-eef06dad1241",
   "metadata": {
    "tags": []
   },
   "source": [
    "### 2024-10-15:\n",
    "- Llama-3.1-70B model support added for inferencing\n",
    "<hr>"
   ]
  },
  {
   "cell_type": "markdown",
   "id": "1bf7e583-bff7-47bd-82e7-fb964c0c0d6a",
   "metadata": {},
   "source": [
    "### 2024-10-04:\n",
    "- `tool_06_hybrid_search.ipynb`(NEW)   \n",
    "    Demonstrates hybrid search capabilities.\n",
    "- Table detection and extraction feature for pdf and image input(.tiff, .jpg, .png) in indexing pipeline added.\n",
    "- Bug fix for pdf_plumber table extraction.\n",
    "- Added support of index_id while indexing & new chunking technique i.e.page_and_segment_type .\n",
    "- Added support for scanned pdf in content extraction.\n",
    "<hr>"
   ]
  },
  {
   "cell_type": "markdown",
   "id": "0f99fe1b-5d71-464f-999c-146e2302f395",
            "metadata": {
                "tags": []
            },
            "source": [
                "### 2024-07-19:\n",
                "- `tool_05_embedding_clusters.ipynb`(NEW)  \n",
                "    Allows to experiment with embeddings and their clusters.\n",
                "<hr>"
            ]
        },
        {
            "cell_type": "markdown",
            "id": "f719642d-1666-4070-adcc-00e46b1bad62",
            "metadata": {},
            "source": [
                "### 2024-06-14:\n",
                "- `tool_03_prompt_engineering.ipynb`(NEW)   \n",
                "    Allow to test different prompts templates with the provided question and context on LLM \n",
                "- Features in libraries:\n",
                "     - Made changes to the different techniques used to generate segments to be able to run in parallel.\n",
                "    - Merged chunk_parser and chunk_saver to chunk_generator.\n",
                "    - Made changes to new chunk_generator to save the resources inside vectordb folder.\n",
                "    - Renamed paragraph chunking to segment chunking. Avaliable chunking methods are page and segments based.\n",
                "    - Made changes to Reader processor:\n",
                "      - added retry logic for LLM calls if response format is not as expected (up to a configurable max value)\n",
                "      - added option to consider a subset of top_k values from retriever while building the context\n",
                "    - Custom embedding support added.\n",
                "<hr>"
            ]
        },
        {
            "cell_type": "markdown",
            "id": "07f2ff94-7e66-442f-9eaf-aec31d70e4d2",
            "metadata": {},
            "source": [
                "### 2024-05-13:\n",
                "- `tool_01_qna.ipynb`(MODIFIED)   \n",
                "   Allow document name as filter to query and get answer from only filtered document, if filter is provided.\n",
                "- `tool_02_semantic_search.ipynb`(NEW)  \n",
                "   Demonstrate the applicability of uc_51_inferencing_online.ipynb via interactive UI.\n",
                "- Bug fix for kernel issue.\n",
                "- Vectordb file type changed.\n",
                "- Support for chat models `gpt-4` and `gpt-4-32k`\n",
                "<hr>"
            ]
        },
        {
            "cell_type": "markdown",
            "id": "4fa305ec-f241-41ee-9ee2-43731d2327fc",
            "metadata": {},
            "source": [
                "### 2024-03-21:\n",
                "- `tool_01_qna.ipynb`(MODIFIED)   \n",
                "   Includes interactive Q&A, on native pdf containing image having text within.\n",
                "<hr>"
            ]
        },
        {
            "cell_type": "markdown",
            "id": "60f1f0d0-91f4-4f3b-a54a-711f634cf1fd",
            "metadata": {},
            "source": [
                "### 2024-03-21:\n",
                "- `article_01_segmentation_visualized.ipynb` (ADDED)  \n",
                "   Demonstrate the segmentation and chunking process.\n",
                "- `uc_01_image_chunk_creation.ipynb` (REMOVED)\n",
                "- `uc_02_image_chunk_creation.ipynb` (REMOVED) \n",
                "- `tool_01_qna.ipynb`(MODIFIED)   \n",
                "   Includes interactive Q&A, on native pdf containing table within it.  <hr>"
            ]
        },
        {
            "cell_type": "markdown",
            "id": "48ca8a54-8b20-4f13-9794-3e533c3df4be",
            "metadata": {},
            "source": [
                "### 2024-03-14:\n",
                "\n",
                "#### `uc_30.1_image_indexing_vectordb.ipynb`  (REMOVED)\n",
                "\n",
                "#### Environment varaiable usage in config file (New Feature)\n",
                "A new feature has been added that allows the use of environment variables in config files. This feature can be used to store confidential values locally, such as keys and server URLs, in environment variables for added security.\n",
                "- `installation.ipynb`(MODIFIED)\n",
                "- `tool_01_qna.ipynb` (MODIFIED)\n",
                "- `uc_30_indexing_vectordb.ipynb` (MODIFIED)\n",
                "- `uc_31_indexing_graphdb.ipynb` (MODIFIED)\n",
                "- `uc_40_retrieval_batch.ipynb` (MODIFIED)\n",
                "- `uc_40.1_retrieval_custom.ipynb`(MODIFIED)\n",
                "- `uc_41_retrieval_online.ipynb`(MODIFIED)\n",
                "- `uc_50_inferencing_batch.ipynb`(MODIFIED)\n",
                "- `uc_51_inferencing_online.ipynb`(MODIFIED)\n",
                "\n",
                "<hr/>"
            ]
        },
        {
            "cell_type": "markdown",
            "id": "a5210577-06a4-4ce2-bac4-990805430a1e",
            "metadata": {},
            "source": [
                "### 2024-03-07:\n",
                "\n",
                "#### `Tool 01 - Q&A (Interactive)`  (ADDED)\n",
                "Demonstrate interactive Q&A.\n",
                "#### `uc_51_inferencing_online.ipynb`  (ADDED)\n",
                "Demonstrate the ability to do Q&A without any dependency on request files and data files.\n",
                "#### `uc_41_retrieval_online.ipynb`  (ADDED)\n",
                "Demonstrate the ability to retrieve top_k results without any dependency on request files and data files.\n",
                "#### `uc_30.1_image_indexing_vectordb.ipynb`  (ADDED)\n",
                "Demonstrate the indexing pipeline on image file and use of infy_ocr_engine_provider technique for image file.\n",
                "####  `uc_30_indexing_vectordb.ipynb`  (MODIFED)\n",
                "Demonstrate pdf and image file document indexing into a vector db.\n",
                "#### Renamed use cases\n",
                "`uc_50_inferencing.ipynb` -> `uc_50_inferencing_batch.ipynb`\n",
                "\n",
                "`uc_40_retrieval.ipynb` -> `uc_40_retrieval_batch.ipynb`\n",
                "\n",
                "<hr/>"
            ]
        },
        {
            "cell_type": "markdown",
            "id": "266fca9e-a904-49e2-9928-fc0e5201b700",
            "metadata": {},
            "source": [
                "### 2024-02-23:\n",
                "\n",
                "#### `uc_31_indexing_graphdb.ipynb`  (ADDED)\n",
                "Demonstrate how unstructured data from text or pdf file can be visualized in Neo4j graph db.\n",
                "After the document indexing to vectordb and extracting attributes from vectordb it uses \n",
                "extracted attribute json along with the schema file and create cypher query then this query is executed in Neo4j to show relationship between attributes in graph db.\n",
                "\n",
                "####  `uc_30_indexing_vectordb.ipynb`  (ADDED)\n",
                "Demonstrate document indexing into vectordb as embeddings.\n",
                "This allow to store multiple document into one vectordb if in `dpp_pipeline_index_input_config.json` \"db_name\": \"documents\" as well as document wise embedding storage if \"db_name\": null\n",
                "\n",
                "#### `uc_40_retrieval.ipynb`  (ADDED)\n",
                "Demonstrate searching from vectordb, if the query is provided in config it will return the best possible matching chunks in which answer is expected based on similarity search.\n",
                "\n",
                "#### `uc_50_inferencing.ipynb`  (ADDED)\n",
                "Demonstrate Q&A feature, for the provided query LLM gives answer from the provided chunks to it.\n",
                "\n",
                "#### `installation.ipynb`  (ADDED)\n",
                "Run to install packages and copy program files before running use cases.\n",
                "\n",
                "#### Renamed use cases\n",
                "`uc_30_indexing.ipynb` ->  `uc_30_indexing_vectordb.ipynb`\n",
                "\n",
                "`uc_32_retrieval.ipynb` ->  `uc_40_retrieval.ipynb`\n",
                "\n",
                "`uc_32.1_retrieval.ipynb` -> ` uc_40.1_retrieval_custom.ipynb`\n",
                "\n",
                "`uc_31_inferencing.ipynb` -> `uc_50_inferencing.ipynb`"
            ]
        },
        {
            "cell_type": "markdown",
            "id": "60af428b-317f-4766-9053-d991fd7e56de",
            "metadata": {},
            "source": [
                "# 1. About Libraries"
            ]
        },
        {
            "cell_type": "markdown",
            "id": "d254f1f0-419e-42ee-8adb-f92d76d34b72",
            "metadata": {
                "tags": []
            },
            "source": [
                " - ##### `infy_dpp_core` consists of RequestCreator, metadata_extractor, document_data_saver, request_closer , document_data_updater\n",
                "- ##### `infy_dpp_segmentation` consists of segment_generator, segment_parser, chunk_generator, chunk_saver\n",
                "- ##### `infy_dpp_sdk` library is used as a dpp framework to create uniform input/output structure\n",
                "\n",
                "If you want to install all dependancies of segmentation, please install as followed.\n",
                "\n",
                "   > `pip install ./lib/infy_dpp_segmentation-0.0.1-py3-none-any.whl['all']`\n",
                "\n",
                "If you want to install for any specific library like segment-generator and segment-parser please follow below respectively\n",
                "   > `pip install ./lib/infy_dpp_segmentation-0.0.1-py3-none-any.whl['segment-generator']`\n",
                "   \n",
                "   > Download and install `pip install ./lib/detectron2-0.5+cpu-cp38-cp38-linux_x86_64.whl` from https://dl.fbaipublicfiles.com/detectron2/wheels/cpu/torch1.9/index.html (It's supported only in linux environment.)\n",
                "   \n",
                "   > `pip install ./lib/infy_dpp_segmentation-0.0.1-py3-none-any.whl['segment-parser']`"
            ]
        },
        {
            "cell_type": "markdown",
            "id": "1d64cf21-fc7c-42f0-b63d-adba23bea753",
            "metadata": {},
            "source": [
                "# 2. Processor Configurations"
            ]
        },
        {
            "cell_type": "markdown",
            "id": "4a614fc2-5808-403e-a37f-0236a8b8d499",
            "metadata": {},
            "source": [
                "##### Please make sure to configure the `pipeline_input_config.json`.\n",
                "> 1.`RequestCreator` - `read_path` is the relative path from where processor fetches the input docs.\n",
                "\n",
                "> 2.`RequestCloser` - `output_root_path` is the relative path where processor generates the output.\n",
                "\n",
                "> 3.`SegmentGenerator` - \n",
                "\n",
                "   > `a.` Make sure textproviders properties are configured properly. Its used for extracting text from input documents.\n",
                "   \n",
                "   > `b.` To detect the segment using detectron download the model from - configure model path and config file path accordingly. (This works only in linux env)\n",
                "   \n",
                "   > github-link - https://github.com/ibm-aur-nlp/PubLayNet/tree/master/pre-trained-models\n",
                "   \n",
                "   > model-path - https://dax-cdn.cdn.appdomain.cloud/dax-publaynet/1.0.0/pre-trained-models/Mask-RCNN/model_final.pkl\n",
                "   \n",
                "   > config-path - https://github.com/ibm-aur-nlp/PubLayNet/blob/master/pre-trained-models/Mask-RCNN/e2e_mask_rcnn_X-101-64x4d-FPN_1x.yaml\n",
                "   \n",
                "   > `c.` Activate the techniques based on the file type, text providers and model providers \n",
                "   \n",
                "> `4.Segment Parser` - Provide layout and enable the pattern.\n",
                "\n",
                "> `5.ChunkDataParser` - Provide type of chunk like `page`, `paragraph`. Also you can limit pages using `page_num` property.\n",
                "\n",
                "> `6.SaveChunkDataParser` - provide the root path to save the chunks and its meta data in text file format."
            ]
        },
        {
            "cell_type": "markdown",
            "id": "51b1b35e-8478-4a67-8e2e-d0587174b4ec",
            "metadata": {},
            "source": [
                "## 2a. RequestCreator"
            ]
        },
        {
            "cell_type": "markdown",
            "id": "8ae1c63e-7ff7-4467-be1e-a9c44ef49920",
            "metadata": {},
            "source": [
                "```json\n",
                "{\n",
                "    \"read_path\": \"/input/\",\n",
                "    \"batch_size\": 20,\n",
                "    \"filter\": {\n",
                "        \"include\": [\n",
                "            \"jpg\",\n",
                "            \"json\"\n",
                "        ],\n",
                "        \"exclude\": [\n",
                "            \"_\"\n",
                "        ]\n",
                "    },\n",
                "    \"work_root_path\": \"/work/\",\n",
                "    \"queue\": {\n",
                "        \"enabled\": true,\n",
                "        \"queue_root_path\": \"/work/queue/\"\n",
                "    }\n",
                "}\n",
                "```"
            ]
        },
        {
            "cell_type": "markdown",
            "id": "ff223425-7506-4e2b-9ef3-5351626a1e4c",
            "metadata": {},
            "source": [
                "##### `read_path`: its the relative path from where processor fetches documents\n",
                "##### `batch_size`: Here we can define how many files can be taken at a time for processing\n",
                "##### `filter`: we can mention which documents need to include and exclude.\n",
                "##### `work_root_path`: where all the internal files will be there"
            ]
        },
        {
            "cell_type": "markdown",
            "id": "0cb3aca0-3ad5-4366-b093-23bb48c356fc",
            "metadata": {},
            "source": [
                "## 2b. RequestCloser"
            ]
        },
        {
            "cell_type": "markdown",
            "id": "bdae1391-4e70-436c-a261-83ea5e04b472",
            "metadata": {},
            "source": [
                "```json\n",
                "{\n",
                "    \"queue\": {\n",
                "        \"enabled\": true,\n",
                "        \"queue_root_path\": \"/work/queue/\"\n",
                "    },\n",
                "    \"work_root_path\": \"/work/\",\n",
                "    \"output_root_path\": \"/output/\"\n",
                "}\n",
                "```"
            ]
        },
        {
            "cell_type": "markdown",
            "id": "59f2fab4-8945-4183-a318-674ce50dd134",
            "metadata": {},
            "source": [
                "##### `work_root_path`: This path should be same as `ReuestCreator`\n",
                "##### `output_root_path`: Output root path should be defined"
            ]
        },
        {
            "cell_type": "markdown",
            "id": "15fb83a9-cc85-4996-86d5-3433543c1be8",
            "metadata": {},
            "source": [
                "## 2c. SegmentGenerator"
            ]
        },
        {
            "cell_type": "markdown",
            "id": "fa0fbcfa-9f05-45ec-929c-8bc298641797",
            "metadata": {},
            "source": [
                "```json\n",
                "{\n",
                "    \"textProviders\": [\n",
                "        {\n",
                "            \"provider_name\": \"tesseract_ocr_provider\",\n",
                "            \"properties\": {\n",
                "                \"tesseract_path\": \"\"\n",
                "            }\n",
                "        },\n",
                "        {\n",
                "            \"provider_name\": \"azure_read_ocr_provider\",\n",
                "            \"properties\": {\n",
                "                \"subscription_key\": \"\",\n",
                "                \"url\": \"\"\n",
                "            }\n",
                "        },\n",
                "        {\n",
                "            \"provider_name\": \"pdf_box_text_provider\",\n",
                "            \"properties\": {}\n",
                "        },\n",
                "        {\n",
                "            \"provider_name\": \"json_provider\",\n",
                "            \"properties\": {\n",
                "                \"template1_file_path\": \"/data/config/templates/email_template.txt\"\n",
                "            }\n",
                "        }\n",
                "    ],\n",
                "    \"modelProviders\": [\n",
                "        {\n",
                "            \"provider_name\": \"detectron\",\n",
                "            \"properties\": {\n",
                "                \"model_path\": \"\",\n",
                "                \"config_file_path\": \"\",\n",
                "                \"model_threshold\": 0.8\n",
                "            }\n",
                "        }\n",
                "    ],\n",
                "    \"techniques\": [\n",
                "        {\n",
                "            \"enabled\": false,\n",
                "            \"name\": \"technique1\",\n",
                "            \"input_file_type\": \"image\",\n",
                "            \"text_provider_name\": \"tesseract_ocr_provider\",\n",
                "            \"model_provider_name\": \"detectron\"\n",
                "        },\n",
                "        {\n",
                "            \"enabled\": false,\n",
                "            \"name\": \"technique2\",\n",
                "            \"input_file_type\": \"image\",\n",
                "            \"text_provider_name\": \"azure_read_ocr_provider\",\n",
                "            \"model_provider_name\": \"detectron\"\n",
                "        },\n",
                "        {\n",
                "            \"enabled\": false,\n",
                "            \"name\": \"technique3\",\n",
                "            \"input_file_type\": \"pdf\",\n",
                "            \"text_provider_name\": \"pdf_box_text_provider\",\n",
                "            \"model_provider_name\": null\n",
                "        },\n",
                "        {\n",
                "            \"enabled\": false,\n",
                "            \"name\": \"technique4\",\n",
                "            \"input_file_type\": \"pdf\",\n",
                "            \"text_provider_name\": \"pdf_box_text_provider\",\n",
                "            \"model_provider_name\": \"detectron\"\n",
                "        },\n",
                "        {\n",
                "            \"enabled\": false,\n",
                "            \"name\": \"technique5\",\n",
                "            \"input_file_type\": \"json\",\n",
                "            \"text_provider_name\": \"json_provider\",\n",
                "            \"model_provider_name\": null\n",
                "        },\n",
                "        {\n",
                "            \"enabled\": true,\n",
                "            \"name\": \"technique6\",\n",
                "            \"input_file_type\": \"image\",\n",
                "            \"text_provider_name\": \"azure_read_ocr_provider\",\n",
                "            \"model_provider_name\": null\n",
                "        }\n",
                "    ]\n",
                "}\n",
                "```"
            ]
        },
        {
            "cell_type": "markdown",
            "id": "691a2d42-5146-4e73-a6b3-e2d724bc131e",
            "metadata": {},
            "source": [
                "##### `textProviders`: Here provide the supported text providers and their properties\n",
                "##### `modelProviders`: Need to provide model details in list if used\n",
                "##### `techniques`: Need to enable which combination of text providers and model providers to used."
            ]
        },
        {
            "cell_type": "markdown",
            "id": "331f5249-c94d-40d1-8779-e1f3814af502",
            "metadata": {},
            "source": [
                "## 2d. SegmentDataParser"
            ]
        },
        {
            "cell_type": "markdown",
            "id": "0ed35171-cac8-4bfa-82ac-3941f6ddfb88",
            "metadata": {},
            "source": [
                "```json\n",
                "{\n",
                "    \"layout\": {\n",
                "        \"single-column\": {\n",
                "            \"enabled\": true\n",
                "        },\n",
                "        \"multi-column\": {\n",
                "            \"enabled\": false\n",
                "        }\n",
                "    },\n",
                "    \"pattern\": {\n",
                "        \"sequence-order\": {\n",
                "            \"enabled\": true\n",
                "        },\n",
                "        \"left-right\": {\n",
                "            \"enabled\": false\n",
                "        },\n",
                "        \"zig-zag\": {\n",
                "            \"enabled\": false\n",
                "        }\n",
                "    }\n",
                "}\n",
                "```"
            ]
        },
        {
            "cell_type": "markdown",
            "id": "8d830b69-07cb-4885-a9c9-339e374baf7a",
            "metadata": {},
            "source": [
                "##### `layout`: Here need to mention document column type\n",
                "##### `pattern`: Its the reading techniue from documents like top to bottom, left to right or zig zag."
            ]
        },
        {
            "cell_type": "markdown",
            "id": "75bb5052-9ba8-4e8b-8631-6af8eb991ad2",
            "metadata": {},
            "source": [
                "## 2e. ChunkDataParser"
            ]
        },
        {
            "cell_type": "code",
            "execution_count": null,
            "id": "e4a75096-22b3-4413-a2c5-0d22353455e8",
            "metadata": {},
            "outputs": [],
            "source": [
                "{\n",
                "    \"chunking_method\": \"page\",\n",
                "    \"merge_title_paragraph\": false,\n",
                "    \"page_num\": [\n",
                "        \"1:10\"\n",
                "    ],\n",
                "    \"exclude\": [\n",
                "        \"table\",\n",
                "        \"figure\"\n",
                "    ]\n",
                "}"
            ]
        },
        {
            "cell_type": "markdown",
            "id": "d0017f16-61d1-4718-9830-1e8ea26be97e",
            "metadata": {},
            "source": [
                "##### `chunking_method`: Chunk will be paragraph or page level\n",
                "##### `page_num`: Mention the to be extracted Page number\n",
                "##### `exclude`: Need to mention which type of content type you need to exclude. Note: it works only with `detectron` model provider as of now. "
            ]
        },
        {
            "cell_type": "markdown",
            "id": "27950fa0-4167-481f-9434-84a34df4d254",
            "metadata": {},
            "source": [
                "## 2f. SaveChunkDataParser"
            ]
        },
        {
            "cell_type": "markdown",
            "id": "79255c73-ae4f-4f9e-9620-108eefac60ad",
            "metadata": {},
            "source": [
                "```json\n",
                "{\n",
                "    \"chunked_files_root_path\": \"/chunked\"\n",
                "}\n",
                "```"
            ]
        },
        {
            "cell_type": "markdown",
            "id": "fb247791-4af7-449a-adad-8cfda39b5873",
            "metadata": {},
            "source": [
                "##### `chunked_files_root_path`: Mention where you want to save chunked data and its repective metadata"
            ]
        },
        {
            "cell_type": "markdown",
            "id": "ecb8630c-013c-4e9c-ad5f-d713e6ddc28d",
            "metadata": {},
            "source": [
                "## 3. File System"
            ]
        },
        {
            "attachments": {
                "ed08c221-26ad-4194-85c7-752e3a7c949d.jpg": {
                    "image/jpeg": "[encoded data removed]"
                }
            },
            "cell_type": "markdown",
            "id": "505e4da8-5c52-4a6d-985f-3f8d2f65da97",
            "metadata": {},
            "source": [
                "![processor_file_system.jpg](attachment:ed08c221-26ad-4194-85c7-752e3a7c949d.jpg)"
            ]
        }
    ],
    "metadata": {
        "kernelspec": {
            "display_name": "Python 3 (ipykernel)",
            "language": "python",
            "name": "python3"
        },
        "language_info": {
            "codemirror_mode": {
                "name": "ipython",
                "version": 3
            },
            "file_extension": ".py",
            "mimetype": "text/x-python",
            "name": "python",
            "nbconvert_exporter": "python",
            "pygments_lexer": "ipython3",
            "version": "3.11.2"
        }
    },
    "nbformat": 4,
    "nbformat_minor": 5
}