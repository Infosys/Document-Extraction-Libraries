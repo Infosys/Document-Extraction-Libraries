{
    "cells": [
        {
            "cell_type": "code",
            "execution_count": null,
            "id": "203cfd98-8dfe-4a85-9142-44e0b5f1b3ad",
            "metadata": {},
            "outputs": [],
            "source": [
                "# ===============================================================================================================#\n",
                "# Copyright 2023 Infosys Ltd.                                                                                    #\n",
                "# Use of this source code is governed by Apache License Version 2.0 that can be found in the LICENSE file or at  #\n",
                "# http://www.apache.org/licenses/                                                                                #\n",
                "# ===============================================================================================================#"
            ]
        },
        {
            "cell_type": "markdown",
            "id": "1a8989d2-a0b6-4005-a596-04db7f7da67d",
            "metadata": {},
            "source": [
                "# 1. Installation"
            ]
        },
        {
            "cell_type": "markdown",
            "id": "1299858e-c694-4dad-95d8-af6084ffe163",
            "metadata": {},
            "source": [
                "#### 1.1. Install required libraries (python >3.8.3)"
            ]
        },
        {
            "cell_type": "code",
            "execution_count": null,
            "id": "664def13-534a-42ef-9450-9d53c16d640e",
            "metadata": {},
            "outputs": [],
            "source": [
                "!python.exe -m pip install --upgrade pip"
            ]
        },
        {
            "cell_type": "code",
            "execution_count": null,
            "id": "af3c7443-b396-48b5-9f77-94b50422116f",
            "metadata": {},
            "outputs": [],
            "source": [
                "!pip install ../../../lib/infy_fs_utils-0.0.2-py3-none-any.whl\n",
                "!pip install ../../../lib/infy_gen_ai_sdk-0.0.2-py3-none-any.whl\n",
                "\n",
                "!pip install ../../../lib/infy_common_utils-0.0.9-py3-none-any.whl\n",
                "!pip install ../../../lib/infy_ocr_generator-0.0.12-py3-none-any.whl[tesseract]\n",
                "!pip install ../../../lib/infy_ocr_parser-0.0.16-py3-none-any.whl\n",
                "\n",
                "!pip install ../../../lib/infy_dpp_sdk-0.0.8-py3-none-any.whl\n",
                "!pip install ../../../lib/infy_dpp_core-0.0.2-py3-none-any.whl[document-data-updater]\n",
                "!pip install ../../../lib/infy_dpp_segmentation-0.0.2-py3-none-any.whl\n",
                "!pip install ../../../lib/infy_dpp_ai-0.0.1-py3-none-any.whl"
            ]
        },
        {
            "cell_type": "markdown",
            "id": "7193e4eb-4451-4656-b336-b898ccd1c2e8",
            "metadata": {},
            "source": [
                "#### 1.2. Copy program files"
            ]
        },
        {
            "cell_type": "code",
            "execution_count": null,
            "id": "e07c8304-ee53-4fe7-8742-efae953a0b57",
            "metadata": {},
            "outputs": [],
            "source": [
                "import shutil\n",
                "import os\n",
                "folder_path=\"C:/MyProgramFiles/InfyFormatConverter\"\n",
                "file_name=\"infy-format-converter-0.0.13.jar\"\n",
                "os.mkdir(folder_path)\n",
                "shutil.copy( f\"../../../lib/{file_name}\",\n",
                "            f\"{folder_path}/{file_name}\")"
            ]
        }
    ],
    "metadata": {
        "kernelspec": {
            "display_name": "Python 3 (ipykernel)",
            "language": "python",
            "name": "python3"
        },
        "language_info": {
            "codemirror_mode": {
                "name": "ipython",
                "version": 3
            },
            "file_extension": ".py",
            "mimetype": "text/x-python",
            "name": "python",
            "nbconvert_exporter": "python",
            "pygments_lexer": "ipython3",
            "version": "3.11.2"
        }
    },
    "nbformat": 4,
    "nbformat_minor": 5
}