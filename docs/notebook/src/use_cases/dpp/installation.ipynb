{
    "cells": [
        {
            "cell_type": "code",
            "execution_count": null,
            "id": "203cfd98-8dfe-4a85-9142-44e0b5f1b3ad",
            "metadata": {
                "tags": []
            },
            "outputs": [],
            "source": [
                "# ===============================================================================================================#\n",
                "# Copyright 2023 Infosys Ltd.                                                                          #\n",
                "# Use of this source code is governed by Apache License Version 2.0 that can be found in the LICENSE file or at  #\n",
                "# http://www.apache.org/licenses/                                                                                #\n",
                "# ===============================================================================================================#"
            ]
        },
        {
            "cell_type": "code",
            "execution_count": null,
            "id": "a46f6c92-fad6-4b9c-a2d1-c30af76dd2c8",
            "metadata": {
                "tags": []
            },
            "outputs": [],
            "source": [
                "import os\n",
                "from IPython.display import display, Markdown"
            ]
        },
        {
            "cell_type": "markdown",
            "id": "1a8989d2-a0b6-4005-a596-04db7f7da67d",
            "metadata": {
                "tags": []
            },
            "source": [
                "# Pre-requisites"
            ]
        },
        {
            "cell_type": "markdown",
            "id": "da57ad41-e212-4c4e-838d-6352dbd99bec",
            "metadata": {},
            "source": [
                "- Python >3.10.5\n",
                "- Java Adopt Open JDK version 8 or higher\n",
                "- Apache Maven >= 3.8 \n",
                "- Tesseract >= 5.0(Optional)\n",
                "- Neo4j >= 5.17.0(Optional)\n",
                "    1. This graph database management system is required to run `uc_31_indexing_graphdb.ipynb`"
            ]
        },
        {
            "cell_type": "markdown",
            "id": "fd452be7-7e32-43ce-bb74-ea4a819afa84",
            "metadata": {
                "tags": []
            },
            "source": [
                "# 1. Installation"
            ]
        },
        {
            "cell_type": "markdown",
            "id": "1299858e-c694-4dad-95d8-af6084ffe163",
            "metadata": {},
            "source": [
                "#### 1.1. Install required libraries (python >3.10.5)"
            ]
        },
        {
            "cell_type": "code",
            "execution_count": null,
            "id": "664def13-534a-42ef-9450-9d53c16d640e",
            "metadata": {
                "tags": []
            },
            "outputs": [],
            "source": [
                "!python.exe -m pip install --upgrade pip"
            ]
        },
        {
            "cell_type": "code",
            "execution_count": null,
            "id": "af3c7443-b396-48b5-9f77-94b50422116f",
            "metadata": {
                "tags": []
            },
            "outputs": [],
            "source": [
                "!pip install --upgrade ../../../lib/infy_fs_utils-0.0.5-py3-none-any.whl\n",
                "!pip install --upgrade ../../../lib/infy_gen_ai_sdk-0.0.8-py3-none-any.whl\n",
                "!pip install --upgrade ../../../lib/infy_common_utils-0.0.10-py3-none-any.whl\n",
                "!pip install --upgrade ../../../lib/infy_ocr_generator-0.0.13-py3-none-any.whl[tesseract]\n",
                "!pip install --upgrade ../../../lib/infy_ocr_parser-0.0.17-py3-none-any.whl\n",
                "!pip install --upgrade ../../../lib/infy_table_extractor-0.0.12-py3-none-any.whl\n",
                "!pip install --upgrade ../../../lib/infy_content_generator-0.0.1-py3-none-any.whl\n",
                "\n",
                "!pip install --upgrade ../../../lib/infy_dpp_sdk-0.0.11-py3-none-any.whl\n",
                "!pip install --upgrade ../../../lib/infy_dpp_core-0.0.6-py3-none-any.whl\n",
                "!pip install --upgrade ../../../lib/infy_dpp_content_extractor-0.0.5-py3-none-any.whl\n",
                "!pip install --upgrade ../../../lib/infy_dpp_segmentation-0.0.9-py3-none-any.whl\n",
                "!pip install --upgrade ../../../lib/infy_dpp_ai-0.0.6-py3-none-any.whl\n",
                "!pip install --upgrade ../../../lib/infy_dpp_storage-0.0.2-py3-none-any.whl\n",
                "\n",
                "!pip install --upgrade ../../../lib/infy_model_evaluation-0.0.4-py3-none-any.whl\n",
                "!pip install --upgrade ../../../lib/infy_dpp_evaluator-0.0.3-py3-none-any.whl\n",
                "!pip install --upgrade ../../../lib/infy_dpp_content_generator-0.0.1-py3-none-any.whl\n",
                "!pip install --upgrade ../../../lib/infy_field_extractor-0.0.13-py3-none-any.whl\n",
                "!pip install --upgrade ../../../lib/infy_object_detector-0.0.2-py3-none-any.whl\n",
                "\n",
                "!echo \"Installation complete\""
            ]
        },
        {
            "cell_type": "markdown",
            "id": "16ebe481",
            "metadata": {
                "tags": []
            },
            "source": [
                "# 2. Setup"
            ]
        },
        {
            "cell_type": "markdown",
            "id": "04bf6d53-6d9b-48bc-a2a8-8a9d3f31a0d7",
            "metadata": {
                "tags": []
            },
            "source": [
                "#### 2.1.1 Environment Variable Setup\n",
                "<div style=\"line-height: 1;\">\n",
                "<span style=\"color:Blue\"> <b>NOTE: </b>Check if you have set necessary environment values in your system, as mentioned during `Environment Variable Setup` section.\n",
                "</span></div>"
            ]
        },
        {
            "cell_type": "code",
            "execution_count": null,
            "id": "588c6d30",
            "metadata": {
                "tags": []
            },
            "outputs": [],
            "source": [
                "# Get environment variables\n",
                "AZURE_OPENAI_SERVER_BASE_URL = os.environ.get(\"AZURE_OPENAI_SERVER_BASE_URL\")\n",
                "AZURE_OPENAI_SECRET_KEY = os.environ.get(\"AZURE_OPENAI_SECRET_KEY\")\n",
                "LITELLM_PROXY_SERVER_BASE_URL = os.environ.get(\"LITELLM_PROXY_SERVER_BASE_URL\")\n",
                "LITELLM_PROXY_SECRET_KEY = os.environ.get(\"LITELLM_PROXY_SECRET_KEY\")\n",
                "INFY_DB_SERVICE_BASE_URL = os.environ.get(\"INFY_DB_SERVICE_BASE_URL\")\n",
                "INFY_MODEL_SERVICE_BASE_URL = os.environ.get(\"INFY_MODEL_SERVICE_BASE_URL\")\n",
                "INFY_RESOURCE_SERVICE_BASE_URL = os.environ.get(\"INFY_RESOURCE_SERVICE_BASE_URL\")\n",
                "INFY_SEARCH_SERVICE_BASE_URL = os.environ.get(\"INFY_SEARCH_SERVICE_BASE_URL\")\n",
                "NEO4J_URL = os.environ.get(\"NEO4J_URL\")\n",
                "NEO4J_USR_NAME = os.environ.get(\"NEO4J_USR_NAME\")\n",
                "NEO4J_PWD = os.environ.get(\"NEO4J_USR_NAME\")\n",
                "\n",
                "# Print environment variables\n",
                "print(f\"AZURE_OPENAI_SERVER_BASE_URL: {AZURE_OPENAI_SERVER_BASE_URL}\")\n",
                "print(f\"AZURE_OPENAI_SECRET_KEY: {AZURE_OPENAI_SECRET_KEY}\")\n",
                "print(f\"LITELLM_PROXY_SERVER_BASE_URL: {LITELLM_PROXY_SERVER_BASE_URL}\")\n",
                "print(f\"LITELLM_PROXY_SECRET_KEY: {LITELLM_PROXY_SECRET_KEY}\")\n",
                "print(f\"INFY_DB_SERVICE_BASE_URL: {INFY_DB_SERVICE_BASE_URL}\")\n",
                "print(f\"INFY_MODEL_SERVICE_BASE_URL: {INFY_MODEL_SERVICE_BASE_URL}\")\n",
                "print(f\"INFY_RESOURCE_SERVICE_BASE_URL: {INFY_RESOURCE_SERVICE_BASE_URL}\")\n",
                "print(f\"INFY_SEARCH_SERVICE_BASE_URL: {INFY_SEARCH_SERVICE_BASE_URL}\")\n",
                "print(f\"NEO4J_URL: {NEO4J_URL}\")\n",
                "print(f\"NEO4J_USR_NAME: {NEO4J_USR_NAME}\")\n",
                "print(f\"NEO4J_PWD: {NEO4J_PWD}\")"
            ]
        },
        {
            "cell_type": "markdown",
            "id": "541325d4",
            "metadata": {
                "tags": []
            },
            "source": [
                "#### 2.2.1 Set the required environment variables.\n",
                "\n",
                "<div style=\"line-height: 1;\">\n",
                "<span style=\"color:Red\"> <b>Warning: </b>If you have not set the environment variables, you can set them manually in the local store by following the below steps else ignore the below steps:\n",
                "</span></div>"
            ]
        },
        {
            "cell_type": "code",
            "execution_count": null,
            "id": "2fb51b57",
            "metadata": {
                "tags": []
            },
            "outputs": [],
            "source": [
                "#Note: Kindly set either Azure Openai or Litellm Proxy Credentials based on the service you wish to use. \n",
                "#      It is mandatory to set either one of these for successfull pipeline. \n",
                "#Set Azure Openai Credentials \n",
                "AZURE_OPENAI_SERVER_BASE_URL=\"\"\n",
                "AZURE_OPENAI_SECRET_KEY=\"\"\n",
                "#Set Litellm Proxy Credentials \n",
                "LITELLM_PROXY_SERVER_BASE_URL=\"\"\n",
                "LITELLM_PROXY_SECRET_KEY=\"\"\n",
                "\n",
                "#Set DEL Services Endpoints (Mandatory if these services are enabled in the pipeline)\n",
                "INFY_DB_SERVICE_BASE_URL=\"\"\n",
                "INFY_MODEL_SERVICE_BASE_URL=\"\"\n",
                "INFY_RESOURCE_SERVICE_BASE_URL=\"\"\n",
                "INFY_SEARCH_SERVICE_BASE_URL=\"\"\n",
                "\n",
                "#Set Neo4j Credentials (Only if you wish to use graphdb pipeline i.e uc31)\n",
                "NEO4J_URL=\"\"\n",
                "NEO4J_USR_NAME=\"\"\n",
                "NEO4J_PWD=\"\"\n",
                "\n",
                "# DO NOT MODIFY BELOW LINE\n",
                "USE_LOCAL_STORE = True"
            ]
        },
        {
            "cell_type": "markdown",
            "id": "b66e2ce9",
            "metadata": {
                "tags": []
            },
            "source": [
                "#### 2.2.2 Store the above environment variables in the local store.\n",
                "<div style=\"line-height: 1;\">\n",
                "<span style=\"color:Blue\"> <b>NOTE: </b>In Windows OS the values are stored at below location.<br>\n",
                "`C:\\Users\\xxx\\.ipython\\profile_default\\db\\autorestore`\n",
                "</span></div>"
            ]
        },
        {
            "cell_type": "code",
            "execution_count": null,
            "id": "852a7fff",
            "metadata": {
                "tags": []
            },
            "outputs": [],
            "source": [
                "#Stores above values into local store.\n",
                "%store AZURE_OPENAI_SERVER_BASE_URL\n",
                "%store AZURE_OPENAI_SECRET_KEY\n",
                "%store LITELLM_PROXY_SERVER_BASE_URL\n",
                "%store LITELLM_PROXY_SECRET_KEY\n",
                "%store INFY_DB_SERVICE_BASE_URL\n",
                "%store INFY_MODEL_SERVICE_BASE_URL\n",
                "%store INFY_RESOURCE_SERVICE_BASE_URL\n",
                "%store INFY_SEARCH_SERVICE_BASE_URL\n",
                "%store NEO4J_URL\n",
                "%store NEO4J_USR_NAME\n",
                "%store NEO4J_PWD\n",
                "%store USE_LOCAL_STORE"
            ]
        },
        {
            "cell_type": "markdown",
            "id": "dfb56b0a",
            "metadata": {
                "tags": []
            },
            "source": [
                "#### 2.2.3 Retrieve already stored environment values (if they exist) from local store."
            ]
        },
        {
            "cell_type": "code",
            "execution_count": null,
            "id": "251be705-3980-4f2f-b97e-6be16d97e300",
            "metadata": {
                "tags": []
            },
            "outputs": [],
            "source": [
                "try:\n",
                "    #Retrieve values from local store.\n",
                "    %store -r AZURE_OPENAI_SERVER_BASE_URL \n",
                "    print('AZURE_OPENAI_SERVER_BASE_URL=',AZURE_OPENAI_SERVER_BASE_URL)\n",
                "    %store -r AZURE_OPENAI_SECRET_KEY\n",
                "    print('AZURE_OPENAI_SECRET_KEY=',AZURE_OPENAI_SECRET_KEY)\n",
                "    %store -r LITELLM_PROXY_SERVER_BASE_URL \n",
                "    print('LITELLM_PROXY_SERVER_BASE_URL=',LITELLM_PROXY_SERVER_BASE_URL)\n",
                "    %store -r LITELLM_PROXY_SECRET_KEY \n",
                "    print('LITELLM_PROXY_SECRET_KEY=',LITELLM_PROXY_SECRET_KEY)\n",
                "    %store -r INFY_DB_SERVICE_BASE_URL\n",
                "    print('INFY_DB_SERVICE_BASE_URL=',INFY_DB_SERVICE_BASE_URL)\n",
                "    %store -r INFY_MODEL_SERVICE_BASE_URL\n",
                "    print('INFY_MODEL_SERVICE_BASE_URL=',INFY_MODEL_SERVICE_BASE_URL)\n",
                "    %store -r INFY_RESOURCE_SERVICE_BASE_URL\n",
                "    print('INFY_RESOURCE_SERVICE_BASE_URL=',INFY_RESOURCE_SERVICE_BASE_URL)\n",
                "    %store -r INFY_SEARCH_SERVICE_BASE_URL\n",
                "    print('INFY_SEARCH_SERVICE_BASE_URL=',INFY_SEARCH_SERVICE_BASE_URL)\n",
                "    %store -r NEO4J_URL\n",
                "    print('NEO4J_URL=',NEO4J_URL)\n",
                "    %store -r NEO4J_USR_NAME\n",
                "    print('NEO4J_USR_NAME=',NEO4J_USR_NAME)\n",
                "    %store -r NEO4J_PWD\n",
                "    print('NEO4J_PWD=',NEO4J_PWD)\n",
                "    %store -r USE_LOCAL_STORE\n",
                "    print('USE_LOCAL_STORE=',USE_LOCAL_STORE)\n",
                "except:\n",
                "    DESCRIPTION=f\"\"\"<span style=\"color:red\">\n",
                "    Values are not set.\n",
                "    Please run the next few cells to enter values and store them.\n",
                "    </span>\"\"\"\n",
                "    display(Markdown(DESCRIPTION))"
            ]
        },
        {
            "cell_type": "markdown",
            "id": "a50b7c0e-1be8-45c4-ac8a-1b5dedbe31d3",
            "metadata": {
                "tags": []
            },
            "source": [
                "####  <span style=\"color:Green\">Installation and Setup Completed</span>"
            ]
        },
        {
            "cell_type": "markdown",
            "id": "f7ceff89-98d3-4f01-a598-4abf64351ed8",
            "metadata": {},
            "source": [
                "<hr/>"
            ]
        },
        {
            "cell_type": "markdown",
            "id": "f5ef4937-3028-40e2-8455-d303223c2f46",
            "metadata": {
                "tags": []
            },
            "source": [
                "# 3. Maintenance (Optional)\n",
                "<span style='color:red'><b>NOTE:</b> This section is for maintenance purpose <i>only</i> so you may skip.</span>"
            ]
        },
        {
            "cell_type": "markdown",
            "id": "dba45cd4-d377-4ad1-8e8b-53f223cff362",
            "metadata": {},
            "source": [
                "#### 3.1. Clear output from all notebook files"
            ]
        },
        {
            "cell_type": "code",
            "execution_count": null,
            "id": "a2185f36-3e65-4930-acba-1e7a4d0e3e5a",
            "metadata": {
                "tags": []
            },
            "outputs": [],
            "source": [
                "from _internal_utils.notebook_util import NotebookUtil\n",
                "\n",
                "NB_ROOT_FOLDER_PATH = '.'\n",
                "EXCLUDE_NB_FILE_LIST = ['installation.ipynb']\n",
                "NotebookUtil.clear_output(NB_ROOT_FOLDER_PATH, EXCLUDE_NB_FILE_LIST, \n",
                "                          recursive=True, dry_run_mode=False)"
            ]
        },
        {
            "cell_type": "markdown",
            "id": "c82b63f8-8289-499c-90f1-d0c71e868c09",
            "metadata": {
                "jp-MarkdownHeadingCollapsed": true,
                "tags": []
            },
            "source": [
                "#### 3.2 Uninstall libraries (Only, if required)"
            ]
        },
        {
            "cell_type": "code",
            "execution_count": null,
            "id": "5fb2eb16-2fed-4571-b7dc-5235d48a2657",
            "metadata": {
                "tags": []
            },
            "outputs": [],
            "source": [
                "# Uncomment one or more lines as per requirement to execute\n",
                "\n",
                "# !pip uninstall -y infy_fs_utils\n",
                "# !pip uninstall -y infy_gen_ai_sdk\n",
                "\n",
                "# !pip uninstall -y infy_common_utils\n",
                "# !pip uninstall -y infy_ocr_generator\n",
                "# !pip uninstall -y infy_ocr_parser\n",
                "# !pip uninstall -y infy_table_extractor\n",
                "\n",
                "# !pip uninstall -y infy_dpp_sdk\n",
                "# !pip uninstall -y infy_dpp_core\n",
                "# !pip uninstall -y infy_dpp_content_extractor\n",
                "# !pip uninstall -y infy_dpp_segmentation\n",
                "# !pip uninstall -y infy_dpp_ai\n",
                "# !pip uninstall -y infy_dpp_storage\n",
                "# !pip uninstall -y infy_model_evaluation\n",
                "# !pip uninstall -y infy_dpp_evaluator\n",
                "# !pip uninstall -y infy_field_extractor\n",
                "# !pip uninstall -y infy_object_detector\n",
                "\n",
                "# !echo \"Uninstall complete\""
            ]
        }
    ],
    "metadata": {
        "kernelspec": {
            "display_name": "Python 3 (ipykernel)",
            "language": "python",
            "name": "python3"
        },
        "language_info": {
            "codemirror_mode": {
                "name": "ipython",
                "version": 3
            },
            "file_extension": ".py",
            "mimetype": "text/x-python",
            "name": "python",
            "nbconvert_exporter": "python",
            "pygments_lexer": "ipython3",
            "version": "3.11.2"
        }
    },
    "nbformat": 4,
    "nbformat_minor": 5
}