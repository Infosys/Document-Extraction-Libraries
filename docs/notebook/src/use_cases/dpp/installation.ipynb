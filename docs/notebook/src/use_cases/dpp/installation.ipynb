{
    "cells": [
        {
            "cell_type": "code",
            "execution_count": null,
            "id": "203cfd98-8dfe-4a85-9142-44e0b5f1b3ad",
            "metadata": {
                "tags": []
            },
            "outputs": [],
            "source": [
                "# ===============================================================================================================#\n",
                "# Copyright 2023 Infosys Ltd.                                                                          #\n",
                "# Use of this source code is governed by Apache License Version 2.0 that can be found in the LICENSE file or at  #\n",
                "# http://www.apache.org/licenses/                                                                                #\n",
                "# ===============================================================================================================#"
            ]
        },
        {
            "cell_type": "code",
            "execution_count": null,
            "id": "a46f6c92-fad6-4b9c-a2d1-c30af76dd2c8",
            "metadata": {
                "tags": []
            },
            "outputs": [],
            "source": [
                "import os\n",
                "from IPython.display import display, Markdown"
            ]
        },
        {
            "cell_type": "markdown",
            "id": "1a8989d2-a0b6-4005-a596-04db7f7da67d",
            "metadata": {},
            "source": [
                "# Pre-requisites"
            ]
        },
        {
            "cell_type": "markdown",
            "id": "da57ad41-e212-4c4e-838d-6352dbd99bec",
            "metadata": {},
            "source": [
                "- Python >3.10.5\n",
                "- Java Adopt Open JDK version 8 or higher\n",
                "- Apache Maven >= 3.8 "
            ]
        },
        {
            "cell_type": "markdown",
            "id": "fd452be7-7e32-43ce-bb74-ea4a819afa84",
            "metadata": {},
            "source": [
                "# 1. Installation"
            ]
        },
        {
            "cell_type": "markdown",
            "id": "1299858e-c694-4dad-95d8-af6084ffe163",
            "metadata": {},
            "source": [
                "#### 1.1. Install required libraries (python >3.8.3) [STEP 1 of 6]"
            ]
        },
        {
            "cell_type": "code",
            "execution_count": null,
            "id": "664def13-534a-42ef-9450-9d53c16d640e",
            "metadata": {
                "tags": []
            },
            "outputs": [],
            "source": [
                "!python.exe -m pip install --upgrade pip"
            ]
        },
        {
            "cell_type": "code",
            "execution_count": null,
            "id": "b5f98566-bf97-4a2e-80f2-08f483414ada",
            "metadata": {
                "tags": []
            },
            "outputs": [],
            "source": [
                "#Temporary patches\n",
                "# For below error:\n",
                "#     [WinError 126] The specified module could not be found. Error loading \n",
                "#     \"\\.venv\\Lib\\site-packages\\torch\\lib\\fbgemm.dll\" or one of its dependencies.\n",
                "!pip install --upgrade torchvision==0.18.1"
            ]
        },
        {
            "cell_type": "code",
            "execution_count": null,
            "id": "af3c7443-b396-48b5-9f77-94b50422116f",
            "metadata": {
                "tags": []
            },
            "outputs": [],
            "source": [
                "!pip install --upgrade ../../../lib/infy_fs_utils-0.0.4-py3-none-any.whl\n",
                "!pip install --upgrade ../../../lib/infy_gen_ai_sdk-0.0.6-py3-none-any.whl[st]\n",
                "!pip install --upgrade ../../../lib/infy_common_utils-0.0.10-py3-none-any.whl\n",
                "!pip install --upgrade ../../../lib/infy_ocr_generator-0.0.13-py3-none-any.whl[tesseract]\n",
                "!pip install --upgrade ../../../lib/infy_ocr_parser-0.0.17-py3-none-any.whl\n",
                "!pip install --upgrade ../../../lib/infy_table_extractor-0.0.12-py3-none-any.whl\n",
                "\n",
                "!pip install --upgrade ../../../lib/infy_dpp_sdk-0.0.10-py3-none-any.whl\n",
                "!pip install --upgrade ../../../lib/infy_dpp_core-0.0.3-py3-none-any.whl\n",
                "!pip install --upgrade ../../../lib/infy_dpp_content_extractor-0.0.4-py3-none-any.whl\n",
                "!pip install --upgrade ../../../lib/infy_dpp_segmentation-0.0.8-py3-none-any.whl\n",
                "!pip install --upgrade ../../../lib/infy_dpp_ai-0.0.5-py3-none-any.whl\n",
                "!pip install --upgrade ../../../lib/infy_dpp_storage-0.0.1-py3-none-any.whl\n",
                "\n",
                "!pip install --upgrade ../../../lib/infy_model_evaluation-0.0.3-py3-none-any.whl\n",
                "!pip install --upgrade ../../../lib/infy_dpp_evaluator-0.0.2-py3-none-any.whl\n",
                "\n",
                "!echo \"Installation complete\""
            ]
        },
        {
            "cell_type": "markdown",
            "id": "c454e7b9-4b62-417f-a14d-dc216696ab14",
            "metadata": {},
            "source": [
                "#### 1.2. Download Models [STEP 2 of 6]"
            ]
        },
        {
            "cell_type": "markdown",
            "id": "c1404f0d-e551-41c1-b4ab-238343d20625",
            "metadata": {},
            "source": [
                "##### 1.2.1 all-MiniLM-L6-v2\n",
                "<div style=\"line-height: 1;\">\n",
                "<span style=\"color:Blue\"> <b>NOTE: </b>Skip if already downloaded as part of previous installation.</span>\n",
                "</div>\n",
                "Run below from command prompt.\n",
                "\n",
                "<pre style=\"background-color:#FFFDD0\">\n",
                "mkdir C:\\MyProgramFiles\\AI\\models\n",
                "cd C:\\MyProgramFiles\\AI\\models\n",
                "git lfs install\n",
                "git clone https://huggingface.co/sentence-transformers/all-MiniLM-L6-v2\n",
                "</pre>"
            ]
        },
        {
            "cell_type": "markdown",
            "id": "6df6deda-e203-4b14-9ec9-cb79a6db92a0",
            "metadata": {
                "tags": []
            },
            "source": [
                "##### 1.2.2 yolo_x_layout\n",
                "<div style=\"line-height: 1;\"> \n",
                "<span style=\"color:Blue\"> <b>NOTE: </b>Skip if already downloaded as part of previous installation.</span>\n",
                "</div>\n",
                "Run below from command prompt.\n",
                "\n",
                "<pre style=\"background-color:#FFFDD0\">\n",
                "mkdir C:\\MyProgramFiles\\AI\\models\\unstructuredio\n",
                "cd C:\\MyProgramFiles\\AI\\models\\unstructuredio\n",
                "git lfs install\n",
                "git clone https://huggingface.co/unstructuredio/yolo_x_layout\n",
                "</pre>"
            ]
        },
        {
            "cell_type": "markdown",
            "id": "2e93e212-689a-4f9b-b1c1-e6275774702e",
            "metadata": {
                "tags": []
            },
            "source": [
                "##### 1.2.3  NLTK data setup script \n",
                "<div style=\"line-height: 1;\"> \n",
                "<span style=\"color:Blue\"> <b>NOTE: </b>Skip if already downloaded as part of previous installation.</span>\n",
                "</div>\n"
            ]
        },
        {
            "cell_type": "code",
            "execution_count": null,
            "id": "8e080556-6d3c-4ef6-a2d5-d8d334196837",
            "metadata": {
                "tags": []
            },
            "outputs": [],
            "source": [
                "\"\"\" NLTK data setup script \"\"\"\n",
                "import os\n",
                "try:\n",
                "    import nltk\n",
                "except ImportError:\n",
                "    print(\"The 'nltk' library is not installed. Please install it using 'pip install nltk' and try again.\")\n",
                "    exit(1)\n",
                "\n",
                "\n",
                "print(\"Set the base directory for NLTK data(e.g: C:/MyProgramFiles/AI): \")\n",
                "BASE_DIR = \"C:/MyProgramFiles/AI\"\n",
                "\n",
                "print(\"Base directory: \", BASE_DIR)\n",
                "custom_dir = os.path.join(BASE_DIR, \"nltk_data\").replace(\"\\\\\", \"/\")\n",
                "\n",
                "if not os.path.exists(custom_dir):\n",
                "    os.makedirs(custom_dir)\n",
                "\n",
                "nltk.download('punkt', download_dir=custom_dir)\n",
                "nltk.download('stopwords', download_dir=custom_dir)\n",
                "nltk.data.path.append(custom_dir)"
            ]
        },
        {
            "cell_type": "markdown",
            "id": "e2ebdc23-e9bd-4b62-94a2-943d54ed30c2",
            "metadata": {},
            "source": [
                "####  Temporary patches\n",
                "#####  For below error:\n",
                "###### HTTPSConnectionPool(host='openaipublic.blob.core.windows.net', port=443):Max retries exceeded with url: /encodings/p50k_base.tiktoken (Caused by SSLError(SSLCertVerificationError(1, '[SSL: CERTIFICATE_VERIFY_FAILED] certificate verify failed:unable to get local issuer certificate (_ssl.c:992)\n",
                "\n",
                "##### Follow below:\n",
                "- Please open tiktoken url (here https://openaipublic.blob.core.windows.net/encodings/p50k_base.tiktoken) in a browser, it will automatically download a file.\n",
                "- Keep that file in \"C:\\MyProgramFiles\\AI\\models\\tiktoken_encoding\"\n",
                "- Rename the file with it's hash value i.e. ec7223a39ce59f226a68acc30dc1af2788490e15  \n",
                "  Hash name of a file can be generated by running below python code."
            ]
        },
        {
            "cell_type": "code",
            "execution_count": null,
            "id": "51f6989f-f4e4-4fa3-95a8-f4c2b9c894d2",
            "metadata": {},
            "outputs": [],
            "source": [
                "#For tiktoken issue:\n",
                "import hashlib\n",
                "x=\"https://openaipublic.blob.core.windows.net/encodings/p50k_base.tiktoken\"\n",
                "hashlib.sha1(x.encode()).hexdigest()\n",
                "#ec7223a39ce59f226a68acc30dc1af2788490e15"
            ]
        },
        {
            "cell_type": "markdown",
            "id": "3f46ec0b-ec8b-4373-848c-878ed8170664",
            "metadata": {},
            "source": [
                "#### 1.3. Build InfyFormatConverterJAR  [STEP 3 of 6]"
            ]
        },
        {
            "cell_type": "code",
            "execution_count": null,
            "id": "ddfdd3da-f1df-4cc2-af9e-cb364ab5d407",
            "metadata": {},
            "outputs": [],
            "source": [
                "format_converter_library_path=os.path.abspath(os.getcwd(\n",
                ")+\"../../../../../../InfyFormatConverterJAR\")\n",
                "DESCRIPTION=f\"\"\"\n",
                "- Open command prompt and run below commands\n",
                "    <pre style=\"background-color:#FFFDD0\">\n",
                "    cd {format_converter_library_path}\n",
                "    .\\BuildJAR.bat\n",
                "    mkdir C:\\MyProgramFiles\\InfyFormatConverter\n",
                "    copy \".\\\\target\\EXECUTABLE\\*.jar\" \"C:\\MyProgramFiles\\InfyFormatConverter\\\"\n",
                "    </pre>\"\"\"\n",
                "display(Markdown(DESCRIPTION))"
            ]
        },
        {
            "cell_type": "markdown",
            "id": "1b32fcee-9fea-4b38-9bbd-22ac4188c862",
            "metadata": {},
            "source": [
                "#### 1.4. Build InfyOcrEngineJAR (for Tess4J - Tesseract for Java) [STEP 4 of 6]"
            ]
        },
        {
            "cell_type": "markdown",
            "id": "50124aa1-ef78-4fec-943d-0af447bf592b",
            "metadata": {},
            "source": [
                "<div style=\"line-height: 1;\">\n",
                "<span style=\"color:Red\"> <b>NOTE: </b>Skip this section if you already have <b>tesseract executable </b> in your system (e.g. <i>tesseract.exe</i> in windows or <i>tesseract</i> in linux).<br>\n",
                " The default configuration in the pipeline is to use the jar file.\n",
                "</span>\n",
                "</div>"
            ]
        },
        {
            "cell_type": "markdown",
            "id": "1ee59a28-e6f2-4793-854f-f5aaf7c6395f",
            "metadata": {},
            "source": [
                "##### 1.4.1 Download model files - tessdata\n",
                "<div style=\"line-height: 1;\">\n",
                "<span style=\"color:Blue\"> <b>NOTE: </b>Skip if already downloaded as part of previous installation.</span>\n",
                "</div>\n",
                "Run below from command prompt.\n",
                "<pre style=\"background-color:#FFFDD0\">\n",
                "mkdir C:\\MyProgramFiles\\AI\\models\\tessdata\n",
                "cd C:\\MyProgramFiles\\AI\\models\\tessdata\n",
                "curl -L -O https://raw.githubusercontent.com/tesseract-ocr/tessdata/main/eng.traineddata\n",
                "</pre>"
            ]
        },
        {
            "cell_type": "markdown",
            "id": "045c8c84-e844-46a7-9830-c9a2497f3f06",
            "metadata": {},
            "source": [
                "##### 1.4.2 JAR creation"
            ]
        },
        {
            "cell_type": "code",
            "execution_count": null,
            "id": "daed7579-e904-4f54-8daa-9c5f453b2495",
            "metadata": {},
            "outputs": [],
            "source": [
                "ocr_engine_library_path=os.path.abspath(os.getcwd()+\"../../../../../../InfyOcrEngineJAR\")\n",
                "DESCRIPTION=f\"\"\"\n",
                "- Open command prompt and run below commands\n",
                "    <pre style=\"background-color:#FFFDD0\">\n",
                "    cd {ocr_engine_library_path}\n",
                "    .\\BuildJAR.bat\n",
                "    mkdir C:\\MyProgramFiles\\InfyOcrEngine\n",
                "    copy \".\\\\target\\EXECUTABLE\\*.jar\" \"C:\\MyProgramFiles\\InfyOcrEngine\\\"\n",
                "    </pre>\"\"\"\n",
                "display(Markdown(DESCRIPTION))"
            ]
        },
        {
            "cell_type": "markdown",
            "id": "04bf6d53-6d9b-48bc-a2a8-8a9d3f31a0d7",
            "metadata": {},
            "source": [
                "#### 1.5. Set keys and URL [STEP 5 of 6]\n",
                "##### 1.5.1 Retrieve already stored values (if they exist)"
            ]
        },
        {
            "cell_type": "code",
            "execution_count": null,
            "id": "251be705-3980-4f2f-b97e-6be16d97e300",
            "metadata": {
                "tags": []
            },
            "outputs": [],
            "source": [
                "try:\n",
                "    #Retrieve values from local store.\n",
                "    %store -r CUSTOM_LLM_BLOOM_INFERENCE_URL\n",
                "    print('CUSTOM_LLM_BLOOM_INFERENCE_URL=',CUSTOM_LLM_BLOOM_INFERENCE_URL)\n",
                "    %store -r CUSTOM_LLM_LLAMA_INFERENCE_URL \n",
                "    print('CUSTOM_LLM_LLAMA_INFERENCE_URL=',CUSTOM_LLM_LLAMA_INFERENCE_URL)\n",
                "    %store -r CUSTOM_LLM_MIXTRAL_INFERENCE_URL \n",
                "    print('CUSTOM_LLM_MIXTRAL_INFERENCE_URL=',CUSTOM_LLM_MIXTRAL_INFERENCE_URL)\n",
                "    %store -r CUSTOM_LLM_LLAMA_3_1_INFERENCE_URL \n",
                "    print('CUSTOM_LLM_LLAMA_3_1_INFERENCE_URL=',CUSTOM_LLM_LLAMA_3_1_INFERENCE_URL)\n",
                "    %store -r OPENAI_KEY\n",
                "    print('OPENAI_KEY=',OPENAI_KEY)\n",
                "    %store -r OPENAI_SERVER_URL\n",
                "    print('OPENAI_SERVER_URL=',OPENAI_SERVER_URL)\n",
                "    %store -r CUSTOM_EMB_MISTRAL_INFERENCE_URL\n",
                "    print('CUSTOM_EMB_MISTRAL_INFERENCE_URL=',CUSTOM_EMB_MISTRAL_INFERENCE_URL)\n",
                "    %store -r NEO4J_URL\n",
                "    print('NEO4J_URL=',NEO4J_URL)\n",
                "    %store -r NEO4J_USR_NAME\n",
                "    print('NEO4J_USR_NAME=',NEO4J_USR_NAME)\n",
                "    %store -r NEO4J_PWD\n",
                "    print('NEO4J_PWD=',NEO4J_PWD)\n",
                "except:\n",
                "    DESCRIPTION=f\"\"\"<span style=\"color:red\">\n",
                "    Values are not set.\n",
                "    Please run the next few cells to enter values and store them.\n",
                "    </span>\"\"\"\n",
                "    display(Markdown(DESCRIPTION))"
            ]
        },
        {
            "cell_type": "markdown",
            "id": "883d63ba-473e-41b5-9070-c019f4d1d4ad",
            "metadata": {},
            "source": [
                "##### 1.5.2 Please enter the values  <i class=\"fa fa-keyboard-o\" style=\"font-size:30px;color:red\"></i>\n",
                "<div style=\"line-height: 1;\">\n",
                "<span style=\"color:Red\"> <b>NOTE: </b>Skip this section if values are already set, otherwise they will be blanked out.</span>\n",
                "</div>"
            ]
        },
        {
            "cell_type": "code",
            "execution_count": null,
            "id": "de099f29-0225-41d1-899d-850e08595e1c",
            "metadata": {
                "tags": []
            },
            "outputs": [],
            "source": [
                "#Put custom LLM model server url for inferencing (One which you wish to use)\n",
                "CUSTOM_LLM_BLOOM_INFERENCE_URL=\"\"\n",
                "CUSTOM_LLM_LLAMA_INFERENCE_URL=\"\"\n",
                "CUSTOM_LLM_MIXTRAL_INFERENCE_URL=\"\"\n",
                "CUSTOM_LLM_LLAMA_3_1_INFERENCE_URL=\"\"\n",
                "#Put your openai access key and url(Only if you wish to use openai)\n",
                "OPENAI_KEY=\"\"\n",
                "OPENAI_SERVER_URL=\"\"\n",
                "#Put custom Embedding model server url\n",
                "CUSTOM_EMB_MISTRAL_INFERENCE_URL=\"\"\n",
                "#Put Neo4j credentials (Only if you wish to use graphdb pipeline)\n",
                "NEO4J_URL=\"\"\n",
                "NEO4J_USR_NAME=\"\"\n",
                "NEO4J_PWD=\"\""
            ]
        },
        {
            "cell_type": "markdown",
            "id": "5058dc33-e5d3-41e2-a3b9-cfff9ec83dde",
            "metadata": {},
            "source": [
                "##### 1.5.3 Store above entered values.\n",
                "<div style=\"line-height: 1;\">\n",
                "<span style=\"color:Blue\"> <b>NOTE: </b>In Windows OS the values are stored at below location.<br>\n",
                "`C:\\Users\\xxx\\.ipython\\profile_default\\db\\autorestore`\n",
                "</span></div>"
            ]
        },
        {
            "cell_type": "code",
            "execution_count": null,
            "id": "5acec96d-87d9-41ef-b559-abff4894289d",
            "metadata": {
                "tags": []
            },
            "outputs": [],
            "source": [
                "#Stores above values into local store.\n",
                "%store CUSTOM_LLM_BLOOM_INFERENCE_URL\n",
                "%store CUSTOM_LLM_LLAMA_INFERENCE_URL\n",
                "%store CUSTOM_LLM_MIXTRAL_INFERENCE_URL\n",
                "%store CUSTOM_LLM_LLAMA_3_1_INFERENCE_URL\n",
                "%store OPENAI_KEY\n",
                "%store OPENAI_SERVER_URL\n",
                "%store CUSTOM_EMB_MISTRAL_INFERENCE_URL\n",
                "%store NEO4J_URL\n",
                "%store NEO4J_USR_NAME\n",
                "%store NEO4J_PWD"
            ]
        },
        {
            "cell_type": "markdown",
            "id": "887685e5-3374-4502-915c-07db1e1a3316",
            "metadata": {
                "tags": []
            },
            "source": [
                "#### 1.6. Installation (Optional) [STEP 6 of 6]\n",
                "\n",
                "1. **Neo4j**: \n",
                "- This is a graph database management system. Please ensure it is installed and setup correctly in your system.\n",
                "- The following software is required to run `uc_31_indexing_graphdb.ipynb`\n"
            ]
        },
        {
            "cell_type": "markdown",
            "id": "a50b7c0e-1be8-45c4-ac8a-1b5dedbe31d3",
            "metadata": {
                "tags": []
            },
            "source": [
                "####  <span style=\"color:Green\">Installation Completed</span>"
            ]
        },
        {
            "cell_type": "markdown",
            "id": "c3656820-143a-4e47-aaff-217f6e00525b",
            "metadata": {},
            "source": [
                "<hr>\n",
                "\n",
                "#### Appendix\n",
                "#### Troubleshooting"
            ]
        },
        {
            "cell_type": "markdown",
            "id": "4a3d028d-87e4-4658-9e11-531d37599b6d",
            "metadata": {},
            "source": [
                "#### Issue #1 - Model `all-MiniLM-L6-v2` download failed\n",
                "\n",
                "- Download `all-MiniLM-L6-v2`pretrained model by following https://pypi.org/project/sentence-transformers/ to `C:/MyProgramFiles/AI/models` and keep folder name same as model name e.g.`C:/MyProgramFiles/AI/models/all-MiniLM-L6-v2`\n",
                "- After copying model verify it by cheking if this path exist `C:\\MyProgramFiles\\AI\\models\\all-MiniLM-L6-v2\\pytorch_model.bin`"
            ]
        },
        {
            "cell_type": "markdown",
            "id": "1a9c5931-3546-4cc8-8323-cea6a71e7cef",
            "metadata": {},
            "source": [
                "#### Issue #2 - Model `tessdata` download failed\n",
                "\n",
                "- Create the directory containing the model files .i.e. `C:\\MyProgramFiles\\AI\\models\\tessdata`.\n",
                "- The model files are of the format `*.traineddata`. E.g. `eng.traineddata`\n",
                "- The language-specific model files can be downloaded from https://github.com/tesseract-ocr/tessdata\n",
                "- After copying language-specific model files verify if `C:\\MyProgramFiles\\AI\\models\\tessdata\\eng.traineddata` path exist.\n"
            ]
        },
        {
            "cell_type": "markdown",
            "id": "f7ceff89-98d3-4f01-a598-4abf64351ed8",
            "metadata": {},
            "source": [
                "<hr/>"
            ]
        },
        {
            "cell_type": "markdown",
            "id": "f5ef4937-3028-40e2-8455-d303223c2f46",
            "metadata": {},
            "source": [
                "# 2. Maintenance (Optional)\n",
                "<span style='color:red'><b>NOTE:</b> This section is for maintenance purpose <i>only</i> so you may skip.</span>"
            ]
        },
        {
            "cell_type": "markdown",
            "id": "dba45cd4-d377-4ad1-8e8b-53f223cff362",
            "metadata": {},
            "source": [
                "#### 2.1. Clear output from all notebook files"
            ]
        },
        {
            "cell_type": "code",
            "execution_count": null,
            "id": "a2185f36-3e65-4930-acba-1e7a4d0e3e5a",
            "metadata": {},
            "outputs": [],
            "source": [
                "from _internal_utils.notebook_util import NotebookUtil\n",
                "\n",
                "NB_ROOT_FOLDER_PATH = '.'\n",
                "EXCLUDE_NB_FILE_LIST = ['installation.ipynb']\n",
                "NotebookUtil.clear_output(NB_ROOT_FOLDER_PATH, EXCLUDE_NB_FILE_LIST, \n",
                "                          recursive=True, dry_run_mode=False)"
            ]
        },
        {
            "cell_type": "markdown",
            "id": "c82b63f8-8289-499c-90f1-d0c71e868c09",
            "metadata": {},
            "source": [
                "#### 2.2 Uninstall libraries (Only, if required)"
            ]
        },
        {
            "cell_type": "code",
            "execution_count": null,
            "id": "5fb2eb16-2fed-4571-b7dc-5235d48a2657",
            "metadata": {
                "tags": []
            },
            "outputs": [],
            "source": [
                "# Uncomment one or more lines as per requirement to execute\n",
                "\n",
                "# !pip uninstall -y infy_fs_utils\n",
                "# !pip uninstall -y infy_gen_ai_sdk\n",
                "\n",
                "# !pip uninstall -y infy_common_utils\n",
                "# !pip uninstall -y infy_ocr_generator\n",
                "# !pip uninstall -y infy_ocr_parser\n",
                "# !pip uninstall -y infy_table_extractor\n",
                "\n",
                "# !pip uninstall -y infy_dpp_sdk\n",
                "# !pip uninstall -y infy_dpp_core\n",
                "# !pip uninstall -y infy_dpp_content_extractor\n",
                "# !pip uninstall -y infy_dpp_segmentation\n",
                "# !pip uninstall -y infy_dpp_ai\n",
                "# !pip uninstall -y infy_dpp_storage\n",
                "# !pip uninstall -y infy_model_evaluation\n",
                "# !pip uninstall -y infy_dpp_evaluator\n",
                "\n",
                "# !echo \"Uninstall complete\""
            ]
        },
        {
            "cell_type": "markdown",
            "id": "4dcdc460-53cc-41a1-ab35-bfb3c4d8c644",
            "metadata": {},
            "source": [
                "<hr/>"
            ]
        }
    ],
    "metadata": {
        "kernelspec": {
            "display_name": "Python 3 (ipykernel)",
            "language": "python",
            "name": "python3"
        },
        "language_info": {
            "codemirror_mode": {
                "name": "ipython",
                "version": 3
            },
            "file_extension": ".py",
            "mimetype": "text/x-python",
            "name": "python",
            "nbconvert_exporter": "python",
            "pygments_lexer": "ipython3",
            "version": "3.10.5"
        }
    },
    "nbformat": 4,
    "nbformat_minor": 5
}