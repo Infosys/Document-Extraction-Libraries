{
    "cells": [
        {
            "cell_type": "code",
            "execution_count": null,
            "id": "a813a11a-fd97-4371-8d23-f81dca533c9a",
            "metadata": {},
            "outputs": [],
            "source": [
                "# ===============================================================================================================#\n",
                "# Copyright 2024 Infosys Ltd.                                                                          #\n",
                "# Use of this source code is governed by Apache License Version 2.0 that can be found in the LICENSE file or at  #\n",
                "# http://www.apache.org/licenses/                                                                                #\n",
                "# ===============================================================================================================#"
            ]
        },
        {
            "cell_type": "markdown",
            "id": "c2fe4da7-d98f-43f9-9d76-de115242d45f",
            "metadata": {},
            "source": [
                "## UC_51 - Inferencing_online Pipeline\n",
                "<div  style=\"line-height: 1;\">\n",
                "    <span style=\"color:Green\">Demonstrates inferencing without dependency on group_request_file.</span></div>"
            ]
        },
        {
            "cell_type": "markdown",
            "id": "4c99afeb-da74-448c-adbc-bb5630f17250",
            "metadata": {},
            "source": [
                "#### Import libraries"
            ]
        },
        {
            "cell_type": "code",
            "execution_count": null,
            "id": "493b386b-5d7f-4241-9400-8a27b8022908",
            "metadata": {},
            "outputs": [],
            "source": [
                "import os\n",
                "import json\n",
                "import shutil\n",
                "import pandas as pd\n",
                "import infy_dpp_sdk\n",
                "import infy_fs_utils\n",
                "from _internal_utils.pipeline_helper import PipelineHelper\n",
                "import warnings\n",
                "warnings.simplefilter(\"ignore\")"
            ]
        },
        {
            "cell_type": "markdown",
            "id": "a57efaff-a1f6-4da2-8500-488ca651e81b",
            "metadata": {},
            "source": [
                "#### Set environment variables\n",
                "<div  style=\"line-height: 1;\">\n",
                "    <span style=\"color:Red\"><b>NOTE:</b> The Pipeline uses environment variables which needs to be set by the developer.<br>\n",
                "In production developer needs to set them as required.<br>\n",
                "In this notebook you can provide them using the below code.<br>\n",
                "To set or change the value please refer <i>installation.ipynb</i></span>\n",
                "</div>"
            ]
        },
        {
            "cell_type": "code",
            "execution_count": null,
            "id": "0db07e6f-1e1e-41b9-b4c5-c11c40fd9088",
            "metadata": {},
            "outputs": [],
            "source": [
                "%store -r USE_LOCAL_STORE\n",
                "if 'USE_LOCAL_STORE' in locals() and USE_LOCAL_STORE:\n",
                "    %store -r AZURE_OPENAI_SERVER_BASE_URL\n",
                "    os.environ['AZURE_OPENAI_SERVER_BASE_URL']=AZURE_OPENAI_SERVER_BASE_URL\n",
                "    %store -r AZURE_OPENAI_SECRET_KEY\n",
                "    os.environ['AZURE_OPENAI_SECRET_KEY']=AZURE_OPENAI_SECRET_KEY\n",
                "    %store -r LITELLM_PROXY_SERVER_BASE_URL\n",
                "    os.environ['LITELLM_PROXY_SERVER_BASE_URL']=LITELLM_PROXY_SERVER_BASE_URL\n",
                "    %store -r LITELLM_PROXY_SECRET_KEY\n",
                "    os.environ['LITELLM_PROXY_SECRET_KEY']=LITELLM_PROXY_SECRET_KEY\n",
                "    %store -r INFY_DB_SERVICE_BASE_URL\n",
                "    os.environ['INFY_DB_SERVICE_BASE_URL']=INFY_DB_SERVICE_BASE_URL\n",
                "    %store -r INFY_MODEL_SERVICE_BASE_URL\n",
                "    os.environ['INFY_MODEL_SERVICE_BASE_URL']=INFY_MODEL_SERVICE_BASE_URL\n",
                "    %store -r INFY_RESOURCE_SERVICE_BASE_URL\n",
                "    os.environ['INFY_RESOURCE_SERVICE_BASE_URL']=INFY_RESOURCE_SERVICE_BASE_URL\n",
                "    %store -r INFY_SEARCH_SERVICE_BASE_URL\n",
                "    os.environ['INFY_SEARCH_SERVICE_BASE_URL']=INFY_SEARCH_SERVICE_BASE_URL\n",
                "else:\n",
                "    print(\"USE_LOCAL_STORE is not set to true. DPP pipeline will use system environment variables.\")"
            ]
        },
        {
            "cell_type": "markdown",
            "id": "dcf99568-167d-44c0-9330-48b4eb8d7d88",
            "metadata": {},
            "source": [
                "#### Define configuration file path"
            ]
        },
        {
            "cell_type": "code",
            "execution_count": null,
            "id": "713cbdb2-87cf-47ad-b7f9-4c145f8d1332",
            "metadata": {},
            "outputs": [],
            "source": [
                "STORAGE_ROOT_PATH = 'C:/del/fs/notebookuc/STORAGE'\n",
                "CONTAINER_ROOT_PATH = 'C:/del/fs/notebookuc/CONTAINER'\n",
                "PIPELINE_INPUT_CONFIG_FILE_PATH = '/data/config/dpp_pipeline_inference_online_input_config.json'"
            ]
        },
        {
            "cell_type": "markdown",
            "id": "e76d8e48-53a8-407f-b9d1-621065a8ccb9",
            "metadata": {},
            "source": [
                "#### Copying files\n",
                "<div  style=\"line-height: 1;\"><span style=\"color:Red\"><b>NOTE: </b>In this notebook below is used to copy sample files to folders in <i>STORAGE_ROOT_PATH</i>.<br>\n",
                "In production the data and config files should kept under respective folders in <i>STORAGE_ROOT_PATH </i>.<br>\n",
                "<span></div>"
            ]
        },
        {
            "cell_type": "code",
            "execution_count": null,
            "id": "fe17d208-636c-4d69-8408-9aec2b930580",
            "metadata": {},
            "outputs": [],
            "source": [
                "current_data_path = os.path.abspath('./data')\n",
                "\n",
                "if not os.path.exists(f'{STORAGE_ROOT_PATH}/data'):\n",
                "    os.makedirs(f'{STORAGE_ROOT_PATH}/data')\n",
                "if not os.path.exists(f'{STORAGE_ROOT_PATH}/data/input'):\n",
                "    os.makedirs(f'{STORAGE_ROOT_PATH}/data/input')     \n",
                "shutil.copytree(f'{current_data_path}/sample/config',f'{STORAGE_ROOT_PATH}/data/config',\n",
                "                dirs_exist_ok=True)"
            ]
        },
        {
            "cell_type": "markdown",
            "id": "1ff0e189-1291-4389-9f45-bfef6a16b1a2",
            "metadata": {},
            "source": [
                "#### Initialize Client Config"
            ]
        },
        {
            "cell_type": "code",
            "execution_count": null,
            "id": "92806b8d-9f94-42e1-ad65-c3b8a3bd3080",
            "metadata": {},
            "outputs": [],
            "source": [
                "storage_config_data = infy_fs_utils.data.StorageConfigData(\n",
                "        **{\n",
                "            \"storage_root_uri\": f\"file://{STORAGE_ROOT_PATH}\",\n",
                "            \"storage_server_url\": \"\",\n",
                "            \"storage_access_key\": \"\",\n",
                "            \"storage_secret_key\": \"\"\n",
                "        })\n",
                "\n",
                "file_sys_handler = infy_fs_utils.provider.FileSystemHandler(\n",
                "    storage_config_data)\n",
                "if not infy_fs_utils.manager.FileSystemManager().has_fs_handler(\n",
                "    infy_dpp_sdk.common.Constants.FSH_DPP):\n",
                "    infy_fs_utils.manager.FileSystemManager().set_root_handler_name(\n",
                "                    infy_dpp_sdk.common.Constants.FSH_DPP)\n",
                "    infy_fs_utils.manager.FileSystemManager().add_fs_handler(file_sys_handler)"
            ]
        },
        {
            "cell_type": "code",
            "execution_count": null,
            "id": "e4568879-eb03-4200-bd80-bbfd8d61c18c",
            "metadata": {},
            "outputs": [],
            "source": [
                "# Configure client properties\n",
                "client_config_data = infy_dpp_sdk.ClientConfigData(\n",
                "    **{\n",
                "        \"container_data\": {\n",
                "            \"container_root_path\": f\"{CONTAINER_ROOT_PATH}\",\n",
                "        }\n",
                "    })\n",
                "infy_dpp_sdk.ClientConfigManager().load(client_config_data)"
            ]
        },
        {
            "cell_type": "markdown",
            "id": "c27cd994-cec2-45b8-9115-38c244b18768",
            "metadata": {},
            "source": [
                "#### Initialize Logging"
            ]
        },
        {
            "cell_type": "code",
            "execution_count": null,
            "id": "70059612-7df0-4fa0-9288-a740fdbd28e1",
            "metadata": {},
            "outputs": [],
            "source": [
                "import logging\n",
                "# Modify as required to control the overall logging level\n",
                "logging.basicConfig(level=logging.ERROR)\n",
                "logging_config_data = infy_fs_utils.data.LoggingConfigData(\n",
                "        **{\n",
                "            # \"logger_group_name\": \"my_group_1\",\n",
                "            \"logging_level\": 40,\n",
                "            \"logging_format\": \"\",\n",
                "            \"logging_timestamp_format\": \"\",\n",
                "            \"log_file_data\": {\n",
                "                \"log_file_dir_path\": \"/logs\",\n",
                "                \"log_file_name_prefix\": \"inference_online\",\n",
                "                # \"log_file_name_suffix\": \"1\",\n",
                "                \"log_file_extension\": \".log\"\n",
                "\n",
                "            }})"
            ]
        },
        {
            "cell_type": "code",
            "execution_count": null,
            "id": "409ac049-6b6d-458c-81da-efe0a6bdbc7e",
            "metadata": {},
            "outputs": [],
            "source": [
                "if not infy_fs_utils.manager.FileSystemLoggingManager().has_fs_logging_handler(\n",
                "    infy_dpp_sdk.common.Constants.FSLH_DPP):\n",
                "    file_sys_logging_handler = infy_fs_utils.provider.FileSystemLoggingHandler(\n",
                "                logging_config_data, file_sys_handler)\n",
                "    infy_fs_utils.manager.FileSystemLoggingManager(\n",
                "            ).set_root_handler_name(infy_dpp_sdk.common.Constants.FSLH_DPP)\n",
                "    infy_fs_utils.manager.FileSystemLoggingManager(\n",
                "            ).add_fs_logging_handler(file_sys_logging_handler)"
            ]
        },
        {
            "cell_type": "markdown",
            "id": "c3932891-a0f4-44d6-bff4-b8dc616e6d44",
            "metadata": {},
            "source": [
                "### Query(Picked from config file)"
            ]
        },
        {
            "cell_type": "code",
            "execution_count": null,
            "id": "ceb850b5-23f2-446c-b3d7-002a37041149",
            "metadata": {},
            "outputs": [],
            "source": [
                "input_config_data=json.loads(file_sys_handler.read_file(\n",
                "                    PIPELINE_INPUT_CONFIG_FILE_PATH))\n",
                "print(input_config_data['processor_input_config']['QueryRetriever']['queries'][0]\\\n",
                "      ['question'])"
            ]
        },
        {
            "cell_type": "markdown",
            "id": "ce25dbe7-eb26-45ac-b392-5470087472cf",
            "metadata": {},
            "source": [
                "## Inference Pipeline"
            ]
        },
        {
            "cell_type": "code",
            "execution_count": null,
            "id": "0bcd198b-7c47-4b65-89d1-fdfee74d8968",
            "metadata": {},
            "outputs": [],
            "source": [
                "# ---- Create response data -----\n",
                "metadata = infy_dpp_sdk.data.MetaData(\n",
                "    standard_data=infy_dpp_sdk.data.StandardData(\n",
                "        filepath=infy_dpp_sdk.data.ValueData()))\n",
                "document_data = infy_dpp_sdk.data.DocumentData(metadata=metadata)\n",
                "context_data = {\n",
                "}\n",
                "response_data = infy_dpp_sdk.data.ProcessorResponseData(\n",
                "    document_data=document_data, context_data=context_data)\n",
                "document_data_json=json.loads(response_data.model_dump_json(indent=4))"
            ]
        },
        {
            "cell_type": "code",
            "execution_count": null,
            "id": "f58615ce-7b78-4d7f-a5ba-bc9ffe77bfa3",
            "metadata": {},
            "outputs": [],
            "source": [
                "dpp_orchestrator = infy_dpp_sdk.orchestrator.OrchestratorNativeBasic(\n",
                "        input_config_file_path=PIPELINE_INPUT_CONFIG_FILE_PATH)"
            ]
        },
        {
            "cell_type": "code",
            "execution_count": null,
            "id": "8ee1f1b4-152f-4c6c-962b-ffd4b3eb4626",
            "metadata": {},
            "outputs": [],
            "source": [
                "processor_response_list = dpp_orchestrator.run_batch(\n",
                "                    [infy_dpp_sdk.data.DocumentData(**document_data_json.\\\n",
                "                                                    get('document_data'))],\n",
                "                    [document_data_json.get('context_data')])"
            ]
        },
        {
            "cell_type": "markdown",
            "id": "2ddd522b-9d61-4278-9830-dc7201fdaf34",
            "metadata": {},
            "source": [
                "### Verify results"
            ]
        },
        {
            "cell_type": "code",
            "execution_count": null,
            "id": "cd94b153-0a6d-46c1-ae6e-d92533074363",
            "metadata": {},
            "outputs": [],
            "source": [
                "top_k_matches=processor_response_list[0].context_data.get(\n",
                "    \"query_retriever\").get(\"queries\")[0].get(\"top_k_matches\")\n",
                "data={\n",
                "    \"Content\":[db_match.get(\"content\") for match in top_k_matches for db_val in match.values() for db_match in db_val],\n",
                "    \"Score\":[db_match.get(\"score\") for match in top_k_matches for db_val in match.values() for db_match in db_val],\n",
                "    \"Metadata-page_no\":[db_match.get(\"meta_data\").get(\"page_no\") for match in top_k_matches for db_val in match.values() for db_match in db_val],\n",
                "    \"Metadata-doc_name\":[db_match.get(\"meta_data\").get(\"doc_name\") for match in top_k_matches for db_val in match.values() for db_match in db_val]\n",
                "}\n",
                "pd.DataFrame(data)"
            ]
        },
        {
            "cell_type": "code",
            "execution_count": null,
            "id": "30ba3c03-e385-45a0-ae69-fe2f008d9c74",
            "metadata": {},
            "outputs": [],
            "source": [
                "print(\"Output of inference pipeline is: \")"
            ]
        },
        {
            "cell_type": "code",
            "execution_count": null,
            "id": "7026da43-26ac-4a26-a838-85e15cfb8f6c",
            "metadata": {},
            "outputs": [],
            "source": [
                "output_list=processor_response_list[0].context_data.get(\"reader\").get(\"output\")\n",
                "model_output=output_list[0].get(\"model_output\")\n",
                "if isinstance(model_output, dict):\n",
                "    print(\"answer:\",model_output.get(\"answer\"))\n",
                "    print(\"page_no:\",model_output.get(\"sources\")[0].get(\"page_no\"))\n",
                "    print(\"confidence_pct:\",model_output.get(\"confidence_pct\"))\n",
                "else:\n",
                "    print(model_output)"
            ]
        },
        {
            "cell_type": "code",
            "execution_count": null,
            "id": "4c331510-bae3-44ec-aa18-c3d0daa5a411",
            "metadata": {},
            "outputs": [],
            "source": [
                "# print(json.dumps(processor_response_list[0].context_data.get(\"reader\"),indent=4))"
            ]
        }
    ],
    "metadata": {
        "language_info": {
            "name": "python"
        }
    },
    "nbformat": 4,
    "nbformat_minor": 5
}